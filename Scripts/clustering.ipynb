{
 "cells": [
  {
   "cell_type": "code",
   "execution_count": 45,
   "id": "01279a48",
   "metadata": {},
   "outputs": [],
   "source": [
    "import pandas as pd \n",
    "disasters_df = pd.read_csv('../Data/merged_df.csv')"
   ]
  },
  {
   "cell_type": "code",
   "execution_count": 46,
   "id": "02c5b974",
   "metadata": {},
   "outputs": [
    {
     "data": {
      "text/html": [
       "<div>\n",
       "<style scoped>\n",
       "    .dataframe tbody tr th:only-of-type {\n",
       "        vertical-align: middle;\n",
       "    }\n",
       "\n",
       "    .dataframe tbody tr th {\n",
       "        vertical-align: top;\n",
       "    }\n",
       "\n",
       "    .dataframe thead th {\n",
       "        text-align: right;\n",
       "    }\n",
       "</style>\n",
       "<table border=\"1\" class=\"dataframe\">\n",
       "  <thead>\n",
       "    <tr style=\"text-align: right;\">\n",
       "      <th></th>\n",
       "      <th>Country</th>\n",
       "      <th>Year</th>\n",
       "      <th>Annual CO₂ emissions (per capita)</th>\n",
       "      <th>Annual precipitation</th>\n",
       "      <th>Latitude</th>\n",
       "      <th>Longitude</th>\n",
       "      <th>AvgTemp_Year</th>\n",
       "      <th>Disaster Type</th>\n",
       "      <th>Total Events</th>\n",
       "      <th>Total Affected</th>\n",
       "      <th>Total Deaths</th>\n",
       "      <th>Total Damage (USD, adjusted)</th>\n",
       "      <th>CPI</th>\n",
       "    </tr>\n",
       "  </thead>\n",
       "  <tbody>\n",
       "    <tr>\n",
       "      <th>0</th>\n",
       "      <td>Afghanistan</td>\n",
       "      <td>1956.0</td>\n",
       "      <td>0.021669</td>\n",
       "      <td>397.5075</td>\n",
       "      <td>34.56N</td>\n",
       "      <td>70.05E</td>\n",
       "      <td>14.579417</td>\n",
       "      <td>Flood</td>\n",
       "      <td>1.0</td>\n",
       "      <td>7500.0</td>\n",
       "      <td>51.0</td>\n",
       "      <td>8342696.0</td>\n",
       "      <td>9.288532</td>\n",
       "    </tr>\n",
       "    <tr>\n",
       "      <th>1</th>\n",
       "      <td>Afghanistan</td>\n",
       "      <td>1956.0</td>\n",
       "      <td>0.021669</td>\n",
       "      <td>397.5075</td>\n",
       "      <td>34.56N</td>\n",
       "      <td>70.05E</td>\n",
       "      <td>14.579417</td>\n",
       "      <td>Flood</td>\n",
       "      <td>1.0</td>\n",
       "      <td>7500.0</td>\n",
       "      <td>51.0</td>\n",
       "      <td>8342696.0</td>\n",
       "      <td>9.288532</td>\n",
       "    </tr>\n",
       "    <tr>\n",
       "      <th>2</th>\n",
       "      <td>Afghanistan</td>\n",
       "      <td>1956.0</td>\n",
       "      <td>0.021669</td>\n",
       "      <td>397.5075</td>\n",
       "      <td>34.56N</td>\n",
       "      <td>70.05E</td>\n",
       "      <td>14.579417</td>\n",
       "      <td>Flood</td>\n",
       "      <td>1.0</td>\n",
       "      <td>7500.0</td>\n",
       "      <td>51.0</td>\n",
       "      <td>8342696.0</td>\n",
       "      <td>9.288532</td>\n",
       "    </tr>\n",
       "    <tr>\n",
       "      <th>3</th>\n",
       "      <td>Afghanistan</td>\n",
       "      <td>1956.0</td>\n",
       "      <td>0.021669</td>\n",
       "      <td>397.5075</td>\n",
       "      <td>34.56N</td>\n",
       "      <td>70.05E</td>\n",
       "      <td>14.579417</td>\n",
       "      <td>Flood</td>\n",
       "      <td>1.0</td>\n",
       "      <td>7500.0</td>\n",
       "      <td>51.0</td>\n",
       "      <td>8342696.0</td>\n",
       "      <td>9.288532</td>\n",
       "    </tr>\n",
       "    <tr>\n",
       "      <th>4</th>\n",
       "      <td>Afghanistan</td>\n",
       "      <td>1956.0</td>\n",
       "      <td>0.021669</td>\n",
       "      <td>397.5075</td>\n",
       "      <td>34.56N</td>\n",
       "      <td>70.05E</td>\n",
       "      <td>14.579417</td>\n",
       "      <td>Flood</td>\n",
       "      <td>1.0</td>\n",
       "      <td>7500.0</td>\n",
       "      <td>51.0</td>\n",
       "      <td>8342696.0</td>\n",
       "      <td>9.288532</td>\n",
       "    </tr>\n",
       "  </tbody>\n",
       "</table>\n",
       "</div>"
      ],
      "text/plain": [
       "       Country    Year  Annual CO₂ emissions (per capita)  \\\n",
       "0  Afghanistan  1956.0                           0.021669   \n",
       "1  Afghanistan  1956.0                           0.021669   \n",
       "2  Afghanistan  1956.0                           0.021669   \n",
       "3  Afghanistan  1956.0                           0.021669   \n",
       "4  Afghanistan  1956.0                           0.021669   \n",
       "\n",
       "   Annual precipitation Latitude Longitude  AvgTemp_Year Disaster Type  \\\n",
       "0              397.5075   34.56N    70.05E     14.579417         Flood   \n",
       "1              397.5075   34.56N    70.05E     14.579417         Flood   \n",
       "2              397.5075   34.56N    70.05E     14.579417         Flood   \n",
       "3              397.5075   34.56N    70.05E     14.579417         Flood   \n",
       "4              397.5075   34.56N    70.05E     14.579417         Flood   \n",
       "\n",
       "   Total Events  Total Affected  Total Deaths  Total Damage (USD, adjusted)  \\\n",
       "0           1.0          7500.0          51.0                     8342696.0   \n",
       "1           1.0          7500.0          51.0                     8342696.0   \n",
       "2           1.0          7500.0          51.0                     8342696.0   \n",
       "3           1.0          7500.0          51.0                     8342696.0   \n",
       "4           1.0          7500.0          51.0                     8342696.0   \n",
       "\n",
       "        CPI  \n",
       "0  9.288532  \n",
       "1  9.288532  \n",
       "2  9.288532  \n",
       "3  9.288532  \n",
       "4  9.288532  "
      ]
     },
     "execution_count": 46,
     "metadata": {},
     "output_type": "execute_result"
    }
   ],
   "source": [
    "disasters_df.head()"
   ]
  },
  {
   "cell_type": "code",
   "execution_count": 47,
   "id": "bee44e36",
   "metadata": {},
   "outputs": [
    {
     "data": {
      "text/html": [
       "<div>\n",
       "<style scoped>\n",
       "    .dataframe tbody tr th:only-of-type {\n",
       "        vertical-align: middle;\n",
       "    }\n",
       "\n",
       "    .dataframe tbody tr th {\n",
       "        vertical-align: top;\n",
       "    }\n",
       "\n",
       "    .dataframe thead th {\n",
       "        text-align: right;\n",
       "    }\n",
       "</style>\n",
       "<table border=\"1\" class=\"dataframe\">\n",
       "  <thead>\n",
       "    <tr style=\"text-align: right;\">\n",
       "      <th></th>\n",
       "      <th>pop2025</th>\n",
       "      <th>pop2050</th>\n",
       "      <th>country</th>\n",
       "      <th>area</th>\n",
       "      <th>landAreaKm</th>\n",
       "      <th>cca2</th>\n",
       "      <th>cca3</th>\n",
       "      <th>density</th>\n",
       "      <th>growthRate</th>\n",
       "      <th>worldPercentage</th>\n",
       "      <th>rank</th>\n",
       "    </tr>\n",
       "  </thead>\n",
       "  <tbody>\n",
       "    <tr>\n",
       "      <th>0</th>\n",
       "      <td>1463870000</td>\n",
       "      <td>1679590000</td>\n",
       "      <td>India</td>\n",
       "      <td>3287590.0</td>\n",
       "      <td>2973190.0</td>\n",
       "      <td>IN</td>\n",
       "      <td>IND</td>\n",
       "      <td>492.3567</td>\n",
       "      <td>0.0089</td>\n",
       "      <td>0.1829</td>\n",
       "      <td>1</td>\n",
       "    </tr>\n",
       "    <tr>\n",
       "      <th>1</th>\n",
       "      <td>1416100000</td>\n",
       "      <td>1260290000</td>\n",
       "      <td>China</td>\n",
       "      <td>9706961.0</td>\n",
       "      <td>9424702.9</td>\n",
       "      <td>CN</td>\n",
       "      <td>CHN</td>\n",
       "      <td>150.2541</td>\n",
       "      <td>-0.0023</td>\n",
       "      <td>0.1769</td>\n",
       "      <td>2</td>\n",
       "    </tr>\n",
       "    <tr>\n",
       "      <th>2</th>\n",
       "      <td>347276000</td>\n",
       "      <td>380847000</td>\n",
       "      <td>United States</td>\n",
       "      <td>9372610.0</td>\n",
       "      <td>9147420.0</td>\n",
       "      <td>US</td>\n",
       "      <td>USA</td>\n",
       "      <td>37.9644</td>\n",
       "      <td>0.0054</td>\n",
       "      <td>0.0434</td>\n",
       "      <td>3</td>\n",
       "    </tr>\n",
       "    <tr>\n",
       "      <th>3</th>\n",
       "      <td>285721000</td>\n",
       "      <td>320713000</td>\n",
       "      <td>Indonesia</td>\n",
       "      <td>1904569.0</td>\n",
       "      <td>1877519.0</td>\n",
       "      <td>ID</td>\n",
       "      <td>IDN</td>\n",
       "      <td>152.1801</td>\n",
       "      <td>0.0079</td>\n",
       "      <td>0.0357</td>\n",
       "      <td>4</td>\n",
       "    </tr>\n",
       "    <tr>\n",
       "      <th>4</th>\n",
       "      <td>255220000</td>\n",
       "      <td>371864000</td>\n",
       "      <td>Pakistan</td>\n",
       "      <td>881912.0</td>\n",
       "      <td>770880.0</td>\n",
       "      <td>PK</td>\n",
       "      <td>PAK</td>\n",
       "      <td>331.0762</td>\n",
       "      <td>0.0157</td>\n",
       "      <td>0.0319</td>\n",
       "      <td>5</td>\n",
       "    </tr>\n",
       "  </tbody>\n",
       "</table>\n",
       "</div>"
      ],
      "text/plain": [
       "      pop2025     pop2050        country       area  landAreaKm cca2 cca3  \\\n",
       "0  1463870000  1679590000          India  3287590.0   2973190.0   IN  IND   \n",
       "1  1416100000  1260290000          China  9706961.0   9424702.9   CN  CHN   \n",
       "2   347276000   380847000  United States  9372610.0   9147420.0   US  USA   \n",
       "3   285721000   320713000      Indonesia  1904569.0   1877519.0   ID  IDN   \n",
       "4   255220000   371864000       Pakistan   881912.0    770880.0   PK  PAK   \n",
       "\n",
       "    density  growthRate  worldPercentage  rank  \n",
       "0  492.3567      0.0089           0.1829     1  \n",
       "1  150.2541     -0.0023           0.1769     2  \n",
       "2   37.9644      0.0054           0.0434     3  \n",
       "3  152.1801      0.0079           0.0357     4  \n",
       "4  331.0762      0.0157           0.0319     5  "
      ]
     },
     "execution_count": 47,
     "metadata": {},
     "output_type": "execute_result"
    }
   ],
   "source": [
    "population_df = pd.read_csv('../Data/populations.csv')\n",
    "population_df.head()"
   ]
  },
  {
   "cell_type": "code",
   "execution_count": 48,
   "id": "88914123",
   "metadata": {},
   "outputs": [
    {
     "data": {
      "text/plain": [
       "10"
      ]
     },
     "execution_count": 48,
     "metadata": {},
     "output_type": "execute_result"
    }
   ],
   "source": [
    "dist_disasters = disasters_df['Disaster Type'].nunique()\n",
    "dist_disasters"
   ]
  },
  {
   "cell_type": "code",
   "execution_count": 49,
   "id": "a9be4006",
   "metadata": {},
   "outputs": [
    {
     "data": {
      "text/plain": [
       "31"
      ]
     },
     "execution_count": 49,
     "metadata": {},
     "output_type": "execute_result"
    }
   ],
   "source": [
    "unique_values = disasters_df['Country'].nunique()\n",
    "unique_values"
   ]
  },
  {
   "cell_type": "code",
   "execution_count": 50,
   "id": "4a84c1b6",
   "metadata": {},
   "outputs": [],
   "source": [
    "relevant_disasters = ['Flood', 'Drought', 'Earthquake', 'Insect infestation', 'Storm',\n",
    "       'Wildfire', 'Landslide', 'Extreme temperature ',\n",
    "       'Mass movement (dry)', 'Volcanic activity']\n",
    "df_disasters = disasters_df[disasters_df[\"Disaster Type\"].isin(relevant_disasters)]\n",
    "\n",
    "# Step 2: Group by Country and Disaster Type\n",
    "df_disaster_counts = df_disasters.groupby([\"Country\", \"Disaster Type\"])[\"Total Events\"].sum().unstack(fill_value=0).reset_index()"
   ]
  },
  {
   "cell_type": "code",
   "execution_count": 51,
   "id": "fbd82cbe",
   "metadata": {},
   "outputs": [],
   "source": [
    "# Assuming df_disaster_counts is already created from your disaster data\n",
    "# Merge on 'Country' and 'country' (case-insensitive match)\n",
    "df_disaster_counts[\"Country_lower\"] = df_disaster_counts[\"Country\"].str.lower()\n",
    "population_df[\"country_lower\"] = population_df[\"country\"].str.lower()\n",
    "\n",
    "# Merge the population data\n",
    "merged_df = pd.merge(df_disaster_counts, \n",
    "                     population_df[[\"country_lower\", \"pop2025\"]], \n",
    "                     left_on=\"Country_lower\", \n",
    "                     right_on=\"country_lower\", \n",
    "                     how=\"left\")\n",
    "\n",
    "# Clean up\n",
    "merged_df.drop(columns=[\"Country_lower\", \"country_lower\"], inplace=True)\n"
   ]
  },
  {
   "cell_type": "code",
   "execution_count": 52,
   "id": "3fe2439f",
   "metadata": {},
   "outputs": [
    {
     "data": {
      "text/html": [
       "<div>\n",
       "<style scoped>\n",
       "    .dataframe tbody tr th:only-of-type {\n",
       "        vertical-align: middle;\n",
       "    }\n",
       "\n",
       "    .dataframe tbody tr th {\n",
       "        vertical-align: top;\n",
       "    }\n",
       "\n",
       "    .dataframe thead th {\n",
       "        text-align: right;\n",
       "    }\n",
       "</style>\n",
       "<table border=\"1\" class=\"dataframe\">\n",
       "  <thead>\n",
       "    <tr style=\"text-align: right;\">\n",
       "      <th></th>\n",
       "      <th>Country</th>\n",
       "      <th>Drought</th>\n",
       "      <th>Earthquake</th>\n",
       "      <th>Extreme temperature</th>\n",
       "      <th>Flood</th>\n",
       "      <th>Insect infestation</th>\n",
       "      <th>Landslide</th>\n",
       "      <th>Mass movement (dry)</th>\n",
       "      <th>Storm</th>\n",
       "      <th>Volcanic activity</th>\n",
       "      <th>Wildfire</th>\n",
       "      <th>pop2025</th>\n",
       "    </tr>\n",
       "  </thead>\n",
       "  <tbody>\n",
       "    <tr>\n",
       "      <th>0</th>\n",
       "      <td>Afghanistan</td>\n",
       "      <td>24.0</td>\n",
       "      <td>153.0</td>\n",
       "      <td>24.0</td>\n",
       "      <td>108.0</td>\n",
       "      <td>12.0</td>\n",
       "      <td>45.0</td>\n",
       "      <td>0.0</td>\n",
       "      <td>48.0</td>\n",
       "      <td>0.0</td>\n",
       "      <td>12.0</td>\n",
       "      <td>43844100</td>\n",
       "    </tr>\n",
       "    <tr>\n",
       "      <th>1</th>\n",
       "      <td>Angola</td>\n",
       "      <td>48.0</td>\n",
       "      <td>0.0</td>\n",
       "      <td>0.0</td>\n",
       "      <td>105.0</td>\n",
       "      <td>0.0</td>\n",
       "      <td>12.0</td>\n",
       "      <td>0.0</td>\n",
       "      <td>0.0</td>\n",
       "      <td>0.0</td>\n",
       "      <td>0.0</td>\n",
       "      <td>39040000</td>\n",
       "    </tr>\n",
       "    <tr>\n",
       "      <th>2</th>\n",
       "      <td>Australia</td>\n",
       "      <td>72.0</td>\n",
       "      <td>48.0</td>\n",
       "      <td>0.0</td>\n",
       "      <td>480.0</td>\n",
       "      <td>48.0</td>\n",
       "      <td>48.0</td>\n",
       "      <td>0.0</td>\n",
       "      <td>504.0</td>\n",
       "      <td>0.0</td>\n",
       "      <td>216.0</td>\n",
       "      <td>26974000</td>\n",
       "    </tr>\n",
       "    <tr>\n",
       "      <th>3</th>\n",
       "      <td>Bangladesh</td>\n",
       "      <td>12.0</td>\n",
       "      <td>60.0</td>\n",
       "      <td>60.0</td>\n",
       "      <td>84.0</td>\n",
       "      <td>0.0</td>\n",
       "      <td>36.0</td>\n",
       "      <td>0.0</td>\n",
       "      <td>204.0</td>\n",
       "      <td>0.0</td>\n",
       "      <td>0.0</td>\n",
       "      <td>175687000</td>\n",
       "    </tr>\n",
       "    <tr>\n",
       "      <th>4</th>\n",
       "      <td>Brazil</td>\n",
       "      <td>432.0</td>\n",
       "      <td>144.0</td>\n",
       "      <td>288.0</td>\n",
       "      <td>1296.0</td>\n",
       "      <td>72.0</td>\n",
       "      <td>432.0</td>\n",
       "      <td>0.0</td>\n",
       "      <td>1062.0</td>\n",
       "      <td>0.0</td>\n",
       "      <td>216.0</td>\n",
       "      <td>212812000</td>\n",
       "    </tr>\n",
       "  </tbody>\n",
       "</table>\n",
       "</div>"
      ],
      "text/plain": [
       "       Country  Drought  Earthquake  Extreme temperature    Flood  \\\n",
       "0  Afghanistan     24.0       153.0                  24.0   108.0   \n",
       "1       Angola     48.0         0.0                   0.0   105.0   \n",
       "2    Australia     72.0        48.0                   0.0   480.0   \n",
       "3   Bangladesh     12.0        60.0                  60.0    84.0   \n",
       "4       Brazil    432.0       144.0                 288.0  1296.0   \n",
       "\n",
       "   Insect infestation  Landslide  Mass movement (dry)   Storm  \\\n",
       "0                12.0       45.0                  0.0    48.0   \n",
       "1                 0.0       12.0                  0.0     0.0   \n",
       "2                48.0       48.0                  0.0   504.0   \n",
       "3                 0.0       36.0                  0.0   204.0   \n",
       "4                72.0      432.0                  0.0  1062.0   \n",
       "\n",
       "   Volcanic activity  Wildfire    pop2025  \n",
       "0                0.0      12.0   43844100  \n",
       "1                0.0       0.0   39040000  \n",
       "2                0.0     216.0   26974000  \n",
       "3                0.0       0.0  175687000  \n",
       "4                0.0     216.0  212812000  "
      ]
     },
     "execution_count": 52,
     "metadata": {},
     "output_type": "execute_result"
    }
   ],
   "source": [
    "merged_df.head()"
   ]
  },
  {
   "cell_type": "code",
   "execution_count": 53,
   "id": "a4baa6ee",
   "metadata": {},
   "outputs": [
    {
     "data": {
      "text/plain": [
       "Country                 0\n",
       "Drought                 0\n",
       "Earthquake              0\n",
       "Extreme temperature     0\n",
       "Flood                   0\n",
       "Insect infestation      0\n",
       "Landslide               0\n",
       "Mass movement (dry)     0\n",
       "Storm                   0\n",
       "Volcanic activity       0\n",
       "Wildfire                0\n",
       "pop2025                 0\n",
       "dtype: int64"
      ]
     },
     "execution_count": 53,
     "metadata": {},
     "output_type": "execute_result"
    }
   ],
   "source": [
    "merged_df.isnull().sum()"
   ]
  },
  {
   "cell_type": "code",
   "execution_count": 54,
   "id": "a345087b",
   "metadata": {},
   "outputs": [],
   "source": [
    "merged_df.to_csv('../Data/cluster_df.csv', index=False)"
   ]
  },
  {
   "cell_type": "code",
   "execution_count": 55,
   "id": "1916ef27",
   "metadata": {},
   "outputs": [],
   "source": [
    "df = pd.read_csv(\"../Data/cluster_df.csv\")"
   ]
  },
  {
   "cell_type": "code",
   "execution_count": 56,
   "id": "9f0c5674",
   "metadata": {},
   "outputs": [],
   "source": [
    "import pandas as pd\n",
    "from sklearn.preprocessing import StandardScaler\n",
    "from sklearn.cluster import KMeans\n",
    "import matplotlib.pyplot as plt\n",
    "from sklearn.decomposition import PCA"
   ]
  },
  {
   "cell_type": "code",
   "execution_count": 57,
   "id": "ac90f66a",
   "metadata": {},
   "outputs": [
    {
     "name": "stdout",
     "output_type": "stream",
     "text": [
      "        Country  Disaster_Cluster              Cluster_Label\n",
      "23         Peru                 0      Low Disaster Activity\n",
      "6         Chile                 0      Low Disaster Activity\n",
      "19       Mexico                 0      Low Disaster Activity\n",
      "9         Egypt                 0      Low Disaster Activity\n",
      "4        Brazil                 1     Flood & Storm Dominant\n",
      "0   Afghanistan                 2  Moderate Disaster Profile\n",
      "28     Thailand                 2  Moderate Disaster Profile\n",
      "27        Spain                 2  Moderate Disaster Profile\n",
      "25      Somalia                 2  Moderate Disaster Profile\n",
      "18        Kenya                 2  Moderate Disaster Profile\n"
     ]
    }
   ],
   "source": [
    "import pandas as pd\n",
    "from sklearn.preprocessing import StandardScaler\n",
    "from sklearn.cluster import KMeans\n",
    "\n",
    "# Load your dataset\n",
    "df = pd.read_csv(\"../Data/cluster_df.csv\")  # Replace with the correct path\n",
    "\n",
    "# Step 1: Prepare features and scale\n",
    "X = df.drop(columns=[\"Country\"])\n",
    "scaler = StandardScaler()\n",
    "X_scaled = scaler.fit_transform(X)\n",
    "\n",
    "# Step 2: Fit KMeans\n",
    "kmeans = KMeans(n_clusters=10, random_state=42)\n",
    "df[\"Disaster_Cluster\"] = kmeans.fit_predict(X_scaled)\n",
    "\n",
    "# Step 3: Assign descriptive labels to clusters\n",
    "cluster_labels = {\n",
    "    0: \"Low Disaster Activity\",\n",
    "    1: \"Flood & Storm Dominant\",\n",
    "    2: \"Moderate Disaster Profile\",\n",
    "    3: \"Earthquake Prone\",\n",
    "    4: \"Volcanic Countries\",\n",
    "    5: \"Wildfire & Heat Prone\",\n",
    "    6: \"Floods & Droughts Mix\",\n",
    "    7: \"Minimal Disasters\",\n",
    "    8: \"Flood-Drought-Earthquake Mix\",\n",
    "    9: \"Balanced Moderate Activity\"\n",
    "}\n",
    "\n",
    "df[\"Cluster_Label\"] = df[\"Disaster_Cluster\"].map(cluster_labels)\n",
    "\n",
    "# Step 4: View clustered countries\n",
    "clustered_countries = df[[\"Country\", \"Disaster_Cluster\", \"Cluster_Label\"]].sort_values(\"Disaster_Cluster\")\n",
    "\n",
    "# Optional: Save to CSV\n",
    "clustered_countries.to_csv(\"../Data/clustered_countries_Kmeans.csv\", index=False)\n",
    "\n",
    "# Preview\n",
    "print(clustered_countries.head(10))\n"
   ]
  },
  {
   "cell_type": "code",
   "execution_count": 58,
   "id": "8447999e",
   "metadata": {},
   "outputs": [
    {
     "name": "stderr",
     "output_type": "stream",
     "text": [
      "<ipython-input-58-1c0120bcc392>:23: UserWarning:\n",
      "\n",
      "Glyph 128201 (\\N{CHART WITH DOWNWARDS TREND}) missing from current font.\n",
      "\n",
      "c:\\Users\\Nikitha\\anaconda3\\lib\\site-packages\\IPython\\core\\pylabtools.py:132: UserWarning:\n",
      "\n",
      "Glyph 128201 (\\N{CHART WITH DOWNWARDS TREND}) missing from current font.\n",
      "\n"
     ]
    },
    {
     "data": {
      "image/png": "[encoded data removed]",
      "text/plain": [
       "<Figure size 720x432 with 1 Axes>"
      ]
     },
     "metadata": {
      "needs_background": "light"
     },
     "output_type": "display_data"
    }
   ],
   "source": [
    "from sklearn.decomposition import PCA\n",
    "import matplotlib.pyplot as plt\n",
    "import seaborn as sns\n",
    "\n",
    "# Drop country and scale features\n",
    "X = df.drop(columns=[\"Country\", \"Disaster_Cluster\", \"Cluster_Label\"])\n",
    "scaler = StandardScaler()\n",
    "X_scaled = scaler.fit_transform(X)\n",
    "\n",
    "# Run PCA\n",
    "pca = PCA(n_components=2)\n",
    "pca_result = pca.fit_transform(X_scaled)\n",
    "df[\"PC1\"] = pca_result[:, 0]\n",
    "df[\"PC2\"] = pca_result[:, 1]\n",
    "\n",
    "# Plot\n",
    "plt.figure(figsize=(10, 6))\n",
    "sns.scatterplot(data=df, x=\"PC1\", y=\"PC2\", hue=\"Cluster_Label\", palette=\"tab10\")\n",
    "plt.title(\"📉 PCA Projection of Country Disaster Clusters\")\n",
    "plt.xlabel(\"Principal Component 1\")\n",
    "plt.ylabel(\"Principal Component 2\")\n",
    "plt.legend(bbox_to_anchor=(1.05, 1), loc='upper left')\n",
    "plt.tight_layout()\n",
    "plt.show()\n"
   ]
  },
  {
   "cell_type": "code",
   "execution_count": 59,
   "id": "060eb824",
   "metadata": {},
   "outputs": [
    {
     "data": {
      "application/vnd.plotly.v1+json": {
       "config": {
        "plotlyServerURL": "https://plot.ly"
       },
       "data": [
        {
         "colorscale": [
          [
           0,
           "rgb(141,211,199)"
          ],
          [
           1,
           "rgb(141,211,199)"
          ]
         ],
         "geo": "geo",
         "hovertemplate": "Cluster_Label=Moderate Disaster Profile<br>Country=%{location}<extra></extra>",
         "locationmode": "country names",
         "locations": [
          "Afghanistan",
          "Angola",
          "Bangladesh",
          "France",
          "Germany",
          "Iraq",
          "Italy",
          "Japan",
          "Kenya",
          "Somalia",
          "Spain",
          "Thailand",
          "Ukraine",
          "Zimbabwe"
         ],
         "name": "Moderate Disaster Profile",
         "showlegend": true,
         "showscale": false,
         "type": "choropleth",
         "z": [
          1,
          1,
          1,
          1,
          1,
          1,
          1,
          1,
          1,
          1,
          1,
          1,
          1,
          1
         ]
        },
        {
         "colorscale": [
          [
           0,
           "rgb(255,255,179)"
          ],
          [
           1,
           "rgb(255,255,179)"
          ]
         ],
         "geo": "geo",
         "hovertemplate": "Cluster_Label=Floods & Droughts Mix<br>Country=%{location}<extra></extra>",
         "locationmode": "country names",
         "locations": [
          "Australia",
          "Canada",
          "South Africa"
         ],
         "name": "Floods & Droughts Mix",
         "showlegend": true,
         "showscale": false,
         "type": "choropleth",
         "z": [
          1,
          1,
          1
         ]
        },
        {
         "colorscale": [
          [
           0,
           "rgb(190,186,218)"
          ],
          [
           1,
           "rgb(190,186,218)"
          ]
         ],
         "geo": "geo",
         "hovertemplate": "Cluster_Label=Flood & Storm Dominant<br>Country=%{location}<extra></extra>",
         "locationmode": "country names",
         "locations": [
          "Brazil"
         ],
         "name": "Flood & Storm Dominant",
         "showlegend": true,
         "showscale": false,
         "type": "choropleth",
         "z": [
          1
         ]
        },
        {
         "colorscale": [
          [
           0,
           "rgb(251,128,114)"
          ],
          [
           1,
           "rgb(251,128,114)"
          ]
         ],
         "geo": "geo",
         "hovertemplate": "Cluster_Label=Low Disaster Activity<br>Country=%{location}<extra></extra>",
         "locationmode": "country names",
         "locations": [
          "Chile",
          "Egypt",
          "Mexico",
          "Peru"
         ],
         "name": "Low Disaster Activity",
         "showlegend": true,
         "showscale": false,
         "type": "choropleth",
         "z": [
          1,
          1,
          1,
          1
         ]
        },
        {
         "colorscale": [
          [
           0,
           "rgb(128,177,211)"
          ],
          [
           1,
           "rgb(128,177,211)"
          ]
         ],
         "geo": "geo",
         "hovertemplate": "Cluster_Label=Volcanic Countries<br>Country=%{location}<extra></extra>",
         "locationmode": "country names",
         "locations": [
          "China"
         ],
         "name": "Volcanic Countries",
         "showlegend": true,
         "showscale": false,
         "type": "choropleth",
         "z": [
          1
         ]
        },
        {
         "colorscale": [
          [
           0,
           "rgb(253,180,98)"
          ],
          [
           1,
           "rgb(253,180,98)"
          ]
         ],
         "geo": "geo",
         "hovertemplate": "Cluster_Label=Flood-Drought-Earthquake Mix<br>Country=%{location}<extra></extra>",
         "locationmode": "country names",
         "locations": [
          "Colombia"
         ],
         "name": "Flood-Drought-Earthquake Mix",
         "showlegend": true,
         "showscale": false,
         "type": "choropleth",
         "z": [
          1
         ]
        },
        {
         "colorscale": [
          [
           0,
           "rgb(179,222,105)"
          ],
          [
           1,
           "rgb(179,222,105)"
          ]
         ],
         "geo": "geo",
         "hovertemplate": "Cluster_Label=Balanced Moderate Activity<br>Country=%{location}<extra></extra>",
         "locationmode": "country names",
         "locations": [
          "Ethiopia",
          "Morocco",
          "Nigeria",
          "Senegal"
         ],
         "name": "Balanced Moderate Activity",
         "showlegend": true,
         "showscale": false,
         "type": "choropleth",
         "z": [
          1,
          1,
          1,
          1
         ]
        },
        {
         "colorscale": [
          [
           0,
           "rgb(252,205,229)"
          ],
          [
           1,
           "rgb(252,205,229)"
          ]
         ],
         "geo": "geo",
         "hovertemplate": "Cluster_Label=Earthquake Prone<br>Country=%{location}<extra></extra>",
         "locationmode": "country names",
         "locations": [
          "India"
         ],
         "name": "Earthquake Prone",
         "showlegend": true,
         "showscale": false,
         "type": "choropleth",
         "z": [
          1
         ]
        },
        {
         "colorscale": [
          [
           0,
           "rgb(217,217,217)"
          ],
          [
           1,
           "rgb(217,217,217)"
          ]
         ],
         "geo": "geo",
         "hovertemplate": "Cluster_Label=Minimal Disasters<br>Country=%{location}<extra></extra>",
         "locationmode": "country names",
         "locations": [
          "Indonesia"
         ],
         "name": "Minimal Disasters",
         "showlegend": true,
         "showscale": false,
         "type": "choropleth",
         "z": [
          1
         ]
        },
        {
         "colorscale": [
          [
           0,
           "rgb(188,128,189)"
          ],
          [
           1,
           "rgb(188,128,189)"
          ]
         ],
         "geo": "geo",
         "hovertemplate": "Cluster_Label=Wildfire & Heat Prone<br>Country=%{location}<extra></extra>",
         "locationmode": "country names",
         "locations": [
          "Pakistan"
         ],
         "name": "Wildfire & Heat Prone",
         "showlegend": true,
         "showscale": false,
         "type": "choropleth",
         "z": [
          1
         ]
        }
       ],
       "layout": {
        "geo": {
         "center": {},
         "domain": {
          "x": [
           0,
           1
          ],
          "y": [
           0,
           1
          ]
         }
        },
        "legend": {
         "title": {
          "text": "Disaster Cluster"
         },
         "tracegroupgap": 0
        },
        "template": {
         "data": {
          "bar": [
           {
            "error_x": {
             "color": "#2a3f5f"
            },
            "error_y": {
             "color": "#2a3f5f"
            },
            "marker": {
             "line": {
              "color": "#E5ECF6",
              "width": 0.5
             },
             "pattern": {
              "fillmode": "overlay",
              "size": 10,
              "solidity": 0.2
             }
            },
            "type": "bar"
           }
          ],
          "barpolar": [
           {
            "marker": {
             "line": {
              "color": "#E5ECF6",
              "width": 0.5
             },
             "pattern": {
              "fillmode": "overlay",
              "size": 10,
              "solidity": 0.2
             }
            },
            "type": "barpolar"
           }
          ],
          "carpet": [
           {
            "aaxis": {
             "endlinecolor": "#2a3f5f",
             "gridcolor": "white",
             "linecolor": "white",
             "minorgridcolor": "white",
             "startlinecolor": "#2a3f5f"
            },
            "baxis": {
             "endlinecolor": "#2a3f5f",
             "gridcolor": "white",
             "linecolor": "white",
             "minorgridcolor": "white",
             "startlinecolor": "#2a3f5f"
            },
            "type": "carpet"
           }
          ],
          "choropleth": [
           {
            "colorbar": {
             "outlinewidth": 0,
             "ticks": ""
            },
            "type": "choropleth"
           }
          ],
          "contour": [
           {
            "colorbar": {
             "outlinewidth": 0,
             "ticks": ""
            },
            "colorscale": [
             [
              0,
              "#0d0887"
             ],
             [
              0.1111111111111111,
              "#46039f"
             ],
             [
              0.2222222222222222,
              "#7201a8"
             ],
             [
              0.3333333333333333,
              "#9c179e"
             ],
             [
              0.4444444444444444,
              "#bd3786"
             ],
             [
              0.5555555555555556,
              "#d8576b"
             ],
             [
              0.6666666666666666,
              "#ed7953"
             ],
             [
              0.7777777777777778,
              "#fb9f3a"
             ],
             [
              0.8888888888888888,
              "#fdca26"
             ],
             [
              1,
              "#f0f921"
             ]
            ],
            "type": "contour"
           }
          ],
          "contourcarpet": [
           {
            "colorbar": {
             "outlinewidth": 0,
             "ticks": ""
            },
            "type": "contourcarpet"
           }
          ],
          "heatmap": [
           {
            "colorbar": {
             "outlinewidth": 0,
             "ticks": ""
            },
            "colorscale": [
             [
              0,
              "#0d0887"
             ],
             [
              0.1111111111111111,
              "#46039f"
             ],
             [
              0.2222222222222222,
              "#7201a8"
             ],
             [
              0.3333333333333333,
              "#9c179e"
             ],
             [
              0.4444444444444444,
              "#bd3786"
             ],
             [
              0.5555555555555556,
              "#d8576b"
             ],
             [
              0.6666666666666666,
              "#ed7953"
             ],
             [
              0.7777777777777778,
              "#fb9f3a"
             ],
             [
              0.8888888888888888,
              "#fdca26"
             ],
             [
              1,
              "#f0f921"
             ]
            ],
            "type": "heatmap"
           }
          ],
          "histogram": [
           {
            "marker": {
             "pattern": {
              "fillmode": "overlay",
              "size": 10,
              "solidity": 0.2
             }
            },
            "type": "histogram"
           }
          ],
          "histogram2d": [
           {
            "colorbar": {
             "outlinewidth": 0,
             "ticks": ""
            },
            "colorscale": [
             [
              0,
              "#0d0887"
             ],
             [
              0.1111111111111111,
              "#46039f"
             ],
             [
              0.2222222222222222,
              "#7201a8"
             ],
             [
              0.3333333333333333,
              "#9c179e"
             ],
             [
              0.4444444444444444,
              "#bd3786"
             ],
             [
              0.5555555555555556,
              "#d8576b"
             ],
             [
              0.6666666666666666,
              "#ed7953"
             ],
             [
              0.7777777777777778,
              "#fb9f3a"
             ],
             [
              0.8888888888888888,
              "#fdca26"
             ],
             [
              1,
              "#f0f921"
             ]
            ],
            "type": "histogram2d"
           }
          ],
          "histogram2dcontour": [
           {
            "colorbar": {
             "outlinewidth": 0,
             "ticks": ""
            },
            "colorscale": [
             [
              0,
              "#0d0887"
             ],
             [
              0.1111111111111111,
              "#46039f"
             ],
             [
              0.2222222222222222,
              "#7201a8"
             ],
             [
              0.3333333333333333,
              "#9c179e"
             ],
             [
              0.4444444444444444,
              "#bd3786"
             ],
             [
              0.5555555555555556,
              "#d8576b"
             ],
             [
              0.6666666666666666,
              "#ed7953"
             ],
             [
              0.7777777777777778,
              "#fb9f3a"
             ],
             [
              0.8888888888888888,
              "#fdca26"
             ],
             [
              1,
              "#f0f921"
             ]
            ],
            "type": "histogram2dcontour"
           }
          ],
          "mesh3d": [
           {
            "colorbar": {
             "outlinewidth": 0,
             "ticks": ""
            },
            "type": "mesh3d"
           }
          ],
          "parcoords": [
           {
            "line": {
             "colorbar": {
              "outlinewidth": 0,
              "ticks": ""
             }
            },
            "type": "parcoords"
           }
          ],
          "pie": [
           {
            "automargin": true,
            "type": "pie"
           }
          ],
          "scatter": [
           {
            "fillpattern": {
             "fillmode": "overlay",
             "size": 10,
             "solidity": 0.2
            },
            "type": "scatter"
           }
          ],
          "scatter3d": [
           {
            "line": {
             "colorbar": {
              "outlinewidth": 0,
              "ticks": ""
             }
            },
            "marker": {
             "colorbar": {
              "outlinewidth": 0,
              "ticks": ""
             }
            },
            "type": "scatter3d"
           }
          ],
          "scattercarpet": [
           {
            "marker": {
             "colorbar": {
              "outlinewidth": 0,
              "ticks": ""
             }
            },
            "type": "scattercarpet"
           }
          ],
          "scattergeo": [
           {
            "marker": {
             "colorbar": {
              "outlinewidth": 0,
              "ticks": ""
             }
            },
            "type": "scattergeo"
           }
          ],
          "scattergl": [
           {
            "marker": {
             "colorbar": {
              "outlinewidth": 0,
              "ticks": ""
             }
            },
            "type": "scattergl"
           }
          ],
          "scattermap": [
           {
            "marker": {
             "colorbar": {
              "outlinewidth": 0,
              "ticks": ""
             }
            },
            "type": "scattermap"
           }
          ],
          "scattermapbox": [
           {
            "marker": {
             "colorbar": {
              "outlinewidth": 0,
              "ticks": ""
             }
            },
            "type": "scattermapbox"
           }
          ],
          "scatterpolar": [
           {
            "marker": {
             "colorbar": {
              "outlinewidth": 0,
              "ticks": ""
             }
            },
            "type": "scatterpolar"
           }
          ],
          "scatterpolargl": [
           {
            "marker": {
             "colorbar": {
              "outlinewidth": 0,
              "ticks": ""
             }
            },
            "type": "scatterpolargl"
           }
          ],
          "scatterternary": [
           {
            "marker": {
             "colorbar": {
              "outlinewidth": 0,
              "ticks": ""
             }
            },
            "type": "scatterternary"
           }
          ],
          "surface": [
           {
            "colorbar": {
             "outlinewidth": 0,
             "ticks": ""
            },
            "colorscale": [
             [
              0,
              "#0d0887"
             ],
             [
              0.1111111111111111,
              "#46039f"
             ],
             [
              0.2222222222222222,
              "#7201a8"
             ],
             [
              0.3333333333333333,
              "#9c179e"
             ],
             [
              0.4444444444444444,
              "#bd3786"
             ],
             [
              0.5555555555555556,
              "#d8576b"
             ],
             [
              0.6666666666666666,
              "#ed7953"
             ],
             [
              0.7777777777777778,
              "#fb9f3a"
             ],
             [
              0.8888888888888888,
              "#fdca26"
             ],
             [
              1,
              "#f0f921"
             ]
            ],
            "type": "surface"
           }
          ],
          "table": [
           {
            "cells": {
             "fill": {
              "color": "#EBF0F8"
             },
             "line": {
              "color": "white"
             }
            },
            "header": {
             "fill": {
              "color": "#C8D4E3"
             },
             "line": {
              "color": "white"
             }
            },
            "type": "table"
           }
          ]
         },
         "layout": {
          "annotationdefaults": {
           "arrowcolor": "#2a3f5f",
           "arrowhead": 0,
           "arrowwidth": 1
          },
          "autotypenumbers": "strict",
          "coloraxis": {
           "colorbar": {
            "outlinewidth": 0,
            "ticks": ""
           }
          },
          "colorscale": {
           "diverging": [
            [
             0,
             "#8e0152"
            ],
            [
             0.1,
             "#c51b7d"
            ],
            [
             0.2,
             "#de77ae"
            ],
            [
             0.3,
             "#f1b6da"
            ],
            [
             0.4,
             "#fde0ef"
            ],
            [
             0.5,
             "#f7f7f7"
            ],
            [
             0.6,
             "#e6f5d0"
            ],
            [
             0.7,
             "#b8e186"
            ],
            [
             0.8,
             "#7fbc41"
            ],
            [
             0.9,
             "#4d9221"
            ],
            [
             1,
             "#276419"
            ]
           ],
           "sequential": [
            [
             0,
             "#0d0887"
            ],
            [
             0.1111111111111111,
             "#46039f"
            ],
            [
             0.2222222222222222,
             "#7201a8"
            ],
            [
             0.3333333333333333,
             "#9c179e"
            ],
            [
             0.4444444444444444,
             "#bd3786"
            ],
            [
             0.5555555555555556,
             "#d8576b"
            ],
            [
             0.6666666666666666,
             "#ed7953"
            ],
            [
             0.7777777777777778,
             "#fb9f3a"
            ],
            [
             0.8888888888888888,
             "#fdca26"
            ],
            [
             1,
             "#f0f921"
            ]
           ],
           "sequentialminus": [
            [
             0,
             "#0d0887"
            ],
            [
             0.1111111111111111,
             "#46039f"
            ],
            [
             0.2222222222222222,
             "#7201a8"
            ],
            [
             0.3333333333333333,
             "#9c179e"
            ],
            [
             0.4444444444444444,
             "#bd3786"
            ],
            [
             0.5555555555555556,
             "#d8576b"
            ],
            [
             0.6666666666666666,
             "#ed7953"
            ],
            [
             0.7777777777777778,
             "#fb9f3a"
            ],
            [
             0.8888888888888888,
             "#fdca26"
            ],
            [
             1,
             "#f0f921"
            ]
           ]
          },
          "colorway": [
           "#636efa",
           "#EF553B",
           "#00cc96",
           "#ab63fa",
           "#FFA15A",
           "#19d3f3",
           "#FF6692",
           "#B6E880",
           "#FF97FF",
           "#FECB52"
          ],
          "font": {
           "color": "#2a3f5f"
          },
          "geo": {
           "bgcolor": "white",
           "lakecolor": "white",
           "landcolor": "#E5ECF6",
           "showlakes": true,
           "showland": true,
           "subunitcolor": "white"
          },
          "hoverlabel": {
           "align": "left"
          },
          "hovermode": "closest",
          "mapbox": {
           "style": "light"
          },
          "paper_bgcolor": "white",
          "plot_bgcolor": "#E5ECF6",
          "polar": {
           "angularaxis": {
            "gridcolor": "white",
            "linecolor": "white",
            "ticks": ""
           },
           "bgcolor": "#E5ECF6",
           "radialaxis": {
            "gridcolor": "white",
            "linecolor": "white",
            "ticks": ""
           }
          },
          "scene": {
           "xaxis": {
            "backgroundcolor": "#E5ECF6",
            "gridcolor": "white",
            "gridwidth": 2,
            "linecolor": "white",
            "showbackground": true,
            "ticks": "",
            "zerolinecolor": "white"
           },
           "yaxis": {
            "backgroundcolor": "#E5ECF6",
            "gridcolor": "white",
            "gridwidth": 2,
            "linecolor": "white",
            "showbackground": true,
            "ticks": "",
            "zerolinecolor": "white"
           },
           "zaxis": {
            "backgroundcolor": "#E5ECF6",
            "gridcolor": "white",
            "gridwidth": 2,
            "linecolor": "white",
            "showbackground": true,
            "ticks": "",
            "zerolinecolor": "white"
           }
          },
          "shapedefaults": {
           "line": {
            "color": "#2a3f5f"
           }
          },
          "ternary": {
           "aaxis": {
            "gridcolor": "white",
            "linecolor": "white",
            "ticks": ""
           },
           "baxis": {
            "gridcolor": "white",
            "linecolor": "white",
            "ticks": ""
           },
           "bgcolor": "#E5ECF6",
           "caxis": {
            "gridcolor": "white",
            "linecolor": "white",
            "ticks": ""
           }
          },
          "title": {
           "x": 0.05
          },
          "xaxis": {
           "automargin": true,
           "gridcolor": "white",
           "linecolor": "white",
           "ticks": "",
           "title": {
            "standoff": 15
           },
           "zerolinecolor": "white",
           "zerolinewidth": 2
          },
          "yaxis": {
           "automargin": true,
           "gridcolor": "white",
           "linecolor": "white",
           "ticks": "",
           "title": {
            "standoff": 15
           },
           "zerolinecolor": "white",
           "zerolinewidth": 2
          }
         }
        },
        "title": {
         "text": "🌍 Country Clustering Based on Disaster Exposure"
        }
       }
      }
     },
     "metadata": {},
     "output_type": "display_data"
    }
   ],
   "source": [
    "import plotly.express as px\n",
    "\n",
    "# Make sure country names are compatible (ISO or standard full names)\n",
    "fig = px.choropleth(df,\n",
    "                    locations=\"Country\",\n",
    "                    locationmode=\"country names\",\n",
    "                    color=\"Cluster_Label\",\n",
    "                    title=\"🌍 Country Clustering Based on Disaster Exposure\",\n",
    "                    color_discrete_sequence=px.colors.qualitative.Set3)\n",
    "\n",
    "fig.update_layout(legend_title_text='Disaster Cluster')\n",
    "fig.show()\n"
   ]
  },
  {
   "cell_type": "code",
   "execution_count": 60,
   "id": "5e09d22d",
   "metadata": {},
   "outputs": [
    {
     "name": "stdout",
     "output_type": "stream",
     "text": [
      "🔍 Silhouette Score         : 0.3565\n",
      "🔍 Davies-Bouldin Index     : 0.4998\n",
      "🔍 Calinski-Harabasz Index  : 31.13\n"
     ]
    }
   ],
   "source": [
    "from sklearn.metrics import silhouette_score, calinski_harabasz_score, davies_bouldin_score\n",
    "\n",
    "# Use the scaled data you clustered (X_scaled) and predicted labels\n",
    "silhouette = silhouette_score(X_scaled, df[\"Disaster_Cluster\"])\n",
    "db_index = davies_bouldin_score(X_scaled, df[\"Disaster_Cluster\"])\n",
    "ch_index = calinski_harabasz_score(X_scaled, df[\"Disaster_Cluster\"])\n",
    "\n",
    "print(f\"🔍 Silhouette Score         : {silhouette:.4f}\")\n",
    "print(f\"🔍 Davies-Bouldin Index     : {db_index:.4f}\")\n",
    "print(f\"🔍 Calinski-Harabasz Index  : {ch_index:.2f}\")"
   ]
  },
  {
   "cell_type": "markdown",
   "id": "edd2f492",
   "metadata": {},
   "source": [
    "## population added"
   ]
  },
  {
   "cell_type": "code",
   "execution_count": 61,
   "id": "5ecddb14",
   "metadata": {},
   "outputs": [],
   "source": [
    "import pandas as pd\n",
    "from sklearn.preprocessing import StandardScaler\n",
    "from sklearn.cluster import KMeans\n",
    "from sklearn.metrics import silhouette_score, calinski_harabasz_score, davies_bouldin_score\n",
    "from sklearn.decomposition import PCA\n",
    "import matplotlib.pyplot as plt\n",
    "import seaborn as sns\n",
    "\n",
    "# Load your data\n",
    "df = pd.read_csv(\"../Data/cluster_df.csv\")  # Make sure 'pop2025' is included\n",
    "\n",
    "# Select disaster features + population\n",
    "features = ['Drought', 'Earthquake', 'Extreme temperature ', 'Flood', 'Insect infestation',\n",
    "            'Landslide', 'Mass movement (dry)', 'Storm', 'Volcanic activity', 'Wildfire', 'pop2025']\n",
    "X = df[features]\n",
    "\n",
    "# Normalize\n",
    "scaler = StandardScaler()\n",
    "X_scaled = scaler.fit_transform(X)\n",
    "\n",
    "# # KMeans clustering\n",
    "# kmeans = KMeans(n_clusters=5, random_state=42)\n",
    "# df[\"Cluster_with_population\"] = kmeans.fit_predict(X_scaled)\n",
    "\n",
    "# # 📌 Optional: Assign meaningful labels to clusters (based on average disaster type per cluster)\n",
    "# cluster_profiles = df.groupby(\"Cluster_with_population\")[features].mean()\n",
    "\n",
    "# # Manually map cluster numbers to descriptive labels after inspecting the profiles\n",
    "# # (Example logic: label by dominant disaster type or population)\n",
    "# cluster_labels_map = {\n",
    "#     0: \"Flood & Earthquake Prone\",\n",
    "#     1: \"Low Disaster & Low Population\",\n",
    "#     2: \"Storm & Wildfire Dominant\",\n",
    "#     3: \"High Population Mixed Risk\",\n",
    "#     4: \"Heat & Drought Affected\"\n",
    "# }\n",
    "\n",
    "# df[\"Cluster_Label\"] = df[\"Cluster_with_population\"].map(cluster_labels_map)"
   ]
  },
  {
   "cell_type": "code",
   "execution_count": 62,
   "id": "70750833",
   "metadata": {},
   "outputs": [],
   "source": [
    "# silhouette = silhouette_score(X_scaled, df[\"Cluster_with_population\"])\n",
    "# db_index = davies_bouldin_score(X_scaled, df[\"Cluster_with_population\"])\n",
    "# ch_index = calinski_harabasz_score(X_scaled, df[\"Cluster_with_population\"])\n",
    "\n",
    "# print(f\"\\n🔍 Evaluation Metrics:\")\n",
    "# print(f\"Silhouette Score        : {silhouette:.4f}\")\n",
    "# print(f\"Davies-Bouldin Index    : {db_index:.4f}\")\n",
    "# print(f\"Calinski-Harabasz Index : {ch_index:.2f}\")"
   ]
  },
  {
   "cell_type": "code",
   "execution_count": 63,
   "id": "0a830851",
   "metadata": {},
   "outputs": [],
   "source": [
    "# # 📊 Visualize cluster profiles\n",
    "# plt.figure(figsize=(12, 6))\n",
    "# sns.heatmap(cluster_profiles, annot=True, fmt=\".1f\", cmap=\"YlOrBr\")\n",
    "# plt.title(\"🔥 Cluster Profiles by Disaster Type + Population\")\n",
    "# plt.ylabel(\"Cluster Number\")\n",
    "# plt.xlabel(\"Feature\")\n",
    "# plt.tight_layout()\n",
    "# plt.show()"
   ]
  },
  {
   "cell_type": "code",
   "execution_count": 64,
   "id": "6d2bc493",
   "metadata": {},
   "outputs": [],
   "source": [
    "# # 🎨 Optional PCA for visualization\n",
    "# pca = PCA(n_components=2)\n",
    "# pca_result = pca.fit_transform(X_scaled)\n",
    "# df[\"PCA1\"] = pca_result[:, 0]\n",
    "# df[\"PCA2\"] = pca_result[:, 1]\n",
    "\n",
    "# plt.figure(figsize=(10, 6))\n",
    "# sns.scatterplot(data=df, x=\"PCA1\", y=\"PCA2\", hue=\"Cluster_Label\", palette=\"tab10\", s=100)\n",
    "# plt.title(\"🌍 Country Clusters (PCA Projection)\")\n",
    "# plt.xlabel(\"PCA 1\")\n",
    "# plt.ylabel(\"PCA 2\")\n",
    "# plt.legend(title=\"Cluster Label\")\n",
    "# plt.grid(True)\n",
    "# plt.tight_layout()\n",
    "# plt.show()"
   ]
  },
  {
   "cell_type": "code",
   "execution_count": 65,
   "id": "4e8c255d",
   "metadata": {},
   "outputs": [],
   "source": [
    "# import plotly.express as px\n",
    "\n",
    "# # 🌍 World map visualization using Plotly\n",
    "# fig = px.choropleth(\n",
    "#     df,\n",
    "#     locations=\"Country\",  # column with country names\n",
    "#     locationmode=\"country names\",\n",
    "#     color=\"Cluster_Label\",  # your labeled clusters\n",
    "#     title=\"🌍 Country Clustering Based on Disaster Exposure and Population\",\n",
    "#     color_discrete_sequence=px.colors.qualitative.Set3,\n",
    "#     hover_name=\"Country\",  # shows country name on hover\n",
    "# )\n",
    "\n",
    "# fig.update_layout(\n",
    "#     legend_title_text=\"Disaster Cluster\",\n",
    "#     geo=dict(showframe=False, showcoastlines=True),\n",
    "# )\n",
    "# fig.show()\n"
   ]
  },
  {
   "cell_type": "markdown",
   "id": "fb6abf13",
   "metadata": {},
   "source": [
    "### Agglomerative clustering "
   ]
  },
  {
   "cell_type": "code",
   "execution_count": 66,
   "id": "9902a8a2",
   "metadata": {},
   "outputs": [
    {
     "name": "stdout",
     "output_type": "stream",
     "text": [
      "🔍 Evaluation:\n",
      "Silhouette Score       : 0.35782290329611044\n",
      "Davies-Bouldin Index   : 0.8980544506062603\n",
      "Calinski-Harabasz Score: 12.641792198843854\n"
     ]
    }
   ],
   "source": [
    "from sklearn.cluster import AgglomerativeClustering\n",
    "\n",
    "features = ['Drought', 'Earthquake', 'Extreme temperature ', 'Flood', 'Insect infestation',\n",
    "            'Landslide', 'Mass movement (dry)', 'Storm', 'Volcanic activity', 'Wildfire', 'pop2025']\n",
    "X = df[features]\n",
    "scaler = StandardScaler()\n",
    "X_scaled = scaler.fit_transform(X)\n",
    "\n",
    "# Clustering\n",
    "agg = AgglomerativeClustering(n_clusters=5)\n",
    "df[\"Agglo_Cluster\"] = agg.fit_predict(X_scaled)\n",
    "\n",
    "# Evaluation\n",
    "print(\"🔍 Evaluation:\")\n",
    "print(\"Silhouette Score       :\", silhouette_score(X_scaled, df[\"Agglo_Cluster\"]))\n",
    "print(\"Davies-Bouldin Index   :\", davies_bouldin_score(X_scaled, df[\"Agglo_Cluster\"]))\n",
    "print(\"Calinski-Harabasz Score:\", calinski_harabasz_score(X_scaled, df[\"Agglo_Cluster\"]))"
   ]
  },
  {
   "cell_type": "code",
   "execution_count": 67,
   "id": "ee08d968",
   "metadata": {},
   "outputs": [],
   "source": [
    "cluster_summary = df.groupby(\"Agglo_Cluster\")[features].mean().reset_index()\n",
    "\n",
    "cluster_labels_map = {\n",
    "    0: \"Flood Dominant\",\n",
    "    1: \"Storm & Wildfire Prone\",\n",
    "    2: \"Low Disaster Risk\",\n",
    "    3: \"Heat & Drought Regions\",\n",
    "    4: \"Earthquake Zones\"\n",
    "}\n",
    "df[\"Cluster_Label\"] = df[\"Agglo_Cluster\"].map(cluster_labels_map)\n"
   ]
  },
  {
   "cell_type": "code",
   "execution_count": 68,
   "id": "646fda9f",
   "metadata": {},
   "outputs": [
    {
     "name": "stderr",
     "output_type": "stream",
     "text": [
      "<ipython-input-68-261010f1f7a2>:16: UserWarning:\n",
      "\n",
      "Glyph 127757 (\\N{EARTH GLOBE EUROPE-AFRICA}) missing from current font.\n",
      "\n",
      "c:\\Users\\Nikitha\\anaconda3\\lib\\site-packages\\IPython\\core\\pylabtools.py:132: UserWarning:\n",
      "\n",
      "Glyph 127757 (\\N{EARTH GLOBE EUROPE-AFRICA}) missing from current font.\n",
      "\n"
     ]
    },
    {
     "data": {
      "image/png": "[encoded data removed]",
      "text/plain": [
       "<Figure size 720x432 with 1 Axes>"
      ]
     },
     "metadata": {
      "needs_background": "light"
     },
     "output_type": "display_data"
    }
   ],
   "source": [
    "from sklearn.decomposition import PCA\n",
    "import matplotlib.pyplot as plt\n",
    "import seaborn as sns\n",
    "\n",
    "pca = PCA(n_components=2)\n",
    "pca_result = pca.fit_transform(X_scaled)\n",
    "df[\"PCA1\"] = pca_result[:, 0]\n",
    "df[\"PCA2\"] = pca_result[:, 1]\n",
    "\n",
    "plt.figure(figsize=(10, 6))\n",
    "sns.scatterplot(data=df, x=\"PCA1\", y=\"PCA2\", hue=\"Cluster_Label\", palette=\"tab10\", s=100)\n",
    "plt.title(\"🌍 Country Clusters Based on Disaster Type (PCA Projection)\")\n",
    "plt.xlabel(\"PCA 1\")\n",
    "plt.ylabel(\"PCA 2\")\n",
    "plt.legend(title=\"Cluster Label\", bbox_to_anchor=(1.05, 1), loc='upper left')\n",
    "plt.tight_layout()\n",
    "plt.grid(True)\n",
    "plt.show()\n"
   ]
  },
  {
   "cell_type": "code",
   "execution_count": 69,
   "id": "3e300b6f",
   "metadata": {},
   "outputs": [
    {
     "data": {
      "application/vnd.plotly.v1+json": {
       "config": {
        "plotlyServerURL": "https://plot.ly"
       },
       "data": [
        {
         "colorscale": [
          [
           0,
           "rgb(141,211,199)"
          ],
          [
           1,
           "rgb(141,211,199)"
          ]
         ],
         "geo": "geo",
         "hovertemplate": "Cluster_Label=Flood Dominant<br>Country=%{location}<extra></extra>",
         "locationmode": "country names",
         "locations": [
          "Afghanistan",
          "Chile",
          "Colombia",
          "Egypt",
          "India",
          "Indonesia",
          "Mexico",
          "Pakistan",
          "Peru"
         ],
         "name": "Flood Dominant",
         "showlegend": true,
         "showscale": false,
         "type": "choropleth",
         "z": [
          1,
          1,
          1,
          1,
          1,
          1,
          1,
          1,
          1
         ]
        },
        {
         "colorscale": [
          [
           0,
           "rgb(255,255,179)"
          ],
          [
           1,
           "rgb(255,255,179)"
          ]
         ],
         "geo": "geo",
         "hovertemplate": "Cluster_Label=Low Disaster Risk<br>Country=%{location}<extra></extra>",
         "locationmode": "country names",
         "locations": [
          "Angola",
          "Bangladesh",
          "Ethiopia",
          "France",
          "Germany",
          "Iraq",
          "Italy",
          "Japan",
          "Kenya",
          "Morocco",
          "Nigeria",
          "Senegal",
          "Somalia",
          "Spain",
          "Thailand",
          "Ukraine",
          "Zimbabwe"
         ],
         "name": "Low Disaster Risk",
         "showlegend": true,
         "showscale": false,
         "type": "choropleth",
         "z": [
          1,
          1,
          1,
          1,
          1,
          1,
          1,
          1,
          1,
          1,
          1,
          1,
          1,
          1,
          1,
          1,
          1
         ]
        },
        {
         "colorscale": [
          [
           0,
           "rgb(190,186,218)"
          ],
          [
           1,
           "rgb(190,186,218)"
          ]
         ],
         "geo": "geo",
         "hovertemplate": "Cluster_Label=Storm & Wildfire Prone<br>Country=%{location}<extra></extra>",
         "locationmode": "country names",
         "locations": [
          "Australia",
          "Canada",
          "South Africa"
         ],
         "name": "Storm & Wildfire Prone",
         "showlegend": true,
         "showscale": false,
         "type": "choropleth",
         "z": [
          1,
          1,
          1
         ]
        },
        {
         "colorscale": [
          [
           0,
           "rgb(251,128,114)"
          ],
          [
           1,
           "rgb(251,128,114)"
          ]
         ],
         "geo": "geo",
         "hovertemplate": "Cluster_Label=Heat & Drought Regions<br>Country=%{location}<extra></extra>",
         "locationmode": "country names",
         "locations": [
          "Brazil"
         ],
         "name": "Heat & Drought Regions",
         "showlegend": true,
         "showscale": false,
         "type": "choropleth",
         "z": [
          1
         ]
        },
        {
         "colorscale": [
          [
           0,
           "rgb(128,177,211)"
          ],
          [
           1,
           "rgb(128,177,211)"
          ]
         ],
         "geo": "geo",
         "hovertemplate": "Cluster_Label=Earthquake Zones<br>Country=%{location}<extra></extra>",
         "locationmode": "country names",
         "locations": [
          "China"
         ],
         "name": "Earthquake Zones",
         "showlegend": true,
         "showscale": false,
         "type": "choropleth",
         "z": [
          1
         ]
        }
       ],
       "layout": {
        "geo": {
         "center": {},
         "domain": {
          "x": [
           0,
           1
          ],
          "y": [
           0,
           1
          ]
         }
        },
        "legend": {
         "title": {
          "text": "Disaster Cluster"
         },
         "tracegroupgap": 0
        },
        "template": {
         "data": {
          "bar": [
           {
            "error_x": {
             "color": "#2a3f5f"
            },
            "error_y": {
             "color": "#2a3f5f"
            },
            "marker": {
             "line": {
              "color": "#E5ECF6",
              "width": 0.5
             },
             "pattern": {
              "fillmode": "overlay",
              "size": 10,
              "solidity": 0.2
             }
            },
            "type": "bar"
           }
          ],
          "barpolar": [
           {
            "marker": {
             "line": {
              "color": "#E5ECF6",
              "width": 0.5
             },
             "pattern": {
              "fillmode": "overlay",
              "size": 10,
              "solidity": 0.2
             }
            },
            "type": "barpolar"
           }
          ],
          "carpet": [
           {
            "aaxis": {
             "endlinecolor": "#2a3f5f",
             "gridcolor": "white",
             "linecolor": "white",
             "minorgridcolor": "white",
             "startlinecolor": "#2a3f5f"
            },
            "baxis": {
             "endlinecolor": "#2a3f5f",
             "gridcolor": "white",
             "linecolor": "white",
             "minorgridcolor": "white",
             "startlinecolor": "#2a3f5f"
            },
            "type": "carpet"
           }
          ],
          "choropleth": [
           {
            "colorbar": {
             "outlinewidth": 0,
             "ticks": ""
            },
            "type": "choropleth"
           }
          ],
          "contour": [
           {
            "colorbar": {
             "outlinewidth": 0,
             "ticks": ""
            },
            "colorscale": [
             [
              0,
              "#0d0887"
             ],
             [
              0.1111111111111111,
              "#46039f"
             ],
             [
              0.2222222222222222,
              "#7201a8"
             ],
             [
              0.3333333333333333,
              "#9c179e"
             ],
             [
              0.4444444444444444,
              "#bd3786"
             ],
             [
              0.5555555555555556,
              "#d8576b"
             ],
             [
              0.6666666666666666,
              "#ed7953"
             ],
             [
              0.7777777777777778,
              "#fb9f3a"
             ],
             [
              0.8888888888888888,
              "#fdca26"
             ],
             [
              1,
              "#f0f921"
             ]
            ],
            "type": "contour"
           }
          ],
          "contourcarpet": [
           {
            "colorbar": {
             "outlinewidth": 0,
             "ticks": ""
            },
            "type": "contourcarpet"
           }
          ],
          "heatmap": [
           {
            "colorbar": {
             "outlinewidth": 0,
             "ticks": ""
            },
            "colorscale": [
             [
              0,
              "#0d0887"
             ],
             [
              0.1111111111111111,
              "#46039f"
             ],
             [
              0.2222222222222222,
              "#7201a8"
             ],
             [
              0.3333333333333333,
              "#9c179e"
             ],
             [
              0.4444444444444444,
              "#bd3786"
             ],
             [
              0.5555555555555556,
              "#d8576b"
             ],
             [
              0.6666666666666666,
              "#ed7953"
             ],
             [
              0.7777777777777778,
              "#fb9f3a"
             ],
             [
              0.8888888888888888,
              "#fdca26"
             ],
             [
              1,
              "#f0f921"
             ]
            ],
            "type": "heatmap"
           }
          ],
          "histogram": [
           {
            "marker": {
             "pattern": {
              "fillmode": "overlay",
              "size": 10,
              "solidity": 0.2
             }
            },
            "type": "histogram"
           }
          ],
          "histogram2d": [
           {
            "colorbar": {
             "outlinewidth": 0,
             "ticks": ""
            },
            "colorscale": [
             [
              0,
              "#0d0887"
             ],
             [
              0.1111111111111111,
              "#46039f"
             ],
             [
              0.2222222222222222,
              "#7201a8"
             ],
             [
              0.3333333333333333,
              "#9c179e"
             ],
             [
              0.4444444444444444,
              "#bd3786"
             ],
             [
              0.5555555555555556,
              "#d8576b"
             ],
             [
              0.6666666666666666,
              "#ed7953"
             ],
             [
              0.7777777777777778,
              "#fb9f3a"
             ],
             [
              0.8888888888888888,
              "#fdca26"
             ],
             [
              1,
              "#f0f921"
             ]
            ],
            "type": "histogram2d"
           }
          ],
          "histogram2dcontour": [
           {
            "colorbar": {
             "outlinewidth": 0,
             "ticks": ""
            },
            "colorscale": [
             [
              0,
              "#0d0887"
             ],
             [
              0.1111111111111111,
              "#46039f"
             ],
             [
              0.2222222222222222,
              "#7201a8"
             ],
             [
              0.3333333333333333,
              "#9c179e"
             ],
             [
              0.4444444444444444,
              "#bd3786"
             ],
             [
              0.5555555555555556,
              "#d8576b"
             ],
             [
              0.6666666666666666,
              "#ed7953"
             ],
             [
              0.7777777777777778,
              "#fb9f3a"
             ],
             [
              0.8888888888888888,
              "#fdca26"
             ],
             [
              1,
              "#f0f921"
             ]
            ],
            "type": "histogram2dcontour"
           }
          ],
          "mesh3d": [
           {
            "colorbar": {
             "outlinewidth": 0,
             "ticks": ""
            },
            "type": "mesh3d"
           }
          ],
          "parcoords": [
           {
            "line": {
             "colorbar": {
              "outlinewidth": 0,
              "ticks": ""
             }
            },
            "type": "parcoords"
           }
          ],
          "pie": [
           {
            "automargin": true,
            "type": "pie"
           }
          ],
          "scatter": [
           {
            "fillpattern": {
             "fillmode": "overlay",
             "size": 10,
             "solidity": 0.2
            },
            "type": "scatter"
           }
          ],
          "scatter3d": [
           {
            "line": {
             "colorbar": {
              "outlinewidth": 0,
              "ticks": ""
             }
            },
            "marker": {
             "colorbar": {
              "outlinewidth": 0,
              "ticks": ""
             }
            },
            "type": "scatter3d"
           }
          ],
          "scattercarpet": [
           {
            "marker": {
             "colorbar": {
              "outlinewidth": 0,
              "ticks": ""
             }
            },
            "type": "scattercarpet"
           }
          ],
          "scattergeo": [
           {
            "marker": {
             "colorbar": {
              "outlinewidth": 0,
              "ticks": ""
             }
            },
            "type": "scattergeo"
           }
          ],
          "scattergl": [
           {
            "marker": {
             "colorbar": {
              "outlinewidth": 0,
              "ticks": ""
             }
            },
            "type": "scattergl"
           }
          ],
          "scattermap": [
           {
            "marker": {
             "colorbar": {
              "outlinewidth": 0,
              "ticks": ""
             }
            },
            "type": "scattermap"
           }
          ],
          "scattermapbox": [
           {
            "marker": {
             "colorbar": {
              "outlinewidth": 0,
              "ticks": ""
             }
            },
            "type": "scattermapbox"
           }
          ],
          "scatterpolar": [
           {
            "marker": {
             "colorbar": {
              "outlinewidth": 0,
              "ticks": ""
             }
            },
            "type": "scatterpolar"
           }
          ],
          "scatterpolargl": [
           {
            "marker": {
             "colorbar": {
              "outlinewidth": 0,
              "ticks": ""
             }
            },
            "type": "scatterpolargl"
           }
          ],
          "scatterternary": [
           {
            "marker": {
             "colorbar": {
              "outlinewidth": 0,
              "ticks": ""
             }
            },
            "type": "scatterternary"
           }
          ],
          "surface": [
           {
            "colorbar": {
             "outlinewidth": 0,
             "ticks": ""
            },
            "colorscale": [
             [
              0,
              "#0d0887"
             ],
             [
              0.1111111111111111,
              "#46039f"
             ],
             [
              0.2222222222222222,
              "#7201a8"
             ],
             [
              0.3333333333333333,
              "#9c179e"
             ],
             [
              0.4444444444444444,
              "#bd3786"
             ],
             [
              0.5555555555555556,
              "#d8576b"
             ],
             [
              0.6666666666666666,
              "#ed7953"
             ],
             [
              0.7777777777777778,
              "#fb9f3a"
             ],
             [
              0.8888888888888888,
              "#fdca26"
             ],
             [
              1,
              "#f0f921"
             ]
            ],
            "type": "surface"
           }
          ],
          "table": [
           {
            "cells": {
             "fill": {
              "color": "#EBF0F8"
             },
             "line": {
              "color": "white"
             }
            },
            "header": {
             "fill": {
              "color": "#C8D4E3"
             },
             "line": {
              "color": "white"
             }
            },
            "type": "table"
           }
          ]
         },
         "layout": {
          "annotationdefaults": {
           "arrowcolor": "#2a3f5f",
           "arrowhead": 0,
           "arrowwidth": 1
          },
          "autotypenumbers": "strict",
          "coloraxis": {
           "colorbar": {
            "outlinewidth": 0,
            "ticks": ""
           }
          },
          "colorscale": {
           "diverging": [
            [
             0,
             "#8e0152"
            ],
            [
             0.1,
             "#c51b7d"
            ],
            [
             0.2,
             "#de77ae"
            ],
            [
             0.3,
             "#f1b6da"
            ],
            [
             0.4,
             "#fde0ef"
            ],
            [
             0.5,
             "#f7f7f7"
            ],
            [
             0.6,
             "#e6f5d0"
            ],
            [
             0.7,
             "#b8e186"
            ],
            [
             0.8,
             "#7fbc41"
            ],
            [
             0.9,
             "#4d9221"
            ],
            [
             1,
             "#276419"
            ]
           ],
           "sequential": [
            [
             0,
             "#0d0887"
            ],
            [
             0.1111111111111111,
             "#46039f"
            ],
            [
             0.2222222222222222,
             "#7201a8"
            ],
            [
             0.3333333333333333,
             "#9c179e"
            ],
            [
             0.4444444444444444,
             "#bd3786"
            ],
            [
             0.5555555555555556,
             "#d8576b"
            ],
            [
             0.6666666666666666,
             "#ed7953"
            ],
            [
             0.7777777777777778,
             "#fb9f3a"
            ],
            [
             0.8888888888888888,
             "#fdca26"
            ],
            [
             1,
             "#f0f921"
            ]
           ],
           "sequentialminus": [
            [
             0,
             "#0d0887"
            ],
            [
             0.1111111111111111,
             "#46039f"
            ],
            [
             0.2222222222222222,
             "#7201a8"
            ],
            [
             0.3333333333333333,
             "#9c179e"
            ],
            [
             0.4444444444444444,
             "#bd3786"
            ],
            [
             0.5555555555555556,
             "#d8576b"
            ],
            [
             0.6666666666666666,
             "#ed7953"
            ],
            [
             0.7777777777777778,
             "#fb9f3a"
            ],
            [
             0.8888888888888888,
             "#fdca26"
            ],
            [
             1,
             "#f0f921"
            ]
           ]
          },
          "colorway": [
           "#636efa",
           "#EF553B",
           "#00cc96",
           "#ab63fa",
           "#FFA15A",
           "#19d3f3",
           "#FF6692",
           "#B6E880",
           "#FF97FF",
           "#FECB52"
          ],
          "font": {
           "color": "#2a3f5f"
          },
          "geo": {
           "bgcolor": "white",
           "lakecolor": "white",
           "landcolor": "#E5ECF6",
           "showlakes": true,
           "showland": true,
           "subunitcolor": "white"
          },
          "hoverlabel": {
           "align": "left"
          },
          "hovermode": "closest",
          "mapbox": {
           "style": "light"
          },
          "paper_bgcolor": "white",
          "plot_bgcolor": "#E5ECF6",
          "polar": {
           "angularaxis": {
            "gridcolor": "white",
            "linecolor": "white",
            "ticks": ""
           },
           "bgcolor": "#E5ECF6",
           "radialaxis": {
            "gridcolor": "white",
            "linecolor": "white",
            "ticks": ""
           }
          },
          "scene": {
           "xaxis": {
            "backgroundcolor": "#E5ECF6",
            "gridcolor": "white",
            "gridwidth": 2,
            "linecolor": "white",
            "showbackground": true,
            "ticks": "",
            "zerolinecolor": "white"
           },
           "yaxis": {
            "backgroundcolor": "#E5ECF6",
            "gridcolor": "white",
            "gridwidth": 2,
            "linecolor": "white",
            "showbackground": true,
            "ticks": "",
            "zerolinecolor": "white"
           },
           "zaxis": {
            "backgroundcolor": "#E5ECF6",
            "gridcolor": "white",
            "gridwidth": 2,
            "linecolor": "white",
            "showbackground": true,
            "ticks": "",
            "zerolinecolor": "white"
           }
          },
          "shapedefaults": {
           "line": {
            "color": "#2a3f5f"
           }
          },
          "ternary": {
           "aaxis": {
            "gridcolor": "white",
            "linecolor": "white",
            "ticks": ""
           },
           "baxis": {
            "gridcolor": "white",
            "linecolor": "white",
            "ticks": ""
           },
           "bgcolor": "#E5ECF6",
           "caxis": {
            "gridcolor": "white",
            "linecolor": "white",
            "ticks": ""
           }
          },
          "title": {
           "x": 0.05
          },
          "xaxis": {
           "automargin": true,
           "gridcolor": "white",
           "linecolor": "white",
           "ticks": "",
           "title": {
            "standoff": 15
           },
           "zerolinecolor": "white",
           "zerolinewidth": 2
          },
          "yaxis": {
           "automargin": true,
           "gridcolor": "white",
           "linecolor": "white",
           "ticks": "",
           "title": {
            "standoff": 15
           },
           "zerolinecolor": "white",
           "zerolinewidth": 2
          }
         }
        },
        "title": {
         "text": "🌍 Country Clustering Based on Disaster Exposure"
        }
       }
      }
     },
     "metadata": {},
     "output_type": "display_data"
    }
   ],
   "source": [
    "import plotly.express as px\n",
    "\n",
    "fig = px.choropleth(df,\n",
    "                    locations=\"Country\",\n",
    "                    locationmode=\"country names\",\n",
    "                    color=\"Cluster_Label\",\n",
    "                    title=\"🌍 Country Clustering Based on Disaster Exposure\",\n",
    "                    color_discrete_sequence=px.colors.qualitative.Set3)\n",
    "fig.update_layout(legend_title_text='Disaster Cluster')\n",
    "fig.show()\n"
   ]
  },
  {
   "cell_type": "code",
   "execution_count": 70,
   "id": "236ef557",
   "metadata": {},
   "outputs": [
    {
     "name": "stderr",
     "output_type": "stream",
     "text": [
      "<ipython-input-70-a24ef1483665>:6: UserWarning:\n",
      "\n",
      "Glyph 128293 (\\N{FIRE}) missing from current font.\n",
      "\n",
      "c:\\Users\\Nikitha\\anaconda3\\lib\\site-packages\\IPython\\core\\pylabtools.py:132: UserWarning:\n",
      "\n",
      "Glyph 128293 (\\N{FIRE}) missing from current font.\n",
      "\n"
     ]
    },
    {
     "data": {
      "image/png": "[encoded data removed]",
      "text/plain": [
       "<Figure size 864x432 with 2 Axes>"
      ]
     },
     "metadata": {
      "needs_background": "light"
     },
     "output_type": "display_data"
    }
   ],
   "source": [
    "plt.figure(figsize=(12, 6))\n",
    "sns.heatmap(cluster_summary.set_index(\"Agglo_Cluster\"), cmap=\"YlGnBu\", annot=True, fmt=\".1f\")\n",
    "plt.title(\"🔥 Cluster Profiles by Disaster Type and Population\")\n",
    "plt.xlabel(\"Disaster Type / Population\")\n",
    "plt.ylabel(\"Cluster\")\n",
    "plt.tight_layout()\n",
    "plt.show()\n"
   ]
  },
  {
   "cell_type": "code",
   "execution_count": 71,
   "id": "46a44bfd",
   "metadata": {},
   "outputs": [],
   "source": [
    "import pandas as pd\n",
    "from sklearn.preprocessing import StandardScaler\n",
    "from sklearn.mixture import GaussianMixture\n",
    "from sklearn.metrics import silhouette_score, calinski_harabasz_score, davies_bouldin_score\n",
    "from sklearn.decomposition import PCA\n",
    "import matplotlib.pyplot as plt\n",
    "import seaborn as sns"
   ]
  },
  {
   "cell_type": "code",
   "execution_count": 72,
   "id": "08835752",
   "metadata": {},
   "outputs": [],
   "source": [
    "# GMM Clustering\n",
    "gmm = GaussianMixture(n_components=5, random_state=42)\n",
    "df[\"GMM_Cluster\"] = gmm.fit_predict(X_scaled)\n",
    "\n",
    "# Manually assign labels (customize based on cluster profiling if needed)\n",
    "gmm_labels_map = {\n",
    "    0: \"Flood Dominant\",\n",
    "    1: \"Storm & Wildfire Prone\",\n",
    "    2: \"Low Disaster Risk\",\n",
    "    3: \"Heat & Drought Regions\",\n",
    "    4: \"Earthquake Zones\"\n",
    "}\n",
    "df[\"Cluster_Label\"] = df[\"GMM_Cluster\"].map(gmm_labels_map)"
   ]
  },
  {
   "cell_type": "code",
   "execution_count": 73,
   "id": "320f7d70",
   "metadata": {},
   "outputs": [
    {
     "name": "stdout",
     "output_type": "stream",
     "text": [
      "\n",
      "🔍 GMM Evaluation:\n",
      "Silhouette Score        : 0.4952\n",
      "Davies-Bouldin Index    : 0.5875\n",
      "Calinski-Harabasz Index : 12.52\n"
     ]
    }
   ],
   "source": [
    "# Evaluation metrics\n",
    "silhouette = silhouette_score(X_scaled, df[\"GMM_Cluster\"])\n",
    "db_index = davies_bouldin_score(X_scaled, df[\"GMM_Cluster\"])\n",
    "ch_index = calinski_harabasz_score(X_scaled, df[\"GMM_Cluster\"])\n",
    "\n",
    "print(f\"\\n🔍 GMM Evaluation:\")\n",
    "print(f\"Silhouette Score        : {silhouette:.4f}\")\n",
    "print(f\"Davies-Bouldin Index    : {db_index:.4f}\")\n",
    "print(f\"Calinski-Harabasz Index : {ch_index:.2f}\")"
   ]
  },
  {
   "cell_type": "code",
   "execution_count": 74,
   "id": "24d381d9",
   "metadata": {},
   "outputs": [
    {
     "name": "stderr",
     "output_type": "stream",
     "text": [
      "<ipython-input-74-0cb378bc18c7>:13: UserWarning:\n",
      "\n",
      "Glyph 127757 (\\N{EARTH GLOBE EUROPE-AFRICA}) missing from current font.\n",
      "\n",
      "c:\\Users\\Nikitha\\anaconda3\\lib\\site-packages\\IPython\\core\\pylabtools.py:132: UserWarning:\n",
      "\n",
      "Glyph 127757 (\\N{EARTH GLOBE EUROPE-AFRICA}) missing from current font.\n",
      "\n"
     ]
    },
    {
     "data": {
      "image/png": "[encoded data removed]",
      "text/plain": [
       "<Figure size 720x432 with 1 Axes>"
      ]
     },
     "metadata": {
      "needs_background": "light"
     },
     "output_type": "display_data"
    }
   ],
   "source": [
    "# PCA Visualization\n",
    "pca = PCA(n_components=2)\n",
    "pca_result = pca.fit_transform(X_scaled)\n",
    "df[\"PCA1\"] = pca_result[:, 0]\n",
    "df[\"PCA2\"] = pca_result[:, 1]\n",
    "\n",
    "plt.figure(figsize=(10, 6))\n",
    "sns.scatterplot(data=df, x=\"PCA1\", y=\"PCA2\", hue=\"Cluster_Label\", palette=\"Set2\", s=100)\n",
    "plt.title(\"🌍 GMM Clustering of Countries by Disaster Type\")\n",
    "plt.xlabel(\"PCA Component 1\")\n",
    "plt.ylabel(\"PCA Component 2\")\n",
    "plt.grid(True)\n",
    "plt.tight_layout()\n",
    "plt.legend(title=\"Cluster Label\")\n",
    "plt.show()"
   ]
  },
  {
   "cell_type": "code",
   "execution_count": 75,
   "id": "d3848618",
   "metadata": {},
   "outputs": [
    {
     "data": {
      "application/vnd.plotly.v1+json": {
       "config": {
        "plotlyServerURL": "https://plot.ly"
       },
       "data": [
        {
         "colorscale": [
          [
           0,
           "rgb(141,211,199)"
          ],
          [
           1,
           "rgb(141,211,199)"
          ]
         ],
         "geo": "geo",
         "hovertemplate": "Cluster_Label=Flood Dominant<br>Country=%{location}<extra></extra>",
         "locationmode": "country names",
         "locations": [
          "Afghanistan",
          "Angola",
          "Australia",
          "Bangladesh",
          "Canada",
          "Chile",
          "Colombia",
          "Egypt",
          "Ethiopia",
          "France",
          "Germany",
          "Iraq",
          "Italy",
          "Japan",
          "Kenya",
          "Mexico",
          "Morocco",
          "Nigeria",
          "Peru",
          "Senegal",
          "Somalia",
          "South Africa",
          "Spain",
          "Thailand",
          "Ukraine",
          "Zimbabwe"
         ],
         "name": "Flood Dominant",
         "showlegend": true,
         "showscale": false,
         "type": "choropleth",
         "z": [
          1,
          1,
          1,
          1,
          1,
          1,
          1,
          1,
          1,
          1,
          1,
          1,
          1,
          1,
          1,
          1,
          1,
          1,
          1,
          1,
          1,
          1,
          1,
          1,
          1,
          1
         ]
        },
        {
         "colorscale": [
          [
           0,
           "rgb(255,255,179)"
          ],
          [
           1,
           "rgb(255,255,179)"
          ]
         ],
         "geo": "geo",
         "hovertemplate": "Cluster_Label=Storm & Wildfire Prone<br>Country=%{location}<extra></extra>",
         "locationmode": "country names",
         "locations": [
          "Brazil"
         ],
         "name": "Storm & Wildfire Prone",
         "showlegend": true,
         "showscale": false,
         "type": "choropleth",
         "z": [
          1
         ]
        },
        {
         "colorscale": [
          [
           0,
           "rgb(190,186,218)"
          ],
          [
           1,
           "rgb(190,186,218)"
          ]
         ],
         "geo": "geo",
         "hovertemplate": "Cluster_Label=Low Disaster Risk<br>Country=%{location}<extra></extra>",
         "locationmode": "country names",
         "locations": [
          "China",
          "India"
         ],
         "name": "Low Disaster Risk",
         "showlegend": true,
         "showscale": false,
         "type": "choropleth",
         "z": [
          1,
          1
         ]
        },
        {
         "colorscale": [
          [
           0,
           "rgb(251,128,114)"
          ],
          [
           1,
           "rgb(251,128,114)"
          ]
         ],
         "geo": "geo",
         "hovertemplate": "Cluster_Label=Heat & Drought Regions<br>Country=%{location}<extra></extra>",
         "locationmode": "country names",
         "locations": [
          "Indonesia"
         ],
         "name": "Heat & Drought Regions",
         "showlegend": true,
         "showscale": false,
         "type": "choropleth",
         "z": [
          1
         ]
        },
        {
         "colorscale": [
          [
           0,
           "rgb(128,177,211)"
          ],
          [
           1,
           "rgb(128,177,211)"
          ]
         ],
         "geo": "geo",
         "hovertemplate": "Cluster_Label=Earthquake Zones<br>Country=%{location}<extra></extra>",
         "locationmode": "country names",
         "locations": [
          "Pakistan"
         ],
         "name": "Earthquake Zones",
         "showlegend": true,
         "showscale": false,
         "type": "choropleth",
         "z": [
          1
         ]
        }
       ],
       "layout": {
        "geo": {
         "center": {},
         "domain": {
          "x": [
           0,
           1
          ],
          "y": [
           0,
           1
          ]
         },
         "projection": {
          "type": "equirectangular"
         },
         "showcoastlines": true,
         "showframe": false
        },
        "legend": {
         "title": {
          "text": "Disaster Cluster"
         },
         "tracegroupgap": 0
        },
        "template": {
         "data": {
          "bar": [
           {
            "error_x": {
             "color": "#2a3f5f"
            },
            "error_y": {
             "color": "#2a3f5f"
            },
            "marker": {
             "line": {
              "color": "#E5ECF6",
              "width": 0.5
             },
             "pattern": {
              "fillmode": "overlay",
              "size": 10,
              "solidity": 0.2
             }
            },
            "type": "bar"
           }
          ],
          "barpolar": [
           {
            "marker": {
             "line": {
              "color": "#E5ECF6",
              "width": 0.5
             },
             "pattern": {
              "fillmode": "overlay",
              "size": 10,
              "solidity": 0.2
             }
            },
            "type": "barpolar"
           }
          ],
          "carpet": [
           {
            "aaxis": {
             "endlinecolor": "#2a3f5f",
             "gridcolor": "white",
             "linecolor": "white",
             "minorgridcolor": "white",
             "startlinecolor": "#2a3f5f"
            },
            "baxis": {
             "endlinecolor": "#2a3f5f",
             "gridcolor": "white",
             "linecolor": "white",
             "minorgridcolor": "white",
             "startlinecolor": "#2a3f5f"
            },
            "type": "carpet"
           }
          ],
          "choropleth": [
           {
            "colorbar": {
             "outlinewidth": 0,
             "ticks": ""
            },
            "type": "choropleth"
           }
          ],
          "contour": [
           {
            "colorbar": {
             "outlinewidth": 0,
             "ticks": ""
            },
            "colorscale": [
             [
              0,
              "#0d0887"
             ],
             [
              0.1111111111111111,
              "#46039f"
             ],
             [
              0.2222222222222222,
              "#7201a8"
             ],
             [
              0.3333333333333333,
              "#9c179e"
             ],
             [
              0.4444444444444444,
              "#bd3786"
             ],
             [
              0.5555555555555556,
              "#d8576b"
             ],
             [
              0.6666666666666666,
              "#ed7953"
             ],
             [
              0.7777777777777778,
              "#fb9f3a"
             ],
             [
              0.8888888888888888,
              "#fdca26"
             ],
             [
              1,
              "#f0f921"
             ]
            ],
            "type": "contour"
           }
          ],
          "contourcarpet": [
           {
            "colorbar": {
             "outlinewidth": 0,
             "ticks": ""
            },
            "type": "contourcarpet"
           }
          ],
          "heatmap": [
           {
            "colorbar": {
             "outlinewidth": 0,
             "ticks": ""
            },
            "colorscale": [
             [
              0,
              "#0d0887"
             ],
             [
              0.1111111111111111,
              "#46039f"
             ],
             [
              0.2222222222222222,
              "#7201a8"
             ],
             [
              0.3333333333333333,
              "#9c179e"
             ],
             [
              0.4444444444444444,
              "#bd3786"
             ],
             [
              0.5555555555555556,
              "#d8576b"
             ],
             [
              0.6666666666666666,
              "#ed7953"
             ],
             [
              0.7777777777777778,
              "#fb9f3a"
             ],
             [
              0.8888888888888888,
              "#fdca26"
             ],
             [
              1,
              "#f0f921"
             ]
            ],
            "type": "heatmap"
           }
          ],
          "histogram": [
           {
            "marker": {
             "pattern": {
              "fillmode": "overlay",
              "size": 10,
              "solidity": 0.2
             }
            },
            "type": "histogram"
           }
          ],
          "histogram2d": [
           {
            "colorbar": {
             "outlinewidth": 0,
             "ticks": ""
            },
            "colorscale": [
             [
              0,
              "#0d0887"
             ],
             [
              0.1111111111111111,
              "#46039f"
             ],
             [
              0.2222222222222222,
              "#7201a8"
             ],
             [
              0.3333333333333333,
              "#9c179e"
             ],
             [
              0.4444444444444444,
              "#bd3786"
             ],
             [
              0.5555555555555556,
              "#d8576b"
             ],
             [
              0.6666666666666666,
              "#ed7953"
             ],
             [
              0.7777777777777778,
              "#fb9f3a"
             ],
             [
              0.8888888888888888,
              "#fdca26"
             ],
             [
              1,
              "#f0f921"
             ]
            ],
            "type": "histogram2d"
           }
          ],
          "histogram2dcontour": [
           {
            "colorbar": {
             "outlinewidth": 0,
             "ticks": ""
            },
            "colorscale": [
             [
              0,
              "#0d0887"
             ],
             [
              0.1111111111111111,
              "#46039f"
             ],
             [
              0.2222222222222222,
              "#7201a8"
             ],
             [
              0.3333333333333333,
              "#9c179e"
             ],
             [
              0.4444444444444444,
              "#bd3786"
             ],
             [
              0.5555555555555556,
              "#d8576b"
             ],
             [
              0.6666666666666666,
              "#ed7953"
             ],
             [
              0.7777777777777778,
              "#fb9f3a"
             ],
             [
              0.8888888888888888,
              "#fdca26"
             ],
             [
              1,
              "#f0f921"
             ]
            ],
            "type": "histogram2dcontour"
           }
          ],
          "mesh3d": [
           {
            "colorbar": {
             "outlinewidth": 0,
             "ticks": ""
            },
            "type": "mesh3d"
           }
          ],
          "parcoords": [
           {
            "line": {
             "colorbar": {
              "outlinewidth": 0,
              "ticks": ""
             }
            },
            "type": "parcoords"
           }
          ],
          "pie": [
           {
            "automargin": true,
            "type": "pie"
           }
          ],
          "scatter": [
           {
            "fillpattern": {
             "fillmode": "overlay",
             "size": 10,
             "solidity": 0.2
            },
            "type": "scatter"
           }
          ],
          "scatter3d": [
           {
            "line": {
             "colorbar": {
              "outlinewidth": 0,
              "ticks": ""
             }
            },
            "marker": {
             "colorbar": {
              "outlinewidth": 0,
              "ticks": ""
             }
            },
            "type": "scatter3d"
           }
          ],
          "scattercarpet": [
           {
            "marker": {
             "colorbar": {
              "outlinewidth": 0,
              "ticks": ""
             }
            },
            "type": "scattercarpet"
           }
          ],
          "scattergeo": [
           {
            "marker": {
             "colorbar": {
              "outlinewidth": 0,
              "ticks": ""
             }
            },
            "type": "scattergeo"
           }
          ],
          "scattergl": [
           {
            "marker": {
             "colorbar": {
              "outlinewidth": 0,
              "ticks": ""
             }
            },
            "type": "scattergl"
           }
          ],
          "scattermap": [
           {
            "marker": {
             "colorbar": {
              "outlinewidth": 0,
              "ticks": ""
             }
            },
            "type": "scattermap"
           }
          ],
          "scattermapbox": [
           {
            "marker": {
             "colorbar": {
              "outlinewidth": 0,
              "ticks": ""
             }
            },
            "type": "scattermapbox"
           }
          ],
          "scatterpolar": [
           {
            "marker": {
             "colorbar": {
              "outlinewidth": 0,
              "ticks": ""
             }
            },
            "type": "scatterpolar"
           }
          ],
          "scatterpolargl": [
           {
            "marker": {
             "colorbar": {
              "outlinewidth": 0,
              "ticks": ""
             }
            },
            "type": "scatterpolargl"
           }
          ],
          "scatterternary": [
           {
            "marker": {
             "colorbar": {
              "outlinewidth": 0,
              "ticks": ""
             }
            },
            "type": "scatterternary"
           }
          ],
          "surface": [
           {
            "colorbar": {
             "outlinewidth": 0,
             "ticks": ""
            },
            "colorscale": [
             [
              0,
              "#0d0887"
             ],
             [
              0.1111111111111111,
              "#46039f"
             ],
             [
              0.2222222222222222,
              "#7201a8"
             ],
             [
              0.3333333333333333,
              "#9c179e"
             ],
             [
              0.4444444444444444,
              "#bd3786"
             ],
             [
              0.5555555555555556,
              "#d8576b"
             ],
             [
              0.6666666666666666,
              "#ed7953"
             ],
             [
              0.7777777777777778,
              "#fb9f3a"
             ],
             [
              0.8888888888888888,
              "#fdca26"
             ],
             [
              1,
              "#f0f921"
             ]
            ],
            "type": "surface"
           }
          ],
          "table": [
           {
            "cells": {
             "fill": {
              "color": "#EBF0F8"
             },
             "line": {
              "color": "white"
             }
            },
            "header": {
             "fill": {
              "color": "#C8D4E3"
             },
             "line": {
              "color": "white"
             }
            },
            "type": "table"
           }
          ]
         },
         "layout": {
          "annotationdefaults": {
           "arrowcolor": "#2a3f5f",
           "arrowhead": 0,
           "arrowwidth": 1
          },
          "autotypenumbers": "strict",
          "coloraxis": {
           "colorbar": {
            "outlinewidth": 0,
            "ticks": ""
           }
          },
          "colorscale": {
           "diverging": [
            [
             0,
             "#8e0152"
            ],
            [
             0.1,
             "#c51b7d"
            ],
            [
             0.2,
             "#de77ae"
            ],
            [
             0.3,
             "#f1b6da"
            ],
            [
             0.4,
             "#fde0ef"
            ],
            [
             0.5,
             "#f7f7f7"
            ],
            [
             0.6,
             "#e6f5d0"
            ],
            [
             0.7,
             "#b8e186"
            ],
            [
             0.8,
             "#7fbc41"
            ],
            [
             0.9,
             "#4d9221"
            ],
            [
             1,
             "#276419"
            ]
           ],
           "sequential": [
            [
             0,
             "#0d0887"
            ],
            [
             0.1111111111111111,
             "#46039f"
            ],
            [
             0.2222222222222222,
             "#7201a8"
            ],
            [
             0.3333333333333333,
             "#9c179e"
            ],
            [
             0.4444444444444444,
             "#bd3786"
            ],
            [
             0.5555555555555556,
             "#d8576b"
            ],
            [
             0.6666666666666666,
             "#ed7953"
            ],
            [
             0.7777777777777778,
             "#fb9f3a"
            ],
            [
             0.8888888888888888,
             "#fdca26"
            ],
            [
             1,
             "#f0f921"
            ]
           ],
           "sequentialminus": [
            [
             0,
             "#0d0887"
            ],
            [
             0.1111111111111111,
             "#46039f"
            ],
            [
             0.2222222222222222,
             "#7201a8"
            ],
            [
             0.3333333333333333,
             "#9c179e"
            ],
            [
             0.4444444444444444,
             "#bd3786"
            ],
            [
             0.5555555555555556,
             "#d8576b"
            ],
            [
             0.6666666666666666,
             "#ed7953"
            ],
            [
             0.7777777777777778,
             "#fb9f3a"
            ],
            [
             0.8888888888888888,
             "#fdca26"
            ],
            [
             1,
             "#f0f921"
            ]
           ]
          },
          "colorway": [
           "#636efa",
           "#EF553B",
           "#00cc96",
           "#ab63fa",
           "#FFA15A",
           "#19d3f3",
           "#FF6692",
           "#B6E880",
           "#FF97FF",
           "#FECB52"
          ],
          "font": {
           "color": "#2a3f5f"
          },
          "geo": {
           "bgcolor": "white",
           "lakecolor": "white",
           "landcolor": "#E5ECF6",
           "showlakes": true,
           "showland": true,
           "subunitcolor": "white"
          },
          "hoverlabel": {
           "align": "left"
          },
          "hovermode": "closest",
          "mapbox": {
           "style": "light"
          },
          "paper_bgcolor": "white",
          "plot_bgcolor": "#E5ECF6",
          "polar": {
           "angularaxis": {
            "gridcolor": "white",
            "linecolor": "white",
            "ticks": ""
           },
           "bgcolor": "#E5ECF6",
           "radialaxis": {
            "gridcolor": "white",
            "linecolor": "white",
            "ticks": ""
           }
          },
          "scene": {
           "xaxis": {
            "backgroundcolor": "#E5ECF6",
            "gridcolor": "white",
            "gridwidth": 2,
            "linecolor": "white",
            "showbackground": true,
            "ticks": "",
            "zerolinecolor": "white"
           },
           "yaxis": {
            "backgroundcolor": "#E5ECF6",
            "gridcolor": "white",
            "gridwidth": 2,
            "linecolor": "white",
            "showbackground": true,
            "ticks": "",
            "zerolinecolor": "white"
           },
           "zaxis": {
            "backgroundcolor": "#E5ECF6",
            "gridcolor": "white",
            "gridwidth": 2,
            "linecolor": "white",
            "showbackground": true,
            "ticks": "",
            "zerolinecolor": "white"
           }
          },
          "shapedefaults": {
           "line": {
            "color": "#2a3f5f"
           }
          },
          "ternary": {
           "aaxis": {
            "gridcolor": "white",
            "linecolor": "white",
            "ticks": ""
           },
           "baxis": {
            "gridcolor": "white",
            "linecolor": "white",
            "ticks": ""
           },
           "bgcolor": "#E5ECF6",
           "caxis": {
            "gridcolor": "white",
            "linecolor": "white",
            "ticks": ""
           }
          },
          "title": {
           "x": 0.05
          },
          "xaxis": {
           "automargin": true,
           "gridcolor": "white",
           "linecolor": "white",
           "ticks": "",
           "title": {
            "standoff": 15
           },
           "zerolinecolor": "white",
           "zerolinewidth": 2
          },
          "yaxis": {
           "automargin": true,
           "gridcolor": "white",
           "linecolor": "white",
           "ticks": "",
           "title": {
            "standoff": 15
           },
           "zerolinecolor": "white",
           "zerolinewidth": 2
          }
         }
        },
        "title": {
         "text": "🌎 Global Clustering of Countries Based on Disaster Exposure (GMM)"
        }
       }
      }
     },
     "metadata": {},
     "output_type": "display_data"
    }
   ],
   "source": [
    "import plotly.express as px\n",
    "\n",
    "# 🌍 Plot clusters on world map\n",
    "fig = px.choropleth(\n",
    "    df,\n",
    "    locations=\"Country\",  # Make sure these are valid country names\n",
    "    locationmode=\"country names\",\n",
    "    color=\"Cluster_Label\",\n",
    "    title=\"🌎 Global Clustering of Countries Based on Disaster Exposure (GMM)\",\n",
    "    color_discrete_sequence=px.colors.qualitative.Set3\n",
    ")\n",
    "\n",
    "fig.update_layout(\n",
    "    legend_title_text='Disaster Cluster',\n",
    "    geo=dict(showframe=False, showcoastlines=True, projection_type='equirectangular')\n",
    ")\n",
    "\n",
    "fig.show()\n"
   ]
  },
  {
   "cell_type": "code",
   "execution_count": 77,
   "id": "27cf81e4",
   "metadata": {},
   "outputs": [
    {
     "name": "stdout",
     "output_type": "stream",
     "text": [
      "\n",
      "🔍 K-Means Clustering Evaluation:\n",
      "Silhouette Score        : 0.3815\n",
      "Davies-Bouldin Index    : 0.9004\n",
      "Calinski-Harabasz Index : 13.07\n"
     ]
    },
    {
     "name": "stderr",
     "output_type": "stream",
     "text": [
      "<ipython-input-77-f81cb2bb2ddb>:28: UserWarning:\n",
      "\n",
      "Glyph 128293 (\\N{FIRE}) missing from current font.\n",
      "\n",
      "c:\\Users\\Nikitha\\anaconda3\\lib\\site-packages\\IPython\\core\\pylabtools.py:132: UserWarning:\n",
      "\n",
      "Glyph 128293 (\\N{FIRE}) missing from current font.\n",
      "\n"
     ]
    },
    {
     "data": {
      "image/png": "[encoded data removed]",
      "text/plain": [
       "<Figure size 864x432 with 2 Axes>"
      ]
     },
     "metadata": {
      "needs_background": "light"
     },
     "output_type": "display_data"
    },
    {
     "name": "stderr",
     "output_type": "stream",
     "text": [
      "<ipython-input-77-f81cb2bb2ddb>:41: UserWarning:\n",
      "\n",
      "Glyph 127757 (\\N{EARTH GLOBE EUROPE-AFRICA}) missing from current font.\n",
      "\n",
      "c:\\Users\\Nikitha\\anaconda3\\lib\\site-packages\\IPython\\core\\pylabtools.py:132: UserWarning:\n",
      "\n",
      "Glyph 127757 (\\N{EARTH GLOBE EUROPE-AFRICA}) missing from current font.\n",
      "\n"
     ]
    },
    {
     "data": {
      "image/png": "[encoded data removed]",
      "text/plain": [
       "<Figure size 720x432 with 1 Axes>"
      ]
     },
     "metadata": {
      "needs_background": "light"
     },
     "output_type": "display_data"
    },
    {
     "data": {
      "application/vnd.plotly.v1+json": {
       "config": {
        "plotlyServerURL": "https://plot.ly"
       },
       "data": [
        {
         "colorscale": [
          [
           0,
           "rgb(141,211,199)"
          ],
          [
           1,
           "rgb(141,211,199)"
          ]
         ],
         "geo": "geo",
         "hovertemplate": "<b>%{hovertext}</b><br><br>KMeans_Label=Heat & Drought Affected<br>Country=%{location}<extra></extra>",
         "hovertext": [
          "Afghanistan",
          "Angola",
          "Bangladesh",
          "Ethiopia",
          "France",
          "Germany",
          "Iraq",
          "Italy",
          "Japan",
          "Kenya",
          "Morocco",
          "Nigeria",
          "Senegal",
          "Somalia",
          "Spain",
          "Thailand",
          "Ukraine",
          "Zimbabwe"
         ],
         "locationmode": "country names",
         "locations": [
          "Afghanistan",
          "Angola",
          "Bangladesh",
          "Ethiopia",
          "France",
          "Germany",
          "Iraq",
          "Italy",
          "Japan",
          "Kenya",
          "Morocco",
          "Nigeria",
          "Senegal",
          "Somalia",
          "Spain",
          "Thailand",
          "Ukraine",
          "Zimbabwe"
         ],
         "name": "Heat & Drought Affected",
         "showlegend": true,
         "showscale": false,
         "type": "choropleth",
         "z": [
          1,
          1,
          1,
          1,
          1,
          1,
          1,
          1,
          1,
          1,
          1,
          1,
          1,
          1,
          1,
          1,
          1,
          1
         ]
        },
        {
         "colorscale": [
          [
           0,
           "rgb(255,255,179)"
          ],
          [
           1,
           "rgb(255,255,179)"
          ]
         ],
         "geo": "geo",
         "hovertemplate": "<b>%{hovertext}</b><br><br>KMeans_Label=High Population Mixed Risk<br>Country=%{location}<extra></extra>",
         "hovertext": [
          "Australia",
          "Canada",
          "South Africa"
         ],
         "locationmode": "country names",
         "locations": [
          "Australia",
          "Canada",
          "South Africa"
         ],
         "name": "High Population Mixed Risk",
         "showlegend": true,
         "showscale": false,
         "type": "choropleth",
         "z": [
          1,
          1,
          1
         ]
        },
        {
         "colorscale": [
          [
           0,
           "rgb(190,186,218)"
          ],
          [
           1,
           "rgb(190,186,218)"
          ]
         ],
         "geo": "geo",
         "hovertemplate": "<b>%{hovertext}</b><br><br>KMeans_Label=Storm & Wildfire Dominant<br>Country=%{location}<extra></extra>",
         "hovertext": [
          "Brazil"
         ],
         "locationmode": "country names",
         "locations": [
          "Brazil"
         ],
         "name": "Storm & Wildfire Dominant",
         "showlegend": true,
         "showscale": false,
         "type": "choropleth",
         "z": [
          1
         ]
        },
        {
         "colorscale": [
          [
           0,
           "rgb(251,128,114)"
          ],
          [
           1,
           "rgb(251,128,114)"
          ]
         ],
         "geo": "geo",
         "hovertemplate": "<b>%{hovertext}</b><br><br>KMeans_Label=Low Disaster & Low Population<br>Country=%{location}<extra></extra>",
         "hovertext": [
          "Chile",
          "Colombia",
          "Egypt",
          "India",
          "Indonesia",
          "Mexico",
          "Pakistan",
          "Peru"
         ],
         "locationmode": "country names",
         "locations": [
          "Chile",
          "Colombia",
          "Egypt",
          "India",
          "Indonesia",
          "Mexico",
          "Pakistan",
          "Peru"
         ],
         "name": "Low Disaster & Low Population",
         "showlegend": true,
         "showscale": false,
         "type": "choropleth",
         "z": [
          1,
          1,
          1,
          1,
          1,
          1,
          1,
          1
         ]
        },
        {
         "colorscale": [
          [
           0,
           "rgb(128,177,211)"
          ],
          [
           1,
           "rgb(128,177,211)"
          ]
         ],
         "geo": "geo",
         "hovertemplate": "<b>%{hovertext}</b><br><br>KMeans_Label=Flood & Earthquake Prone<br>Country=%{location}<extra></extra>",
         "hovertext": [
          "China"
         ],
         "locationmode": "country names",
         "locations": [
          "China"
         ],
         "name": "Flood & Earthquake Prone",
         "showlegend": true,
         "showscale": false,
         "type": "choropleth",
         "z": [
          1
         ]
        }
       ],
       "layout": {
        "geo": {
         "center": {},
         "domain": {
          "x": [
           0,
           1
          ],
          "y": [
           0,
           1
          ]
         }
        },
        "legend": {
         "title": {
          "text": "Disaster Cluster"
         },
         "tracegroupgap": 0
        },
        "template": {
         "data": {
          "bar": [
           {
            "error_x": {
             "color": "#2a3f5f"
            },
            "error_y": {
             "color": "#2a3f5f"
            },
            "marker": {
             "line": {
              "color": "#E5ECF6",
              "width": 0.5
             },
             "pattern": {
              "fillmode": "overlay",
              "size": 10,
              "solidity": 0.2
             }
            },
            "type": "bar"
           }
          ],
          "barpolar": [
           {
            "marker": {
             "line": {
              "color": "#E5ECF6",
              "width": 0.5
             },
             "pattern": {
              "fillmode": "overlay",
              "size": 10,
              "solidity": 0.2
             }
            },
            "type": "barpolar"
           }
          ],
          "carpet": [
           {
            "aaxis": {
             "endlinecolor": "#2a3f5f",
             "gridcolor": "white",
             "linecolor": "white",
             "minorgridcolor": "white",
             "startlinecolor": "#2a3f5f"
            },
            "baxis": {
             "endlinecolor": "#2a3f5f",
             "gridcolor": "white",
             "linecolor": "white",
             "minorgridcolor": "white",
             "startlinecolor": "#2a3f5f"
            },
            "type": "carpet"
           }
          ],
          "choropleth": [
           {
            "colorbar": {
             "outlinewidth": 0,
             "ticks": ""
            },
            "type": "choropleth"
           }
          ],
          "contour": [
           {
            "colorbar": {
             "outlinewidth": 0,
             "ticks": ""
            },
            "colorscale": [
             [
              0,
              "#0d0887"
             ],
             [
              0.1111111111111111,
              "#46039f"
             ],
             [
              0.2222222222222222,
              "#7201a8"
             ],
             [
              0.3333333333333333,
              "#9c179e"
             ],
             [
              0.4444444444444444,
              "#bd3786"
             ],
             [
              0.5555555555555556,
              "#d8576b"
             ],
             [
              0.6666666666666666,
              "#ed7953"
             ],
             [
              0.7777777777777778,
              "#fb9f3a"
             ],
             [
              0.8888888888888888,
              "#fdca26"
             ],
             [
              1,
              "#f0f921"
             ]
            ],
            "type": "contour"
           }
          ],
          "contourcarpet": [
           {
            "colorbar": {
             "outlinewidth": 0,
             "ticks": ""
            },
            "type": "contourcarpet"
           }
          ],
          "heatmap": [
           {
            "colorbar": {
             "outlinewidth": 0,
             "ticks": ""
            },
            "colorscale": [
             [
              0,
              "#0d0887"
             ],
             [
              0.1111111111111111,
              "#46039f"
             ],
             [
              0.2222222222222222,
              "#7201a8"
             ],
             [
              0.3333333333333333,
              "#9c179e"
             ],
             [
              0.4444444444444444,
              "#bd3786"
             ],
             [
              0.5555555555555556,
              "#d8576b"
             ],
             [
              0.6666666666666666,
              "#ed7953"
             ],
             [
              0.7777777777777778,
              "#fb9f3a"
             ],
             [
              0.8888888888888888,
              "#fdca26"
             ],
             [
              1,
              "#f0f921"
             ]
            ],
            "type": "heatmap"
           }
          ],
          "histogram": [
           {
            "marker": {
             "pattern": {
              "fillmode": "overlay",
              "size": 10,
              "solidity": 0.2
             }
            },
            "type": "histogram"
           }
          ],
          "histogram2d": [
           {
            "colorbar": {
             "outlinewidth": 0,
             "ticks": ""
            },
            "colorscale": [
             [
              0,
              "#0d0887"
             ],
             [
              0.1111111111111111,
              "#46039f"
             ],
             [
              0.2222222222222222,
              "#7201a8"
             ],
             [
              0.3333333333333333,
              "#9c179e"
             ],
             [
              0.4444444444444444,
              "#bd3786"
             ],
             [
              0.5555555555555556,
              "#d8576b"
             ],
             [
              0.6666666666666666,
              "#ed7953"
             ],
             [
              0.7777777777777778,
              "#fb9f3a"
             ],
             [
              0.8888888888888888,
              "#fdca26"
             ],
             [
              1,
              "#f0f921"
             ]
            ],
            "type": "histogram2d"
           }
          ],
          "histogram2dcontour": [
           {
            "colorbar": {
             "outlinewidth": 0,
             "ticks": ""
            },
            "colorscale": [
             [
              0,
              "#0d0887"
             ],
             [
              0.1111111111111111,
              "#46039f"
             ],
             [
              0.2222222222222222,
              "#7201a8"
             ],
             [
              0.3333333333333333,
              "#9c179e"
             ],
             [
              0.4444444444444444,
              "#bd3786"
             ],
             [
              0.5555555555555556,
              "#d8576b"
             ],
             [
              0.6666666666666666,
              "#ed7953"
             ],
             [
              0.7777777777777778,
              "#fb9f3a"
             ],
             [
              0.8888888888888888,
              "#fdca26"
             ],
             [
              1,
              "#f0f921"
             ]
            ],
            "type": "histogram2dcontour"
           }
          ],
          "mesh3d": [
           {
            "colorbar": {
             "outlinewidth": 0,
             "ticks": ""
            },
            "type": "mesh3d"
           }
          ],
          "parcoords": [
           {
            "line": {
             "colorbar": {
              "outlinewidth": 0,
              "ticks": ""
             }
            },
            "type": "parcoords"
           }
          ],
          "pie": [
           {
            "automargin": true,
            "type": "pie"
           }
          ],
          "scatter": [
           {
            "fillpattern": {
             "fillmode": "overlay",
             "size": 10,
             "solidity": 0.2
            },
            "type": "scatter"
           }
          ],
          "scatter3d": [
           {
            "line": {
             "colorbar": {
              "outlinewidth": 0,
              "ticks": ""
             }
            },
            "marker": {
             "colorbar": {
              "outlinewidth": 0,
              "ticks": ""
             }
            },
            "type": "scatter3d"
           }
          ],
          "scattercarpet": [
           {
            "marker": {
             "colorbar": {
              "outlinewidth": 0,
              "ticks": ""
             }
            },
            "type": "scattercarpet"
           }
          ],
          "scattergeo": [
           {
            "marker": {
             "colorbar": {
              "outlinewidth": 0,
              "ticks": ""
             }
            },
            "type": "scattergeo"
           }
          ],
          "scattergl": [
           {
            "marker": {
             "colorbar": {
              "outlinewidth": 0,
              "ticks": ""
             }
            },
            "type": "scattergl"
           }
          ],
          "scattermap": [
           {
            "marker": {
             "colorbar": {
              "outlinewidth": 0,
              "ticks": ""
             }
            },
            "type": "scattermap"
           }
          ],
          "scattermapbox": [
           {
            "marker": {
             "colorbar": {
              "outlinewidth": 0,
              "ticks": ""
             }
            },
            "type": "scattermapbox"
           }
          ],
          "scatterpolar": [
           {
            "marker": {
             "colorbar": {
              "outlinewidth": 0,
              "ticks": ""
             }
            },
            "type": "scatterpolar"
           }
          ],
          "scatterpolargl": [
           {
            "marker": {
             "colorbar": {
              "outlinewidth": 0,
              "ticks": ""
             }
            },
            "type": "scatterpolargl"
           }
          ],
          "scatterternary": [
           {
            "marker": {
             "colorbar": {
              "outlinewidth": 0,
              "ticks": ""
             }
            },
            "type": "scatterternary"
           }
          ],
          "surface": [
           {
            "colorbar": {
             "outlinewidth": 0,
             "ticks": ""
            },
            "colorscale": [
             [
              0,
              "#0d0887"
             ],
             [
              0.1111111111111111,
              "#46039f"
             ],
             [
              0.2222222222222222,
              "#7201a8"
             ],
             [
              0.3333333333333333,
              "#9c179e"
             ],
             [
              0.4444444444444444,
              "#bd3786"
             ],
             [
              0.5555555555555556,
              "#d8576b"
             ],
             [
              0.6666666666666666,
              "#ed7953"
             ],
             [
              0.7777777777777778,
              "#fb9f3a"
             ],
             [
              0.8888888888888888,
              "#fdca26"
             ],
             [
              1,
              "#f0f921"
             ]
            ],
            "type": "surface"
           }
          ],
          "table": [
           {
            "cells": {
             "fill": {
              "color": "#EBF0F8"
             },
             "line": {
              "color": "white"
             }
            },
            "header": {
             "fill": {
              "color": "#C8D4E3"
             },
             "line": {
              "color": "white"
             }
            },
            "type": "table"
           }
          ]
         },
         "layout": {
          "annotationdefaults": {
           "arrowcolor": "#2a3f5f",
           "arrowhead": 0,
           "arrowwidth": 1
          },
          "autotypenumbers": "strict",
          "coloraxis": {
           "colorbar": {
            "outlinewidth": 0,
            "ticks": ""
           }
          },
          "colorscale": {
           "diverging": [
            [
             0,
             "#8e0152"
            ],
            [
             0.1,
             "#c51b7d"
            ],
            [
             0.2,
             "#de77ae"
            ],
            [
             0.3,
             "#f1b6da"
            ],
            [
             0.4,
             "#fde0ef"
            ],
            [
             0.5,
             "#f7f7f7"
            ],
            [
             0.6,
             "#e6f5d0"
            ],
            [
             0.7,
             "#b8e186"
            ],
            [
             0.8,
             "#7fbc41"
            ],
            [
             0.9,
             "#4d9221"
            ],
            [
             1,
             "#276419"
            ]
           ],
           "sequential": [
            [
             0,
             "#0d0887"
            ],
            [
             0.1111111111111111,
             "#46039f"
            ],
            [
             0.2222222222222222,
             "#7201a8"
            ],
            [
             0.3333333333333333,
             "#9c179e"
            ],
            [
             0.4444444444444444,
             "#bd3786"
            ],
            [
             0.5555555555555556,
             "#d8576b"
            ],
            [
             0.6666666666666666,
             "#ed7953"
            ],
            [
             0.7777777777777778,
             "#fb9f3a"
            ],
            [
             0.8888888888888888,
             "#fdca26"
            ],
            [
             1,
             "#f0f921"
            ]
           ],
           "sequentialminus": [
            [
             0,
             "#0d0887"
            ],
            [
             0.1111111111111111,
             "#46039f"
            ],
            [
             0.2222222222222222,
             "#7201a8"
            ],
            [
             0.3333333333333333,
             "#9c179e"
            ],
            [
             0.4444444444444444,
             "#bd3786"
            ],
            [
             0.5555555555555556,
             "#d8576b"
            ],
            [
             0.6666666666666666,
             "#ed7953"
            ],
            [
             0.7777777777777778,
             "#fb9f3a"
            ],
            [
             0.8888888888888888,
             "#fdca26"
            ],
            [
             1,
             "#f0f921"
            ]
           ]
          },
          "colorway": [
           "#636efa",
           "#EF553B",
           "#00cc96",
           "#ab63fa",
           "#FFA15A",
           "#19d3f3",
           "#FF6692",
           "#B6E880",
           "#FF97FF",
           "#FECB52"
          ],
          "font": {
           "color": "#2a3f5f"
          },
          "geo": {
           "bgcolor": "white",
           "lakecolor": "white",
           "landcolor": "#E5ECF6",
           "showlakes": true,
           "showland": true,
           "subunitcolor": "white"
          },
          "hoverlabel": {
           "align": "left"
          },
          "hovermode": "closest",
          "mapbox": {
           "style": "light"
          },
          "paper_bgcolor": "white",
          "plot_bgcolor": "#E5ECF6",
          "polar": {
           "angularaxis": {
            "gridcolor": "white",
            "linecolor": "white",
            "ticks": ""
           },
           "bgcolor": "#E5ECF6",
           "radialaxis": {
            "gridcolor": "white",
            "linecolor": "white",
            "ticks": ""
           }
          },
          "scene": {
           "xaxis": {
            "backgroundcolor": "#E5ECF6",
            "gridcolor": "white",
            "gridwidth": 2,
            "linecolor": "white",
            "showbackground": true,
            "ticks": "",
            "zerolinecolor": "white"
           },
           "yaxis": {
            "backgroundcolor": "#E5ECF6",
            "gridcolor": "white",
            "gridwidth": 2,
            "linecolor": "white",
            "showbackground": true,
            "ticks": "",
            "zerolinecolor": "white"
           },
           "zaxis": {
            "backgroundcolor": "#E5ECF6",
            "gridcolor": "white",
            "gridwidth": 2,
            "linecolor": "white",
            "showbackground": true,
            "ticks": "",
            "zerolinecolor": "white"
           }
          },
          "shapedefaults": {
           "line": {
            "color": "#2a3f5f"
           }
          },
          "ternary": {
           "aaxis": {
            "gridcolor": "white",
            "linecolor": "white",
            "ticks": ""
           },
           "baxis": {
            "gridcolor": "white",
            "linecolor": "white",
            "ticks": ""
           },
           "bgcolor": "#E5ECF6",
           "caxis": {
            "gridcolor": "white",
            "linecolor": "white",
            "ticks": ""
           }
          },
          "title": {
           "x": 0.05
          },
          "xaxis": {
           "automargin": true,
           "gridcolor": "white",
           "linecolor": "white",
           "ticks": "",
           "title": {
            "standoff": 15
           },
           "zerolinecolor": "white",
           "zerolinewidth": 2
          },
          "yaxis": {
           "automargin": true,
           "gridcolor": "white",
           "linecolor": "white",
           "ticks": "",
           "title": {
            "standoff": 15
           },
           "zerolinecolor": "white",
           "zerolinewidth": 2
          }
         }
        },
        "title": {
         "text": "🌍 Country Clustering Based on Disaster Exposure & Population (KMeans)"
        }
       }
      }
     },
     "metadata": {},
     "output_type": "display_data"
    }
   ],
   "source": [
    "kmeans = KMeans(n_clusters=5, random_state=42)\n",
    "df[\"KMeans_Cluster\"] = kmeans.fit_predict(X_scaled)\n",
    "# Assign labels (based on domain analysis)\n",
    "cluster_labels_map = {\n",
    "    0: \"Flood & Earthquake Prone\",\n",
    "    1: \"Low Disaster & Low Population\",\n",
    "    2: \"Storm & Wildfire Dominant\",\n",
    "    3: \"High Population Mixed Risk\",\n",
    "    4: \"Heat & Drought Affected\"\n",
    "}\n",
    "df[\"KMeans_Label\"] = df[\"KMeans_Cluster\"].map(cluster_labels_map)\n",
    "\n",
    "# Evaluation (no function)\n",
    "silhouette = silhouette_score(X_scaled, df[\"KMeans_Cluster\"])\n",
    "db_index = davies_bouldin_score(X_scaled, df[\"KMeans_Cluster\"])\n",
    "ch_index = calinski_harabasz_score(X_scaled, df[\"KMeans_Cluster\"])\n",
    "\n",
    "print(\"\\n🔍 K-Means Clustering Evaluation:\")\n",
    "print(f\"Silhouette Score        : {silhouette:.4f}\")\n",
    "print(f\"Davies-Bouldin Index    : {db_index:.4f}\")\n",
    "print(f\"Calinski-Harabasz Index : {ch_index:.2f}\")\n",
    "\n",
    "# Cluster profiles\n",
    "cluster_profiles = df.groupby(\"KMeans_Label\")[features].mean()\n",
    "plt.figure(figsize=(12, 6))\n",
    "sns.heatmap(cluster_profiles, annot=True, fmt=\".1f\", cmap=\"YlOrBr\")\n",
    "plt.title(\"🔥 Cluster Profiles by Disaster Type + Population\")\n",
    "plt.tight_layout()\n",
    "plt.show()\n",
    "\n",
    "# PCA for 2D visualization\n",
    "pca = PCA(n_components=2)\n",
    "pca_result = pca.fit_transform(X_scaled)\n",
    "df[\"PCA1\"] = pca_result[:, 0]\n",
    "df[\"PCA2\"] = pca_result[:, 1]\n",
    "\n",
    "plt.figure(figsize=(10, 6))\n",
    "sns.scatterplot(data=df, x=\"PCA1\", y=\"PCA2\", hue=\"KMeans_Label\", palette=\"tab10\", s=100)\n",
    "plt.title(\"🌍 Country Clusters (PCA Projection) - KMeans\")\n",
    "plt.grid(True)\n",
    "plt.tight_layout()\n",
    "plt.show()\n",
    "\n",
    "# Choropleth world map\n",
    "fig = px.choropleth(\n",
    "    df,\n",
    "    locations=\"Country\",\n",
    "    locationmode=\"country names\",\n",
    "    color=\"KMeans_Label\",\n",
    "    title=\"🌍 Country Clustering Based on Disaster Exposure & Population (KMeans)\",\n",
    "    color_discrete_sequence=px.colors.qualitative.Set3,\n",
    "    hover_name=\"Country\"\n",
    ")\n",
    "fig.update_layout(legend_title_text=\"Disaster Cluster\")\n",
    "fig.show()"
   ]
  },
  {
   "cell_type": "code",
   "execution_count": 78,
   "id": "115bc35e",
   "metadata": {},
   "outputs": [
    {
     "name": "stdout",
     "output_type": "stream",
     "text": [
      "✅ Clustering results saved to '../Data/clustering_results.csv'\n"
     ]
    }
   ],
   "source": [
    "# Save final clustering results to CSV\n",
    "# This will include PCA columns, cluster assignments, and labels\n",
    "df.to_csv(\"../Data/clustering_results.csv\", index=False)\n",
    "\n",
    "print(\"✅ Clustering results saved to '../Data/clustering_results.csv'\")"
   ]
  }
 ],
 "metadata": {
  "kernelspec": {
   "display_name": "base",
   "language": "python",
   "name": "python3"
  },
  "language_info": {
   "codemirror_mode": {
    "name": "ipython",
    "version": 3
   },
   "file_extension": ".py",
   "mimetype": "text/x-python",
   "name": "python",
   "nbconvert_exporter": "python",
   "pygments_lexer": "ipython3",
   "version": "3.8.5"
  }
 },
 "nbformat": 4,
 "nbformat_minor": 5
}
