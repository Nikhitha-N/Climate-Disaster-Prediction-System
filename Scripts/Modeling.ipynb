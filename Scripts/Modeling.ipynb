{
 "cells": [
  {
   "cell_type": "code",
   "execution_count": 136,
   "metadata": {},
   "outputs": [
    {
     "data": {
      "text/html": [
       "<div>\n",
       "<style scoped>\n",
       "    .dataframe tbody tr th:only-of-type {\n",
       "        vertical-align: middle;\n",
       "    }\n",
       "\n",
       "    .dataframe tbody tr th {\n",
       "        vertical-align: top;\n",
       "    }\n",
       "\n",
       "    .dataframe thead th {\n",
       "        text-align: right;\n",
       "    }\n",
       "</style>\n",
       "<table border=\"1\" class=\"dataframe\">\n",
       "  <thead>\n",
       "    <tr style=\"text-align: right;\">\n",
       "      <th></th>\n",
       "      <th>dt</th>\n",
       "      <th>AverageTemperature</th>\n",
       "      <th>AverageTemperatureUncertainty</th>\n",
       "      <th>City</th>\n",
       "      <th>Country</th>\n",
       "      <th>Latitude</th>\n",
       "      <th>Longitude</th>\n",
       "    </tr>\n",
       "  </thead>\n",
       "  <tbody>\n",
       "    <tr>\n",
       "      <th>0</th>\n",
       "      <td>1849-01-01</td>\n",
       "      <td>26.704</td>\n",
       "      <td>1.435</td>\n",
       "      <td>Abidjan</td>\n",
       "      <td>Côte D'Ivoire</td>\n",
       "      <td>5.63N</td>\n",
       "      <td>3.23W</td>\n",
       "    </tr>\n",
       "    <tr>\n",
       "      <th>1</th>\n",
       "      <td>1849-02-01</td>\n",
       "      <td>27.434</td>\n",
       "      <td>1.362</td>\n",
       "      <td>Abidjan</td>\n",
       "      <td>Côte D'Ivoire</td>\n",
       "      <td>5.63N</td>\n",
       "      <td>3.23W</td>\n",
       "    </tr>\n",
       "    <tr>\n",
       "      <th>2</th>\n",
       "      <td>1849-03-01</td>\n",
       "      <td>28.101</td>\n",
       "      <td>1.612</td>\n",
       "      <td>Abidjan</td>\n",
       "      <td>Côte D'Ivoire</td>\n",
       "      <td>5.63N</td>\n",
       "      <td>3.23W</td>\n",
       "    </tr>\n",
       "    <tr>\n",
       "      <th>3</th>\n",
       "      <td>1849-04-01</td>\n",
       "      <td>26.140</td>\n",
       "      <td>1.387</td>\n",
       "      <td>Abidjan</td>\n",
       "      <td>Côte D'Ivoire</td>\n",
       "      <td>5.63N</td>\n",
       "      <td>3.23W</td>\n",
       "    </tr>\n",
       "    <tr>\n",
       "      <th>4</th>\n",
       "      <td>1849-05-01</td>\n",
       "      <td>25.427</td>\n",
       "      <td>1.200</td>\n",
       "      <td>Abidjan</td>\n",
       "      <td>Côte D'Ivoire</td>\n",
       "      <td>5.63N</td>\n",
       "      <td>3.23W</td>\n",
       "    </tr>\n",
       "  </tbody>\n",
       "</table>\n",
       "</div>"
      ],
      "text/plain": [
       "           dt  AverageTemperature  AverageTemperatureUncertainty     City  \\\n",
       "0  1849-01-01              26.704                          1.435  Abidjan   \n",
       "1  1849-02-01              27.434                          1.362  Abidjan   \n",
       "2  1849-03-01              28.101                          1.612  Abidjan   \n",
       "3  1849-04-01              26.140                          1.387  Abidjan   \n",
       "4  1849-05-01              25.427                          1.200  Abidjan   \n",
       "\n",
       "         Country Latitude Longitude  \n",
       "0  Côte D'Ivoire    5.63N     3.23W  \n",
       "1  Côte D'Ivoire    5.63N     3.23W  \n",
       "2  Côte D'Ivoire    5.63N     3.23W  \n",
       "3  Côte D'Ivoire    5.63N     3.23W  \n",
       "4  Côte D'Ivoire    5.63N     3.23W  "
      ]
     },
     "execution_count": 136,
     "metadata": {},
     "output_type": "execute_result"
    }
   ],
   "source": [
    "import pandas as pd\n",
    "import numpy as np\n",
    "temp=pd.read_csv('../Data/global_temperatures.csv')\n",
    "temp.head()"
   ]
  },
  {
   "cell_type": "code",
   "execution_count": 137,
   "metadata": {},
   "outputs": [
    {
     "data": {
      "text/html": [
       "<div>\n",
       "<style scoped>\n",
       "    .dataframe tbody tr th:only-of-type {\n",
       "        vertical-align: middle;\n",
       "    }\n",
       "\n",
       "    .dataframe tbody tr th {\n",
       "        vertical-align: top;\n",
       "    }\n",
       "\n",
       "    .dataframe thead th {\n",
       "        text-align: right;\n",
       "    }\n",
       "</style>\n",
       "<table border=\"1\" class=\"dataframe\">\n",
       "  <thead>\n",
       "    <tr style=\"text-align: right;\">\n",
       "      <th></th>\n",
       "      <th>Entity</th>\n",
       "      <th>Year</th>\n",
       "      <th>Annual CO₂ emissions (per capita)</th>\n",
       "    </tr>\n",
       "  </thead>\n",
       "  <tbody>\n",
       "    <tr>\n",
       "      <th>0</th>\n",
       "      <td>Afghanistan</td>\n",
       "      <td>1949</td>\n",
       "      <td>0.001992</td>\n",
       "    </tr>\n",
       "    <tr>\n",
       "      <th>1</th>\n",
       "      <td>Afghanistan</td>\n",
       "      <td>1950</td>\n",
       "      <td>0.010837</td>\n",
       "    </tr>\n",
       "    <tr>\n",
       "      <th>2</th>\n",
       "      <td>Afghanistan</td>\n",
       "      <td>1951</td>\n",
       "      <td>0.011625</td>\n",
       "    </tr>\n",
       "    <tr>\n",
       "      <th>3</th>\n",
       "      <td>Afghanistan</td>\n",
       "      <td>1952</td>\n",
       "      <td>0.011468</td>\n",
       "    </tr>\n",
       "    <tr>\n",
       "      <th>4</th>\n",
       "      <td>Afghanistan</td>\n",
       "      <td>1953</td>\n",
       "      <td>0.013123</td>\n",
       "    </tr>\n",
       "  </tbody>\n",
       "</table>\n",
       "</div>"
      ],
      "text/plain": [
       "        Entity  Year  Annual CO₂ emissions (per capita)\n",
       "0  Afghanistan  1949                           0.001992\n",
       "1  Afghanistan  1950                           0.010837\n",
       "2  Afghanistan  1951                           0.011625\n",
       "3  Afghanistan  1952                           0.011468\n",
       "4  Afghanistan  1953                           0.013123"
      ]
     },
     "execution_count": 137,
     "metadata": {},
     "output_type": "execute_result"
    }
   ],
   "source": [
    "co2=pd.read_csv(\"../Data/co_emissions.csv\")\n",
    "co2.head()"
   ]
  },
  {
   "cell_type": "code",
   "execution_count": 138,
   "metadata": {},
   "outputs": [
    {
     "data": {
      "text/html": [
       "<div>\n",
       "<style scoped>\n",
       "    .dataframe tbody tr th:only-of-type {\n",
       "        vertical-align: middle;\n",
       "    }\n",
       "\n",
       "    .dataframe tbody tr th {\n",
       "        vertical-align: top;\n",
       "    }\n",
       "\n",
       "    .dataframe thead th {\n",
       "        text-align: right;\n",
       "    }\n",
       "</style>\n",
       "<table border=\"1\" class=\"dataframe\">\n",
       "  <thead>\n",
       "    <tr style=\"text-align: right;\">\n",
       "      <th></th>\n",
       "      <th>Entity</th>\n",
       "      <th>Code</th>\n",
       "      <th>Year</th>\n",
       "      <th>Annual precipitation</th>\n",
       "    </tr>\n",
       "  </thead>\n",
       "  <tbody>\n",
       "    <tr>\n",
       "      <th>0</th>\n",
       "      <td>Afghanistan</td>\n",
       "      <td>AFG</td>\n",
       "      <td>1940</td>\n",
       "      <td>217.67816</td>\n",
       "    </tr>\n",
       "    <tr>\n",
       "      <th>1</th>\n",
       "      <td>Afghanistan</td>\n",
       "      <td>AFG</td>\n",
       "      <td>1941</td>\n",
       "      <td>196.80933</td>\n",
       "    </tr>\n",
       "    <tr>\n",
       "      <th>2</th>\n",
       "      <td>Afghanistan</td>\n",
       "      <td>AFG</td>\n",
       "      <td>1942</td>\n",
       "      <td>300.08905</td>\n",
       "    </tr>\n",
       "    <tr>\n",
       "      <th>3</th>\n",
       "      <td>Afghanistan</td>\n",
       "      <td>AFG</td>\n",
       "      <td>1943</td>\n",
       "      <td>345.60892</td>\n",
       "    </tr>\n",
       "    <tr>\n",
       "      <th>4</th>\n",
       "      <td>Afghanistan</td>\n",
       "      <td>AFG</td>\n",
       "      <td>1944</td>\n",
       "      <td>324.44350</td>\n",
       "    </tr>\n",
       "  </tbody>\n",
       "</table>\n",
       "</div>"
      ],
      "text/plain": [
       "        Entity Code  Year  Annual precipitation\n",
       "0  Afghanistan  AFG  1940             217.67816\n",
       "1  Afghanistan  AFG  1941             196.80933\n",
       "2  Afghanistan  AFG  1942             300.08905\n",
       "3  Afghanistan  AFG  1943             345.60892\n",
       "4  Afghanistan  AFG  1944             324.44350"
      ]
     },
     "execution_count": 138,
     "metadata": {},
     "output_type": "execute_result"
    }
   ],
   "source": [
    "rain=pd.read_csv('../Data/precipitation.csv')\n",
    "rain.head()"
   ]
  },
  {
   "cell_type": "code",
   "execution_count": 139,
   "metadata": {},
   "outputs": [
    {
     "data": {
      "text/html": [
       "<div>\n",
       "<style scoped>\n",
       "    .dataframe tbody tr th:only-of-type {\n",
       "        vertical-align: middle;\n",
       "    }\n",
       "\n",
       "    .dataframe tbody tr th {\n",
       "        vertical-align: top;\n",
       "    }\n",
       "\n",
       "    .dataframe thead th {\n",
       "        text-align: right;\n",
       "    }\n",
       "</style>\n",
       "<table border=\"1\" class=\"dataframe\">\n",
       "  <thead>\n",
       "    <tr style=\"text-align: right;\">\n",
       "      <th></th>\n",
       "      <th>Entity</th>\n",
       "      <th>Code</th>\n",
       "      <th>Year</th>\n",
       "      <th>Annual net change in forest area</th>\n",
       "    </tr>\n",
       "  </thead>\n",
       "  <tbody>\n",
       "    <tr>\n",
       "      <th>0</th>\n",
       "      <td>Algeria</td>\n",
       "      <td>DZA</td>\n",
       "      <td>1990</td>\n",
       "      <td>-8800.0</td>\n",
       "    </tr>\n",
       "    <tr>\n",
       "      <th>1</th>\n",
       "      <td>Algeria</td>\n",
       "      <td>DZA</td>\n",
       "      <td>2000</td>\n",
       "      <td>33900.0</td>\n",
       "    </tr>\n",
       "    <tr>\n",
       "      <th>2</th>\n",
       "      <td>Algeria</td>\n",
       "      <td>DZA</td>\n",
       "      <td>2010</td>\n",
       "      <td>7600.0</td>\n",
       "    </tr>\n",
       "    <tr>\n",
       "      <th>3</th>\n",
       "      <td>Algeria</td>\n",
       "      <td>DZA</td>\n",
       "      <td>2015</td>\n",
       "      <td>-1400.0</td>\n",
       "    </tr>\n",
       "    <tr>\n",
       "      <th>4</th>\n",
       "      <td>Argentina</td>\n",
       "      <td>ARG</td>\n",
       "      <td>1990</td>\n",
       "      <td>-182600.0</td>\n",
       "    </tr>\n",
       "  </tbody>\n",
       "</table>\n",
       "</div>"
      ],
      "text/plain": [
       "      Entity Code  Year  Annual net change in forest area\n",
       "0    Algeria  DZA  1990                           -8800.0\n",
       "1    Algeria  DZA  2000                           33900.0\n",
       "2    Algeria  DZA  2010                            7600.0\n",
       "3    Algeria  DZA  2015                           -1400.0\n",
       "4  Argentina  ARG  1990                         -182600.0"
      ]
     },
     "execution_count": 139,
     "metadata": {},
     "output_type": "execute_result"
    }
   ],
   "source": [
    "forest=pd.read_csv('../Data/Forest_area.csv')\n",
    "forest.head()"
   ]
  },
  {
   "cell_type": "code",
   "execution_count": 140,
   "metadata": {},
   "outputs": [
    {
     "data": {
      "text/html": [
       "<div>\n",
       "<style scoped>\n",
       "    .dataframe tbody tr th:only-of-type {\n",
       "        vertical-align: middle;\n",
       "    }\n",
       "\n",
       "    .dataframe tbody tr th {\n",
       "        vertical-align: top;\n",
       "    }\n",
       "\n",
       "    .dataframe thead th {\n",
       "        text-align: right;\n",
       "    }\n",
       "</style>\n",
       "<table border=\"1\" class=\"dataframe\">\n",
       "  <thead>\n",
       "    <tr style=\"text-align: right;\">\n",
       "      <th></th>\n",
       "      <th>Year</th>\n",
       "      <th>Country</th>\n",
       "      <th>ISO</th>\n",
       "      <th>Disaster Group</th>\n",
       "      <th>Disaster Subroup</th>\n",
       "      <th>Disaster Type</th>\n",
       "      <th>Disaster Subtype</th>\n",
       "      <th>Total Events</th>\n",
       "      <th>Total Affected</th>\n",
       "      <th>Total Deaths</th>\n",
       "      <th>Total Damage (USD, original)</th>\n",
       "      <th>Total Damage (USD, adjusted)</th>\n",
       "      <th>CPI</th>\n",
       "    </tr>\n",
       "  </thead>\n",
       "  <tbody>\n",
       "    <tr>\n",
       "      <th>0</th>\n",
       "      <td>1949.0</td>\n",
       "      <td>United States of America (the)</td>\n",
       "      <td>NaN</td>\n",
       "      <td>Natural</td>\n",
       "      <td>Geophysical</td>\n",
       "      <td>Earthquake</td>\n",
       "      <td>Ground movement</td>\n",
       "      <td>1.0</td>\n",
       "      <td>2847.0</td>\n",
       "      <td>8.0</td>\n",
       "      <td>25000000.0</td>\n",
       "      <td>306809399.0</td>\n",
       "      <td>8.148381</td>\n",
       "    </tr>\n",
       "    <tr>\n",
       "      <th>1</th>\n",
       "      <td>1950.0</td>\n",
       "      <td>Antigua and Barbuda</td>\n",
       "      <td>ATG</td>\n",
       "      <td>Natural</td>\n",
       "      <td>Meteorological</td>\n",
       "      <td>Storm</td>\n",
       "      <td>Tropical cyclone</td>\n",
       "      <td>1.0</td>\n",
       "      <td>5478.5</td>\n",
       "      <td>2.0</td>\n",
       "      <td>1000000.0</td>\n",
       "      <td>12136582.0</td>\n",
       "      <td>8.239552</td>\n",
       "    </tr>\n",
       "    <tr>\n",
       "      <th>2</th>\n",
       "      <td>1950.0</td>\n",
       "      <td>Canada</td>\n",
       "      <td>CAN</td>\n",
       "      <td>Natural</td>\n",
       "      <td>Meteorological</td>\n",
       "      <td>Storm</td>\n",
       "      <td>Convective storm</td>\n",
       "      <td>1.0</td>\n",
       "      <td>2006.0</td>\n",
       "      <td>5.5</td>\n",
       "      <td>120000000.0</td>\n",
       "      <td>250280890.0</td>\n",
       "      <td>8.239552</td>\n",
       "    </tr>\n",
       "    <tr>\n",
       "      <th>3</th>\n",
       "      <td>1950.0</td>\n",
       "      <td>Ecuador</td>\n",
       "      <td>ECU</td>\n",
       "      <td>Natural</td>\n",
       "      <td>Hydrological</td>\n",
       "      <td>Flood</td>\n",
       "      <td>Flood</td>\n",
       "      <td>1.0</td>\n",
       "      <td>15959.5</td>\n",
       "      <td>50.0</td>\n",
       "      <td>13000000.0</td>\n",
       "      <td>37152696.0</td>\n",
       "      <td>8.239552</td>\n",
       "    </tr>\n",
       "    <tr>\n",
       "      <th>4</th>\n",
       "      <td>1950.0</td>\n",
       "      <td>Indonesia</td>\n",
       "      <td>IDN</td>\n",
       "      <td>Natural</td>\n",
       "      <td>Geophysical</td>\n",
       "      <td>Earthquake</td>\n",
       "      <td>Ground movement</td>\n",
       "      <td>1.0</td>\n",
       "      <td>50.0</td>\n",
       "      <td>16.0</td>\n",
       "      <td>20150000.0</td>\n",
       "      <td>39341639.0</td>\n",
       "      <td>8.239552</td>\n",
       "    </tr>\n",
       "  </tbody>\n",
       "</table>\n",
       "</div>"
      ],
      "text/plain": [
       "     Year                         Country  ISO Disaster Group  \\\n",
       "0  1949.0  United States of America (the)  NaN        Natural   \n",
       "1  1950.0             Antigua and Barbuda  ATG        Natural   \n",
       "2  1950.0                          Canada  CAN        Natural   \n",
       "3  1950.0                         Ecuador  ECU        Natural   \n",
       "4  1950.0                       Indonesia  IDN        Natural   \n",
       "\n",
       "  Disaster Subroup Disaster Type  Disaster Subtype  Total Events  \\\n",
       "0      Geophysical    Earthquake   Ground movement           1.0   \n",
       "1   Meteorological         Storm  Tropical cyclone           1.0   \n",
       "2   Meteorological         Storm  Convective storm           1.0   \n",
       "3     Hydrological         Flood             Flood           1.0   \n",
       "4      Geophysical    Earthquake   Ground movement           1.0   \n",
       "\n",
       "   Total Affected  Total Deaths  Total Damage (USD, original)  \\\n",
       "0          2847.0           8.0                    25000000.0   \n",
       "1          5478.5           2.0                     1000000.0   \n",
       "2          2006.0           5.5                   120000000.0   \n",
       "3         15959.5          50.0                    13000000.0   \n",
       "4            50.0          16.0                    20150000.0   \n",
       "\n",
       "   Total Damage (USD, adjusted)       CPI  \n",
       "0                   306809399.0  8.148381  \n",
       "1                    12136582.0  8.239552  \n",
       "2                   250280890.0  8.239552  \n",
       "3                    37152696.0  8.239552  \n",
       "4                    39341639.0  8.239552  "
      ]
     },
     "execution_count": 140,
     "metadata": {},
     "output_type": "execute_result"
    }
   ],
   "source": [
    "disasters=pd.read_csv('../Data/new_df5.csv')\n",
    "disasters.head()"
   ]
  },
  {
   "cell_type": "code",
   "execution_count": 141,
   "metadata": {},
   "outputs": [
    {
     "data": {
      "text/plain": [
       "Year                              0\n",
       "Country                           0\n",
       "ISO                             771\n",
       "Disaster Group                    0\n",
       "Disaster Subroup                  0\n",
       "Disaster Type                     0\n",
       "Disaster Subtype                  0\n",
       "Total Events                      0\n",
       "Total Affected                    0\n",
       "Total Deaths                      0\n",
       "Total Damage (USD, original)      0\n",
       "Total Damage (USD, adjusted)      0\n",
       "CPI                               0\n",
       "dtype: int64"
      ]
     },
     "execution_count": 141,
     "metadata": {},
     "output_type": "execute_result"
    }
   ],
   "source": [
    "disasters.isnull().sum()"
   ]
  },
  {
   "cell_type": "code",
   "execution_count": 142,
   "metadata": {},
   "outputs": [
    {
     "name": "stdout",
     "output_type": "stream",
     "text": [
      "['Entity', 'Year', 'Annual CO₂ emissions (per capita)']\n"
     ]
    }
   ],
   "source": [
    "print(co2.columns.tolist())"
   ]
  },
  {
   "cell_type": "code",
   "execution_count": 143,
   "metadata": {},
   "outputs": [],
   "source": [
    "co2 = co2[[\"Entity\", \"Year\", \"Annual CO₂ emissions (per capita)\"]].rename(columns={\"Entity\": \"Country\"})"
   ]
  },
  {
   "cell_type": "code",
   "execution_count": 144,
   "metadata": {},
   "outputs": [
    {
     "data": {
      "text/html": [
       "<div>\n",
       "<style scoped>\n",
       "    .dataframe tbody tr th:only-of-type {\n",
       "        vertical-align: middle;\n",
       "    }\n",
       "\n",
       "    .dataframe tbody tr th {\n",
       "        vertical-align: top;\n",
       "    }\n",
       "\n",
       "    .dataframe thead th {\n",
       "        text-align: right;\n",
       "    }\n",
       "</style>\n",
       "<table border=\"1\" class=\"dataframe\">\n",
       "  <thead>\n",
       "    <tr style=\"text-align: right;\">\n",
       "      <th></th>\n",
       "      <th>Country</th>\n",
       "      <th>Year</th>\n",
       "      <th>Annual CO₂ emissions (per capita)</th>\n",
       "    </tr>\n",
       "  </thead>\n",
       "  <tbody>\n",
       "    <tr>\n",
       "      <th>0</th>\n",
       "      <td>Afghanistan</td>\n",
       "      <td>1949</td>\n",
       "      <td>0.001992</td>\n",
       "    </tr>\n",
       "    <tr>\n",
       "      <th>1</th>\n",
       "      <td>Afghanistan</td>\n",
       "      <td>1950</td>\n",
       "      <td>0.010837</td>\n",
       "    </tr>\n",
       "    <tr>\n",
       "      <th>2</th>\n",
       "      <td>Afghanistan</td>\n",
       "      <td>1951</td>\n",
       "      <td>0.011625</td>\n",
       "    </tr>\n",
       "    <tr>\n",
       "      <th>3</th>\n",
       "      <td>Afghanistan</td>\n",
       "      <td>1952</td>\n",
       "      <td>0.011468</td>\n",
       "    </tr>\n",
       "    <tr>\n",
       "      <th>4</th>\n",
       "      <td>Afghanistan</td>\n",
       "      <td>1953</td>\n",
       "      <td>0.013123</td>\n",
       "    </tr>\n",
       "  </tbody>\n",
       "</table>\n",
       "</div>"
      ],
      "text/plain": [
       "       Country  Year  Annual CO₂ emissions (per capita)\n",
       "0  Afghanistan  1949                           0.001992\n",
       "1  Afghanistan  1950                           0.010837\n",
       "2  Afghanistan  1951                           0.011625\n",
       "3  Afghanistan  1952                           0.011468\n",
       "4  Afghanistan  1953                           0.013123"
      ]
     },
     "execution_count": 144,
     "metadata": {},
     "output_type": "execute_result"
    }
   ],
   "source": [
    "co2.head()"
   ]
  },
  {
   "cell_type": "code",
   "execution_count": 145,
   "metadata": {},
   "outputs": [],
   "source": [
    "rain = rain[[\"Entity\", \"Code\", \"Year\", \"Annual precipitation\"]].rename(columns={\"Entity\": \"Country\"})"
   ]
  },
  {
   "cell_type": "code",
   "execution_count": 146,
   "metadata": {},
   "outputs": [
    {
     "data": {
      "text/html": [
       "<div>\n",
       "<style scoped>\n",
       "    .dataframe tbody tr th:only-of-type {\n",
       "        vertical-align: middle;\n",
       "    }\n",
       "\n",
       "    .dataframe tbody tr th {\n",
       "        vertical-align: top;\n",
       "    }\n",
       "\n",
       "    .dataframe thead th {\n",
       "        text-align: right;\n",
       "    }\n",
       "</style>\n",
       "<table border=\"1\" class=\"dataframe\">\n",
       "  <thead>\n",
       "    <tr style=\"text-align: right;\">\n",
       "      <th></th>\n",
       "      <th>Country</th>\n",
       "      <th>Code</th>\n",
       "      <th>Year</th>\n",
       "      <th>Annual precipitation</th>\n",
       "    </tr>\n",
       "  </thead>\n",
       "  <tbody>\n",
       "    <tr>\n",
       "      <th>0</th>\n",
       "      <td>Afghanistan</td>\n",
       "      <td>AFG</td>\n",
       "      <td>1940</td>\n",
       "      <td>217.67816</td>\n",
       "    </tr>\n",
       "    <tr>\n",
       "      <th>1</th>\n",
       "      <td>Afghanistan</td>\n",
       "      <td>AFG</td>\n",
       "      <td>1941</td>\n",
       "      <td>196.80933</td>\n",
       "    </tr>\n",
       "    <tr>\n",
       "      <th>2</th>\n",
       "      <td>Afghanistan</td>\n",
       "      <td>AFG</td>\n",
       "      <td>1942</td>\n",
       "      <td>300.08905</td>\n",
       "    </tr>\n",
       "    <tr>\n",
       "      <th>3</th>\n",
       "      <td>Afghanistan</td>\n",
       "      <td>AFG</td>\n",
       "      <td>1943</td>\n",
       "      <td>345.60892</td>\n",
       "    </tr>\n",
       "    <tr>\n",
       "      <th>4</th>\n",
       "      <td>Afghanistan</td>\n",
       "      <td>AFG</td>\n",
       "      <td>1944</td>\n",
       "      <td>324.44350</td>\n",
       "    </tr>\n",
       "  </tbody>\n",
       "</table>\n",
       "</div>"
      ],
      "text/plain": [
       "       Country Code  Year  Annual precipitation\n",
       "0  Afghanistan  AFG  1940             217.67816\n",
       "1  Afghanistan  AFG  1941             196.80933\n",
       "2  Afghanistan  AFG  1942             300.08905\n",
       "3  Afghanistan  AFG  1943             345.60892\n",
       "4  Afghanistan  AFG  1944             324.44350"
      ]
     },
     "execution_count": 146,
     "metadata": {},
     "output_type": "execute_result"
    }
   ],
   "source": [
    "rain.head()"
   ]
  },
  {
   "cell_type": "code",
   "execution_count": 147,
   "metadata": {},
   "outputs": [],
   "source": [
    "temp[\"Year\"] = pd.to_datetime(temp[\"dt\"]).dt.year\n",
    "\n",
    "# Add a new column with the country-year average temp for each row\n",
    "temp[\"AvgTemp_Year\"] = (\n",
    "    temp.groupby([\"Country\", \"Year\"])[\"AverageTemperature\"]\n",
    "    .transform(\"mean\")\n",
    ")"
   ]
  },
  {
   "cell_type": "code",
   "execution_count": 148,
   "metadata": {},
   "outputs": [
    {
     "data": {
      "text/html": [
       "<div>\n",
       "<style scoped>\n",
       "    .dataframe tbody tr th:only-of-type {\n",
       "        vertical-align: middle;\n",
       "    }\n",
       "\n",
       "    .dataframe tbody tr th {\n",
       "        vertical-align: top;\n",
       "    }\n",
       "\n",
       "    .dataframe thead th {\n",
       "        text-align: right;\n",
       "    }\n",
       "</style>\n",
       "<table border=\"1\" class=\"dataframe\">\n",
       "  <thead>\n",
       "    <tr style=\"text-align: right;\">\n",
       "      <th></th>\n",
       "      <th>dt</th>\n",
       "      <th>AverageTemperature</th>\n",
       "      <th>AverageTemperatureUncertainty</th>\n",
       "      <th>City</th>\n",
       "      <th>Country</th>\n",
       "      <th>Latitude</th>\n",
       "      <th>Longitude</th>\n",
       "      <th>Year</th>\n",
       "      <th>AvgTemp_Year</th>\n",
       "    </tr>\n",
       "  </thead>\n",
       "  <tbody>\n",
       "    <tr>\n",
       "      <th>0</th>\n",
       "      <td>1849-01-01</td>\n",
       "      <td>26.704</td>\n",
       "      <td>1.435</td>\n",
       "      <td>Abidjan</td>\n",
       "      <td>Côte D'Ivoire</td>\n",
       "      <td>5.63N</td>\n",
       "      <td>3.23W</td>\n",
       "      <td>1849</td>\n",
       "      <td>25.582583</td>\n",
       "    </tr>\n",
       "    <tr>\n",
       "      <th>1</th>\n",
       "      <td>1849-02-01</td>\n",
       "      <td>27.434</td>\n",
       "      <td>1.362</td>\n",
       "      <td>Abidjan</td>\n",
       "      <td>Côte D'Ivoire</td>\n",
       "      <td>5.63N</td>\n",
       "      <td>3.23W</td>\n",
       "      <td>1849</td>\n",
       "      <td>25.582583</td>\n",
       "    </tr>\n",
       "    <tr>\n",
       "      <th>2</th>\n",
       "      <td>1849-03-01</td>\n",
       "      <td>28.101</td>\n",
       "      <td>1.612</td>\n",
       "      <td>Abidjan</td>\n",
       "      <td>Côte D'Ivoire</td>\n",
       "      <td>5.63N</td>\n",
       "      <td>3.23W</td>\n",
       "      <td>1849</td>\n",
       "      <td>25.582583</td>\n",
       "    </tr>\n",
       "    <tr>\n",
       "      <th>3</th>\n",
       "      <td>1849-04-01</td>\n",
       "      <td>26.140</td>\n",
       "      <td>1.387</td>\n",
       "      <td>Abidjan</td>\n",
       "      <td>Côte D'Ivoire</td>\n",
       "      <td>5.63N</td>\n",
       "      <td>3.23W</td>\n",
       "      <td>1849</td>\n",
       "      <td>25.582583</td>\n",
       "    </tr>\n",
       "    <tr>\n",
       "      <th>4</th>\n",
       "      <td>1849-05-01</td>\n",
       "      <td>25.427</td>\n",
       "      <td>1.200</td>\n",
       "      <td>Abidjan</td>\n",
       "      <td>Côte D'Ivoire</td>\n",
       "      <td>5.63N</td>\n",
       "      <td>3.23W</td>\n",
       "      <td>1849</td>\n",
       "      <td>25.582583</td>\n",
       "    </tr>\n",
       "  </tbody>\n",
       "</table>\n",
       "</div>"
      ],
      "text/plain": [
       "           dt  AverageTemperature  AverageTemperatureUncertainty     City  \\\n",
       "0  1849-01-01              26.704                          1.435  Abidjan   \n",
       "1  1849-02-01              27.434                          1.362  Abidjan   \n",
       "2  1849-03-01              28.101                          1.612  Abidjan   \n",
       "3  1849-04-01              26.140                          1.387  Abidjan   \n",
       "4  1849-05-01              25.427                          1.200  Abidjan   \n",
       "\n",
       "         Country Latitude Longitude  Year  AvgTemp_Year  \n",
       "0  Côte D'Ivoire    5.63N     3.23W  1849     25.582583  \n",
       "1  Côte D'Ivoire    5.63N     3.23W  1849     25.582583  \n",
       "2  Côte D'Ivoire    5.63N     3.23W  1849     25.582583  \n",
       "3  Côte D'Ivoire    5.63N     3.23W  1849     25.582583  \n",
       "4  Côte D'Ivoire    5.63N     3.23W  1849     25.582583  "
      ]
     },
     "execution_count": 148,
     "metadata": {},
     "output_type": "execute_result"
    }
   ],
   "source": [
    "temp.head()"
   ]
  },
  {
   "cell_type": "code",
   "execution_count": 149,
   "metadata": {},
   "outputs": [],
   "source": [
    "merged_df = co2.merge(rain, on=[\"Country\", \"Year\"], how=\"outer\")"
   ]
  },
  {
   "cell_type": "code",
   "execution_count": 150,
   "metadata": {},
   "outputs": [
    {
     "data": {
      "text/html": [
       "<div>\n",
       "<style scoped>\n",
       "    .dataframe tbody tr th:only-of-type {\n",
       "        vertical-align: middle;\n",
       "    }\n",
       "\n",
       "    .dataframe tbody tr th {\n",
       "        vertical-align: top;\n",
       "    }\n",
       "\n",
       "    .dataframe thead th {\n",
       "        text-align: right;\n",
       "    }\n",
       "</style>\n",
       "<table border=\"1\" class=\"dataframe\">\n",
       "  <thead>\n",
       "    <tr style=\"text-align: right;\">\n",
       "      <th></th>\n",
       "      <th>Country</th>\n",
       "      <th>Year</th>\n",
       "      <th>Annual CO₂ emissions (per capita)</th>\n",
       "      <th>Code</th>\n",
       "      <th>Annual precipitation</th>\n",
       "    </tr>\n",
       "  </thead>\n",
       "  <tbody>\n",
       "    <tr>\n",
       "      <th>0</th>\n",
       "      <td>Afghanistan</td>\n",
       "      <td>1949</td>\n",
       "      <td>0.001992</td>\n",
       "      <td>AFG</td>\n",
       "      <td>405.3034</td>\n",
       "    </tr>\n",
       "    <tr>\n",
       "      <th>1</th>\n",
       "      <td>Afghanistan</td>\n",
       "      <td>1950</td>\n",
       "      <td>0.010837</td>\n",
       "      <td>AFG</td>\n",
       "      <td>347.0461</td>\n",
       "    </tr>\n",
       "    <tr>\n",
       "      <th>2</th>\n",
       "      <td>Afghanistan</td>\n",
       "      <td>1951</td>\n",
       "      <td>0.011625</td>\n",
       "      <td>AFG</td>\n",
       "      <td>457.9805</td>\n",
       "    </tr>\n",
       "    <tr>\n",
       "      <th>3</th>\n",
       "      <td>Afghanistan</td>\n",
       "      <td>1952</td>\n",
       "      <td>0.011468</td>\n",
       "      <td>AFG</td>\n",
       "      <td>382.8329</td>\n",
       "    </tr>\n",
       "    <tr>\n",
       "      <th>4</th>\n",
       "      <td>Afghanistan</td>\n",
       "      <td>1953</td>\n",
       "      <td>0.013123</td>\n",
       "      <td>AFG</td>\n",
       "      <td>569.5969</td>\n",
       "    </tr>\n",
       "  </tbody>\n",
       "</table>\n",
       "</div>"
      ],
      "text/plain": [
       "       Country  Year  Annual CO₂ emissions (per capita) Code  \\\n",
       "0  Afghanistan  1949                           0.001992  AFG   \n",
       "1  Afghanistan  1950                           0.010837  AFG   \n",
       "2  Afghanistan  1951                           0.011625  AFG   \n",
       "3  Afghanistan  1952                           0.011468  AFG   \n",
       "4  Afghanistan  1953                           0.013123  AFG   \n",
       "\n",
       "   Annual precipitation  \n",
       "0              405.3034  \n",
       "1              347.0461  \n",
       "2              457.9805  \n",
       "3              382.8329  \n",
       "4              569.5969  "
      ]
     },
     "execution_count": 150,
     "metadata": {},
     "output_type": "execute_result"
    }
   ],
   "source": [
    "merged_df.head()"
   ]
  },
  {
   "cell_type": "code",
   "execution_count": 151,
   "metadata": {},
   "outputs": [],
   "source": [
    "merged_df = merged_df.merge(temp, on=[\"Country\", \"Year\"], how=\"outer\")"
   ]
  },
  {
   "cell_type": "code",
   "execution_count": 152,
   "metadata": {},
   "outputs": [
    {
     "data": {
      "text/html": [
       "<div>\n",
       "<style scoped>\n",
       "    .dataframe tbody tr th:only-of-type {\n",
       "        vertical-align: middle;\n",
       "    }\n",
       "\n",
       "    .dataframe tbody tr th {\n",
       "        vertical-align: top;\n",
       "    }\n",
       "\n",
       "    .dataframe thead th {\n",
       "        text-align: right;\n",
       "    }\n",
       "</style>\n",
       "<table border=\"1\" class=\"dataframe\">\n",
       "  <thead>\n",
       "    <tr style=\"text-align: right;\">\n",
       "      <th></th>\n",
       "      <th>Country</th>\n",
       "      <th>Year</th>\n",
       "      <th>Annual CO₂ emissions (per capita)</th>\n",
       "      <th>Code</th>\n",
       "      <th>Annual precipitation</th>\n",
       "      <th>dt</th>\n",
       "      <th>AverageTemperature</th>\n",
       "      <th>AverageTemperatureUncertainty</th>\n",
       "      <th>City</th>\n",
       "      <th>Latitude</th>\n",
       "      <th>Longitude</th>\n",
       "      <th>AvgTemp_Year</th>\n",
       "    </tr>\n",
       "  </thead>\n",
       "  <tbody>\n",
       "    <tr>\n",
       "      <th>0</th>\n",
       "      <td>Afghanistan</td>\n",
       "      <td>1949</td>\n",
       "      <td>0.001992</td>\n",
       "      <td>AFG</td>\n",
       "      <td>405.3034</td>\n",
       "      <td>1949-01-01</td>\n",
       "      <td>1.204</td>\n",
       "      <td>0.682</td>\n",
       "      <td>Kabul</td>\n",
       "      <td>34.56N</td>\n",
       "      <td>70.05E</td>\n",
       "      <td>14.17075</td>\n",
       "    </tr>\n",
       "    <tr>\n",
       "      <th>1</th>\n",
       "      <td>Afghanistan</td>\n",
       "      <td>1949</td>\n",
       "      <td>0.001992</td>\n",
       "      <td>AFG</td>\n",
       "      <td>405.3034</td>\n",
       "      <td>1949-02-01</td>\n",
       "      <td>3.183</td>\n",
       "      <td>0.669</td>\n",
       "      <td>Kabul</td>\n",
       "      <td>34.56N</td>\n",
       "      <td>70.05E</td>\n",
       "      <td>14.17075</td>\n",
       "    </tr>\n",
       "    <tr>\n",
       "      <th>2</th>\n",
       "      <td>Afghanistan</td>\n",
       "      <td>1949</td>\n",
       "      <td>0.001992</td>\n",
       "      <td>AFG</td>\n",
       "      <td>405.3034</td>\n",
       "      <td>1949-03-01</td>\n",
       "      <td>8.239</td>\n",
       "      <td>0.268</td>\n",
       "      <td>Kabul</td>\n",
       "      <td>34.56N</td>\n",
       "      <td>70.05E</td>\n",
       "      <td>14.17075</td>\n",
       "    </tr>\n",
       "    <tr>\n",
       "      <th>3</th>\n",
       "      <td>Afghanistan</td>\n",
       "      <td>1949</td>\n",
       "      <td>0.001992</td>\n",
       "      <td>AFG</td>\n",
       "      <td>405.3034</td>\n",
       "      <td>1949-04-01</td>\n",
       "      <td>16.010</td>\n",
       "      <td>0.731</td>\n",
       "      <td>Kabul</td>\n",
       "      <td>34.56N</td>\n",
       "      <td>70.05E</td>\n",
       "      <td>14.17075</td>\n",
       "    </tr>\n",
       "    <tr>\n",
       "      <th>4</th>\n",
       "      <td>Afghanistan</td>\n",
       "      <td>1949</td>\n",
       "      <td>0.001992</td>\n",
       "      <td>AFG</td>\n",
       "      <td>405.3034</td>\n",
       "      <td>1949-05-01</td>\n",
       "      <td>22.114</td>\n",
       "      <td>0.461</td>\n",
       "      <td>Kabul</td>\n",
       "      <td>34.56N</td>\n",
       "      <td>70.05E</td>\n",
       "      <td>14.17075</td>\n",
       "    </tr>\n",
       "  </tbody>\n",
       "</table>\n",
       "</div>"
      ],
      "text/plain": [
       "       Country  Year  Annual CO₂ emissions (per capita) Code  \\\n",
       "0  Afghanistan  1949                           0.001992  AFG   \n",
       "1  Afghanistan  1949                           0.001992  AFG   \n",
       "2  Afghanistan  1949                           0.001992  AFG   \n",
       "3  Afghanistan  1949                           0.001992  AFG   \n",
       "4  Afghanistan  1949                           0.001992  AFG   \n",
       "\n",
       "   Annual precipitation          dt  AverageTemperature  \\\n",
       "0              405.3034  1949-01-01               1.204   \n",
       "1              405.3034  1949-02-01               3.183   \n",
       "2              405.3034  1949-03-01               8.239   \n",
       "3              405.3034  1949-04-01              16.010   \n",
       "4              405.3034  1949-05-01              22.114   \n",
       "\n",
       "   AverageTemperatureUncertainty   City Latitude Longitude  AvgTemp_Year  \n",
       "0                          0.682  Kabul   34.56N    70.05E      14.17075  \n",
       "1                          0.669  Kabul   34.56N    70.05E      14.17075  \n",
       "2                          0.268  Kabul   34.56N    70.05E      14.17075  \n",
       "3                          0.731  Kabul   34.56N    70.05E      14.17075  \n",
       "4                          0.461  Kabul   34.56N    70.05E      14.17075  "
      ]
     },
     "execution_count": 152,
     "metadata": {},
     "output_type": "execute_result"
    }
   ],
   "source": [
    "merged_df.head()"
   ]
  },
  {
   "cell_type": "code",
   "execution_count": 153,
   "metadata": {},
   "outputs": [
    {
     "data": {
      "text/html": [
       "<div>\n",
       "<style scoped>\n",
       "    .dataframe tbody tr th:only-of-type {\n",
       "        vertical-align: middle;\n",
       "    }\n",
       "\n",
       "    .dataframe tbody tr th {\n",
       "        vertical-align: top;\n",
       "    }\n",
       "\n",
       "    .dataframe thead th {\n",
       "        text-align: right;\n",
       "    }\n",
       "</style>\n",
       "<table border=\"1\" class=\"dataframe\">\n",
       "  <thead>\n",
       "    <tr style=\"text-align: right;\">\n",
       "      <th></th>\n",
       "      <th>Country</th>\n",
       "      <th>Year</th>\n",
       "      <th>Annual CO₂ emissions (per capita)</th>\n",
       "      <th>Code</th>\n",
       "      <th>Annual precipitation</th>\n",
       "      <th>dt</th>\n",
       "      <th>AverageTemperature</th>\n",
       "      <th>AverageTemperatureUncertainty</th>\n",
       "      <th>City</th>\n",
       "      <th>Latitude</th>\n",
       "      <th>...</th>\n",
       "      <th>Disaster Group</th>\n",
       "      <th>Disaster Subroup</th>\n",
       "      <th>Disaster Type</th>\n",
       "      <th>Disaster Subtype</th>\n",
       "      <th>Total Events</th>\n",
       "      <th>Total Affected</th>\n",
       "      <th>Total Deaths</th>\n",
       "      <th>Total Damage (USD, original)</th>\n",
       "      <th>Total Damage (USD, adjusted)</th>\n",
       "      <th>CPI</th>\n",
       "    </tr>\n",
       "  </thead>\n",
       "  <tbody>\n",
       "    <tr>\n",
       "      <th>0</th>\n",
       "      <td>Afghanistan</td>\n",
       "      <td>1949.0</td>\n",
       "      <td>0.001992</td>\n",
       "      <td>AFG</td>\n",
       "      <td>405.3034</td>\n",
       "      <td>1949-01-01</td>\n",
       "      <td>1.204</td>\n",
       "      <td>0.682</td>\n",
       "      <td>Kabul</td>\n",
       "      <td>34.56N</td>\n",
       "      <td>...</td>\n",
       "      <td>NaN</td>\n",
       "      <td>NaN</td>\n",
       "      <td>NaN</td>\n",
       "      <td>NaN</td>\n",
       "      <td>NaN</td>\n",
       "      <td>NaN</td>\n",
       "      <td>NaN</td>\n",
       "      <td>NaN</td>\n",
       "      <td>NaN</td>\n",
       "      <td>NaN</td>\n",
       "    </tr>\n",
       "    <tr>\n",
       "      <th>1</th>\n",
       "      <td>Afghanistan</td>\n",
       "      <td>1949.0</td>\n",
       "      <td>0.001992</td>\n",
       "      <td>AFG</td>\n",
       "      <td>405.3034</td>\n",
       "      <td>1949-02-01</td>\n",
       "      <td>3.183</td>\n",
       "      <td>0.669</td>\n",
       "      <td>Kabul</td>\n",
       "      <td>34.56N</td>\n",
       "      <td>...</td>\n",
       "      <td>NaN</td>\n",
       "      <td>NaN</td>\n",
       "      <td>NaN</td>\n",
       "      <td>NaN</td>\n",
       "      <td>NaN</td>\n",
       "      <td>NaN</td>\n",
       "      <td>NaN</td>\n",
       "      <td>NaN</td>\n",
       "      <td>NaN</td>\n",
       "      <td>NaN</td>\n",
       "    </tr>\n",
       "    <tr>\n",
       "      <th>2</th>\n",
       "      <td>Afghanistan</td>\n",
       "      <td>1949.0</td>\n",
       "      <td>0.001992</td>\n",
       "      <td>AFG</td>\n",
       "      <td>405.3034</td>\n",
       "      <td>1949-03-01</td>\n",
       "      <td>8.239</td>\n",
       "      <td>0.268</td>\n",
       "      <td>Kabul</td>\n",
       "      <td>34.56N</td>\n",
       "      <td>...</td>\n",
       "      <td>NaN</td>\n",
       "      <td>NaN</td>\n",
       "      <td>NaN</td>\n",
       "      <td>NaN</td>\n",
       "      <td>NaN</td>\n",
       "      <td>NaN</td>\n",
       "      <td>NaN</td>\n",
       "      <td>NaN</td>\n",
       "      <td>NaN</td>\n",
       "      <td>NaN</td>\n",
       "    </tr>\n",
       "    <tr>\n",
       "      <th>3</th>\n",
       "      <td>Afghanistan</td>\n",
       "      <td>1949.0</td>\n",
       "      <td>0.001992</td>\n",
       "      <td>AFG</td>\n",
       "      <td>405.3034</td>\n",
       "      <td>1949-04-01</td>\n",
       "      <td>16.010</td>\n",
       "      <td>0.731</td>\n",
       "      <td>Kabul</td>\n",
       "      <td>34.56N</td>\n",
       "      <td>...</td>\n",
       "      <td>NaN</td>\n",
       "      <td>NaN</td>\n",
       "      <td>NaN</td>\n",
       "      <td>NaN</td>\n",
       "      <td>NaN</td>\n",
       "      <td>NaN</td>\n",
       "      <td>NaN</td>\n",
       "      <td>NaN</td>\n",
       "      <td>NaN</td>\n",
       "      <td>NaN</td>\n",
       "    </tr>\n",
       "    <tr>\n",
       "      <th>4</th>\n",
       "      <td>Afghanistan</td>\n",
       "      <td>1949.0</td>\n",
       "      <td>0.001992</td>\n",
       "      <td>AFG</td>\n",
       "      <td>405.3034</td>\n",
       "      <td>1949-05-01</td>\n",
       "      <td>22.114</td>\n",
       "      <td>0.461</td>\n",
       "      <td>Kabul</td>\n",
       "      <td>34.56N</td>\n",
       "      <td>...</td>\n",
       "      <td>NaN</td>\n",
       "      <td>NaN</td>\n",
       "      <td>NaN</td>\n",
       "      <td>NaN</td>\n",
       "      <td>NaN</td>\n",
       "      <td>NaN</td>\n",
       "      <td>NaN</td>\n",
       "      <td>NaN</td>\n",
       "      <td>NaN</td>\n",
       "      <td>NaN</td>\n",
       "    </tr>\n",
       "  </tbody>\n",
       "</table>\n",
       "<p>5 rows × 23 columns</p>\n",
       "</div>"
      ],
      "text/plain": [
       "       Country    Year  Annual CO₂ emissions (per capita) Code  \\\n",
       "0  Afghanistan  1949.0                           0.001992  AFG   \n",
       "1  Afghanistan  1949.0                           0.001992  AFG   \n",
       "2  Afghanistan  1949.0                           0.001992  AFG   \n",
       "3  Afghanistan  1949.0                           0.001992  AFG   \n",
       "4  Afghanistan  1949.0                           0.001992  AFG   \n",
       "\n",
       "   Annual precipitation          dt  AverageTemperature  \\\n",
       "0              405.3034  1949-01-01               1.204   \n",
       "1              405.3034  1949-02-01               3.183   \n",
       "2              405.3034  1949-03-01               8.239   \n",
       "3              405.3034  1949-04-01              16.010   \n",
       "4              405.3034  1949-05-01              22.114   \n",
       "\n",
       "   AverageTemperatureUncertainty   City Latitude  ... Disaster Group  \\\n",
       "0                          0.682  Kabul   34.56N  ...            NaN   \n",
       "1                          0.669  Kabul   34.56N  ...            NaN   \n",
       "2                          0.268  Kabul   34.56N  ...            NaN   \n",
       "3                          0.731  Kabul   34.56N  ...            NaN   \n",
       "4                          0.461  Kabul   34.56N  ...            NaN   \n",
       "\n",
       "   Disaster Subroup Disaster Type Disaster Subtype Total Events  \\\n",
       "0               NaN           NaN              NaN          NaN   \n",
       "1               NaN           NaN              NaN          NaN   \n",
       "2               NaN           NaN              NaN          NaN   \n",
       "3               NaN           NaN              NaN          NaN   \n",
       "4               NaN           NaN              NaN          NaN   \n",
       "\n",
       "  Total Affected Total Deaths  Total Damage (USD, original)  \\\n",
       "0            NaN          NaN                           NaN   \n",
       "1            NaN          NaN                           NaN   \n",
       "2            NaN          NaN                           NaN   \n",
       "3            NaN          NaN                           NaN   \n",
       "4            NaN          NaN                           NaN   \n",
       "\n",
       "   Total Damage (USD, adjusted)  CPI  \n",
       "0                           NaN  NaN  \n",
       "1                           NaN  NaN  \n",
       "2                           NaN  NaN  \n",
       "3                           NaN  NaN  \n",
       "4                           NaN  NaN  \n",
       "\n",
       "[5 rows x 23 columns]"
      ]
     },
     "execution_count": 153,
     "metadata": {},
     "output_type": "execute_result"
    }
   ],
   "source": [
    "merged_df = merged_df.merge(disasters, on=[\"Country\", \"Year\"], how=\"outer\")\n",
    "merged_df.head()"
   ]
  },
  {
   "cell_type": "code",
   "execution_count": 154,
   "metadata": {},
   "outputs": [
    {
     "data": {
      "text/plain": [
       "Index(['Country', 'Year', 'Annual CO₂ emissions (per capita)', 'Code',\n",
       "       'Annual precipitation', 'dt', 'AverageTemperature',\n",
       "       'AverageTemperatureUncertainty', 'City', 'Latitude', 'Longitude',\n",
       "       'AvgTemp_Year', 'ISO', 'Disaster Group', 'Disaster Subroup',\n",
       "       'Disaster Type', 'Disaster Subtype', 'Total Events', 'Total Affected',\n",
       "       'Total Deaths', 'Total Damage (USD, original)',\n",
       "       'Total Damage (USD, adjusted)', 'CPI'],\n",
       "      dtype='object')"
      ]
     },
     "execution_count": 154,
     "metadata": {},
     "output_type": "execute_result"
    }
   ],
   "source": [
    "merged_df.columns"
   ]
  },
  {
   "cell_type": "code",
   "execution_count": 155,
   "metadata": {},
   "outputs": [],
   "source": [
    "merged_df=merged_df.drop([\"Code\",'AverageTemperatureUncertainty','City','ISO','Disaster Group','Disaster Subroup','Disaster Subtype',\n",
    "                          'Total Damage (USD, original)','dt','AverageTemperature'],axis=1)"
   ]
  },
  {
   "cell_type": "code",
   "execution_count": 156,
   "metadata": {},
   "outputs": [
    {
     "data": {
      "text/html": [
       "<div>\n",
       "<style scoped>\n",
       "    .dataframe tbody tr th:only-of-type {\n",
       "        vertical-align: middle;\n",
       "    }\n",
       "\n",
       "    .dataframe tbody tr th {\n",
       "        vertical-align: top;\n",
       "    }\n",
       "\n",
       "    .dataframe thead th {\n",
       "        text-align: right;\n",
       "    }\n",
       "</style>\n",
       "<table border=\"1\" class=\"dataframe\">\n",
       "  <thead>\n",
       "    <tr style=\"text-align: right;\">\n",
       "      <th></th>\n",
       "      <th>Country</th>\n",
       "      <th>Year</th>\n",
       "      <th>Annual CO₂ emissions (per capita)</th>\n",
       "      <th>Annual precipitation</th>\n",
       "      <th>Latitude</th>\n",
       "      <th>Longitude</th>\n",
       "      <th>AvgTemp_Year</th>\n",
       "      <th>Disaster Type</th>\n",
       "      <th>Total Events</th>\n",
       "      <th>Total Affected</th>\n",
       "      <th>Total Deaths</th>\n",
       "      <th>Total Damage (USD, adjusted)</th>\n",
       "      <th>CPI</th>\n",
       "    </tr>\n",
       "  </thead>\n",
       "  <tbody>\n",
       "    <tr>\n",
       "      <th>0</th>\n",
       "      <td>Afghanistan</td>\n",
       "      <td>1949.0</td>\n",
       "      <td>0.001992</td>\n",
       "      <td>405.3034</td>\n",
       "      <td>34.56N</td>\n",
       "      <td>70.05E</td>\n",
       "      <td>14.17075</td>\n",
       "      <td>NaN</td>\n",
       "      <td>NaN</td>\n",
       "      <td>NaN</td>\n",
       "      <td>NaN</td>\n",
       "      <td>NaN</td>\n",
       "      <td>NaN</td>\n",
       "    </tr>\n",
       "    <tr>\n",
       "      <th>1</th>\n",
       "      <td>Afghanistan</td>\n",
       "      <td>1949.0</td>\n",
       "      <td>0.001992</td>\n",
       "      <td>405.3034</td>\n",
       "      <td>34.56N</td>\n",
       "      <td>70.05E</td>\n",
       "      <td>14.17075</td>\n",
       "      <td>NaN</td>\n",
       "      <td>NaN</td>\n",
       "      <td>NaN</td>\n",
       "      <td>NaN</td>\n",
       "      <td>NaN</td>\n",
       "      <td>NaN</td>\n",
       "    </tr>\n",
       "    <tr>\n",
       "      <th>2</th>\n",
       "      <td>Afghanistan</td>\n",
       "      <td>1949.0</td>\n",
       "      <td>0.001992</td>\n",
       "      <td>405.3034</td>\n",
       "      <td>34.56N</td>\n",
       "      <td>70.05E</td>\n",
       "      <td>14.17075</td>\n",
       "      <td>NaN</td>\n",
       "      <td>NaN</td>\n",
       "      <td>NaN</td>\n",
       "      <td>NaN</td>\n",
       "      <td>NaN</td>\n",
       "      <td>NaN</td>\n",
       "    </tr>\n",
       "    <tr>\n",
       "      <th>3</th>\n",
       "      <td>Afghanistan</td>\n",
       "      <td>1949.0</td>\n",
       "      <td>0.001992</td>\n",
       "      <td>405.3034</td>\n",
       "      <td>34.56N</td>\n",
       "      <td>70.05E</td>\n",
       "      <td>14.17075</td>\n",
       "      <td>NaN</td>\n",
       "      <td>NaN</td>\n",
       "      <td>NaN</td>\n",
       "      <td>NaN</td>\n",
       "      <td>NaN</td>\n",
       "      <td>NaN</td>\n",
       "    </tr>\n",
       "    <tr>\n",
       "      <th>4</th>\n",
       "      <td>Afghanistan</td>\n",
       "      <td>1949.0</td>\n",
       "      <td>0.001992</td>\n",
       "      <td>405.3034</td>\n",
       "      <td>34.56N</td>\n",
       "      <td>70.05E</td>\n",
       "      <td>14.17075</td>\n",
       "      <td>NaN</td>\n",
       "      <td>NaN</td>\n",
       "      <td>NaN</td>\n",
       "      <td>NaN</td>\n",
       "      <td>NaN</td>\n",
       "      <td>NaN</td>\n",
       "    </tr>\n",
       "  </tbody>\n",
       "</table>\n",
       "</div>"
      ],
      "text/plain": [
       "       Country    Year  Annual CO₂ emissions (per capita)  \\\n",
       "0  Afghanistan  1949.0                           0.001992   \n",
       "1  Afghanistan  1949.0                           0.001992   \n",
       "2  Afghanistan  1949.0                           0.001992   \n",
       "3  Afghanistan  1949.0                           0.001992   \n",
       "4  Afghanistan  1949.0                           0.001992   \n",
       "\n",
       "   Annual precipitation Latitude Longitude  AvgTemp_Year Disaster Type  \\\n",
       "0              405.3034   34.56N    70.05E      14.17075           NaN   \n",
       "1              405.3034   34.56N    70.05E      14.17075           NaN   \n",
       "2              405.3034   34.56N    70.05E      14.17075           NaN   \n",
       "3              405.3034   34.56N    70.05E      14.17075           NaN   \n",
       "4              405.3034   34.56N    70.05E      14.17075           NaN   \n",
       "\n",
       "   Total Events  Total Affected  Total Deaths  Total Damage (USD, adjusted)  \\\n",
       "0           NaN             NaN           NaN                           NaN   \n",
       "1           NaN             NaN           NaN                           NaN   \n",
       "2           NaN             NaN           NaN                           NaN   \n",
       "3           NaN             NaN           NaN                           NaN   \n",
       "4           NaN             NaN           NaN                           NaN   \n",
       "\n",
       "   CPI  \n",
       "0  NaN  \n",
       "1  NaN  \n",
       "2  NaN  \n",
       "3  NaN  \n",
       "4  NaN  "
      ]
     },
     "execution_count": 156,
     "metadata": {},
     "output_type": "execute_result"
    }
   ],
   "source": [
    "merged_df.head()"
   ]
  },
  {
   "cell_type": "code",
   "execution_count": 157,
   "metadata": {},
   "outputs": [
    {
     "data": {
      "text/plain": [
       "Country                                   0\n",
       "Year                                      0\n",
       "Annual CO₂ emissions (per capita)     94444\n",
       "Annual precipitation                 165507\n",
       "Latitude                              24347\n",
       "Longitude                             24347\n",
       "AvgTemp_Year                          31067\n",
       "Disaster Type                        244505\n",
       "Total Events                         244505\n",
       "Total Affected                       244505\n",
       "Total Deaths                         244505\n",
       "Total Damage (USD, adjusted)         244505\n",
       "CPI                                  244505\n",
       "dtype: int64"
      ]
     },
     "execution_count": 157,
     "metadata": {},
     "output_type": "execute_result"
    }
   ],
   "source": [
    "merged_df.isnull().sum()"
   ]
  },
  {
   "cell_type": "code",
   "execution_count": 158,
   "metadata": {},
   "outputs": [],
   "source": [
    "merged_df=merged_df.dropna(subset=[\"Disaster Type\"])"
   ]
  },
  {
   "cell_type": "code",
   "execution_count": 159,
   "metadata": {},
   "outputs": [
    {
     "data": {
      "text/plain": [
       "Country                                 0\n",
       "Year                                    0\n",
       "Annual CO₂ emissions (per capita)    1018\n",
       "Annual precipitation                 1102\n",
       "Latitude                             3731\n",
       "Longitude                            3731\n",
       "AvgTemp_Year                         3731\n",
       "Disaster Type                           0\n",
       "Total Events                            0\n",
       "Total Affected                          0\n",
       "Total Deaths                            0\n",
       "Total Damage (USD, adjusted)            0\n",
       "CPI                                     0\n",
       "dtype: int64"
      ]
     },
     "execution_count": 159,
     "metadata": {},
     "output_type": "execute_result"
    }
   ],
   "source": [
    "merged_df.isnull().sum()"
   ]
  },
  {
   "cell_type": "code",
   "execution_count": 160,
   "metadata": {},
   "outputs": [],
   "source": [
    "merged_df[\"Annual CO₂ emissions (per capita)\"] = (\n",
    "    merged_df.groupby(\"Year\")[\"Annual CO₂ emissions (per capita)\"]\n",
    "    .transform(lambda x: x.fillna(x.mean()))\n",
    ")"
   ]
  },
  {
   "cell_type": "code",
   "execution_count": 161,
   "metadata": {},
   "outputs": [],
   "source": [
    "merged_df[\"Annual precipitation\"] = (\n",
    "    merged_df.groupby(\"Year\")[\"Annual precipitation\"]\n",
    "    .transform(lambda x: x.fillna(x.mean()))\n",
    ")\n"
   ]
  },
  {
   "cell_type": "code",
   "execution_count": 162,
   "metadata": {},
   "outputs": [],
   "source": [
    "merged_df[\"AvgTemp_Year\"] = (\n",
    "    merged_df.groupby(\"Year\")[\"AvgTemp_Year\"]\n",
    "    .transform(lambda x: x.fillna(x.mean()))\n",
    ")\n"
   ]
  },
  {
   "cell_type": "code",
   "execution_count": 163,
   "metadata": {},
   "outputs": [
    {
     "data": {
      "text/plain": [
       "Country                                 0\n",
       "Year                                    0\n",
       "Annual CO₂ emissions (per capita)       1\n",
       "Annual precipitation                    1\n",
       "Latitude                             3731\n",
       "Longitude                            3731\n",
       "AvgTemp_Year                         1037\n",
       "Disaster Type                           0\n",
       "Total Events                            0\n",
       "Total Affected                          0\n",
       "Total Deaths                            0\n",
       "Total Damage (USD, adjusted)            0\n",
       "CPI                                     0\n",
       "dtype: int64"
      ]
     },
     "execution_count": 163,
     "metadata": {},
     "output_type": "execute_result"
    }
   ],
   "source": [
    "merged_df.isnull().sum()"
   ]
  },
  {
   "cell_type": "code",
   "execution_count": 164,
   "metadata": {},
   "outputs": [
    {
     "data": {
      "text/html": [
       "<div>\n",
       "<style scoped>\n",
       "    .dataframe tbody tr th:only-of-type {\n",
       "        vertical-align: middle;\n",
       "    }\n",
       "\n",
       "    .dataframe tbody tr th {\n",
       "        vertical-align: top;\n",
       "    }\n",
       "\n",
       "    .dataframe thead th {\n",
       "        text-align: right;\n",
       "    }\n",
       "</style>\n",
       "<table border=\"1\" class=\"dataframe\">\n",
       "  <thead>\n",
       "    <tr style=\"text-align: right;\">\n",
       "      <th></th>\n",
       "      <th>Country</th>\n",
       "      <th>Year</th>\n",
       "      <th>Annual CO₂ emissions (per capita)</th>\n",
       "      <th>Annual precipitation</th>\n",
       "      <th>Latitude</th>\n",
       "      <th>Longitude</th>\n",
       "      <th>AvgTemp_Year</th>\n",
       "      <th>Disaster Type</th>\n",
       "      <th>Total Events</th>\n",
       "      <th>Total Affected</th>\n",
       "      <th>Total Deaths</th>\n",
       "      <th>Total Damage (USD, adjusted)</th>\n",
       "      <th>CPI</th>\n",
       "    </tr>\n",
       "  </thead>\n",
       "  <tbody>\n",
       "    <tr>\n",
       "      <th>894</th>\n",
       "      <td>Afghanistan</td>\n",
       "      <td>2014.0</td>\n",
       "      <td>0.277076</td>\n",
       "      <td>348.421200</td>\n",
       "      <td>NaN</td>\n",
       "      <td>NaN</td>\n",
       "      <td>NaN</td>\n",
       "      <td>Storm</td>\n",
       "      <td>1.0</td>\n",
       "      <td>7500.0</td>\n",
       "      <td>63.0</td>\n",
       "      <td>8342696.0</td>\n",
       "      <td>80.892624</td>\n",
       "    </tr>\n",
       "    <tr>\n",
       "      <th>895</th>\n",
       "      <td>Afghanistan</td>\n",
       "      <td>2015.0</td>\n",
       "      <td>0.285831</td>\n",
       "      <td>396.690460</td>\n",
       "      <td>NaN</td>\n",
       "      <td>NaN</td>\n",
       "      <td>NaN</td>\n",
       "      <td>Flood</td>\n",
       "      <td>1.0</td>\n",
       "      <td>3010.0</td>\n",
       "      <td>7.0</td>\n",
       "      <td>8342696.0</td>\n",
       "      <td>80.988579</td>\n",
       "    </tr>\n",
       "    <tr>\n",
       "      <th>896</th>\n",
       "      <td>Afghanistan</td>\n",
       "      <td>2015.0</td>\n",
       "      <td>0.285831</td>\n",
       "      <td>396.690460</td>\n",
       "      <td>NaN</td>\n",
       "      <td>NaN</td>\n",
       "      <td>NaN</td>\n",
       "      <td>Landslide</td>\n",
       "      <td>1.0</td>\n",
       "      <td>500.0</td>\n",
       "      <td>52.0</td>\n",
       "      <td>8342696.0</td>\n",
       "      <td>80.988579</td>\n",
       "    </tr>\n",
       "    <tr>\n",
       "      <th>898</th>\n",
       "      <td>Afghanistan</td>\n",
       "      <td>2017.0</td>\n",
       "      <td>0.271161</td>\n",
       "      <td>324.953640</td>\n",
       "      <td>NaN</td>\n",
       "      <td>NaN</td>\n",
       "      <td>NaN</td>\n",
       "      <td>Flood</td>\n",
       "      <td>1.0</td>\n",
       "      <td>1822.0</td>\n",
       "      <td>36.0</td>\n",
       "      <td>8342696.0</td>\n",
       "      <td>83.757255</td>\n",
       "    </tr>\n",
       "    <tr>\n",
       "      <th>899</th>\n",
       "      <td>Afghanistan</td>\n",
       "      <td>2018.0</td>\n",
       "      <td>0.288541</td>\n",
       "      <td>280.105260</td>\n",
       "      <td>NaN</td>\n",
       "      <td>NaN</td>\n",
       "      <td>NaN</td>\n",
       "      <td>Flood</td>\n",
       "      <td>1.0</td>\n",
       "      <td>7500.0</td>\n",
       "      <td>11.0</td>\n",
       "      <td>8342696.0</td>\n",
       "      <td>85.803026</td>\n",
       "    </tr>\n",
       "    <tr>\n",
       "      <th>...</th>\n",
       "      <td>...</td>\n",
       "      <td>...</td>\n",
       "      <td>...</td>\n",
       "      <td>...</td>\n",
       "      <td>...</td>\n",
       "      <td>...</td>\n",
       "      <td>...</td>\n",
       "      <td>...</td>\n",
       "      <td>...</td>\n",
       "      <td>...</td>\n",
       "      <td>...</td>\n",
       "      <td>...</td>\n",
       "      <td>...</td>\n",
       "    </tr>\n",
       "    <tr>\n",
       "      <th>271160</th>\n",
       "      <td>Venezuela (Bolivarian Republic of)</td>\n",
       "      <td>2022.0</td>\n",
       "      <td>2.978532</td>\n",
       "      <td>1364.431459</td>\n",
       "      <td>NaN</td>\n",
       "      <td>NaN</td>\n",
       "      <td>NaN</td>\n",
       "      <td>Storm</td>\n",
       "      <td>1.0</td>\n",
       "      <td>30000.0</td>\n",
       "      <td>20.0</td>\n",
       "      <td>36197660.0</td>\n",
       "      <td>100.000000</td>\n",
       "    </tr>\n",
       "    <tr>\n",
       "      <th>271161</th>\n",
       "      <td>Congo (the Democratic Republic of the)</td>\n",
       "      <td>2023.0</td>\n",
       "      <td>2.131939</td>\n",
       "      <td>1736.340262</td>\n",
       "      <td>NaN</td>\n",
       "      <td>NaN</td>\n",
       "      <td>NaN</td>\n",
       "      <td>Landslide</td>\n",
       "      <td>1.0</td>\n",
       "      <td>8000.0</td>\n",
       "      <td>19.0</td>\n",
       "      <td>12078910.5</td>\n",
       "      <td>73.307177</td>\n",
       "    </tr>\n",
       "    <tr>\n",
       "      <th>271162</th>\n",
       "      <td>Réunion</td>\n",
       "      <td>2023.0</td>\n",
       "      <td>2.131939</td>\n",
       "      <td>1736.340262</td>\n",
       "      <td>NaN</td>\n",
       "      <td>NaN</td>\n",
       "      <td>NaN</td>\n",
       "      <td>Storm</td>\n",
       "      <td>1.0</td>\n",
       "      <td>800.0</td>\n",
       "      <td>10.0</td>\n",
       "      <td>105077566.0</td>\n",
       "      <td>45.860338</td>\n",
       "    </tr>\n",
       "    <tr>\n",
       "      <th>271163</th>\n",
       "      <td>Syrian Arab Republic</td>\n",
       "      <td>2023.0</td>\n",
       "      <td>2.131939</td>\n",
       "      <td>1736.340262</td>\n",
       "      <td>NaN</td>\n",
       "      <td>NaN</td>\n",
       "      <td>NaN</td>\n",
       "      <td>Flood</td>\n",
       "      <td>1.0</td>\n",
       "      <td>2851.0</td>\n",
       "      <td>5.5</td>\n",
       "      <td>137669077.5</td>\n",
       "      <td>71.226252</td>\n",
       "    </tr>\n",
       "    <tr>\n",
       "      <th>271164</th>\n",
       "      <td>TUR</td>\n",
       "      <td>2023.0</td>\n",
       "      <td>2.131939</td>\n",
       "      <td>1736.340262</td>\n",
       "      <td>NaN</td>\n",
       "      <td>NaN</td>\n",
       "      <td>NaN</td>\n",
       "      <td>Flood</td>\n",
       "      <td>1.0</td>\n",
       "      <td>3000.0</td>\n",
       "      <td>19.0</td>\n",
       "      <td>154564061.0</td>\n",
       "      <td>52.069299</td>\n",
       "    </tr>\n",
       "  </tbody>\n",
       "</table>\n",
       "<p>1037 rows × 13 columns</p>\n",
       "</div>"
      ],
      "text/plain": [
       "                                       Country    Year  \\\n",
       "894                                Afghanistan  2014.0   \n",
       "895                                Afghanistan  2015.0   \n",
       "896                                Afghanistan  2015.0   \n",
       "898                                Afghanistan  2017.0   \n",
       "899                                Afghanistan  2018.0   \n",
       "...                                        ...     ...   \n",
       "271160      Venezuela (Bolivarian Republic of)  2022.0   \n",
       "271161  Congo (the Democratic Republic of the)  2023.0   \n",
       "271162                                 Réunion  2023.0   \n",
       "271163                    Syrian Arab Republic  2023.0   \n",
       "271164                                     TUR  2023.0   \n",
       "\n",
       "        Annual CO₂ emissions (per capita)  Annual precipitation Latitude  \\\n",
       "894                              0.277076            348.421200      NaN   \n",
       "895                              0.285831            396.690460      NaN   \n",
       "896                              0.285831            396.690460      NaN   \n",
       "898                              0.271161            324.953640      NaN   \n",
       "899                              0.288541            280.105260      NaN   \n",
       "...                                   ...                   ...      ...   \n",
       "271160                           2.978532           1364.431459      NaN   \n",
       "271161                           2.131939           1736.340262      NaN   \n",
       "271162                           2.131939           1736.340262      NaN   \n",
       "271163                           2.131939           1736.340262      NaN   \n",
       "271164                           2.131939           1736.340262      NaN   \n",
       "\n",
       "       Longitude  AvgTemp_Year Disaster Type  Total Events  Total Affected  \\\n",
       "894          NaN           NaN         Storm           1.0          7500.0   \n",
       "895          NaN           NaN         Flood           1.0          3010.0   \n",
       "896          NaN           NaN     Landslide           1.0           500.0   \n",
       "898          NaN           NaN         Flood           1.0          1822.0   \n",
       "899          NaN           NaN         Flood           1.0          7500.0   \n",
       "...          ...           ...           ...           ...             ...   \n",
       "271160       NaN           NaN         Storm           1.0         30000.0   \n",
       "271161       NaN           NaN     Landslide           1.0          8000.0   \n",
       "271162       NaN           NaN         Storm           1.0           800.0   \n",
       "271163       NaN           NaN         Flood           1.0          2851.0   \n",
       "271164       NaN           NaN         Flood           1.0          3000.0   \n",
       "\n",
       "        Total Deaths  Total Damage (USD, adjusted)         CPI  \n",
       "894             63.0                     8342696.0   80.892624  \n",
       "895              7.0                     8342696.0   80.988579  \n",
       "896             52.0                     8342696.0   80.988579  \n",
       "898             36.0                     8342696.0   83.757255  \n",
       "899             11.0                     8342696.0   85.803026  \n",
       "...              ...                           ...         ...  \n",
       "271160          20.0                    36197660.0  100.000000  \n",
       "271161          19.0                    12078910.5   73.307177  \n",
       "271162          10.0                   105077566.0   45.860338  \n",
       "271163           5.5                   137669077.5   71.226252  \n",
       "271164          19.0                   154564061.0   52.069299  \n",
       "\n",
       "[1037 rows x 13 columns]"
      ]
     },
     "execution_count": 164,
     "metadata": {},
     "output_type": "execute_result"
    }
   ],
   "source": [
    "merged_df[merged_df[\"AvgTemp_Year\"].isnull()]\n"
   ]
  },
  {
   "cell_type": "code",
   "execution_count": 165,
   "metadata": {},
   "outputs": [],
   "source": [
    "merged_df=merged_df.dropna(subset=[\"Latitude\"])"
   ]
  },
  {
   "cell_type": "code",
   "execution_count": 166,
   "metadata": {},
   "outputs": [],
   "source": [
    "merged_df=merged_df.dropna(subset=[\"Longitude\"])"
   ]
  },
  {
   "cell_type": "code",
   "execution_count": 167,
   "metadata": {},
   "outputs": [],
   "source": [
    "merged_df.to_csv(\"../Data/merged_df.csv\", index=False)"
   ]
  },
  {
   "cell_type": "code",
   "execution_count": 168,
   "metadata": {},
   "outputs": [],
   "source": [
    "import pandas as pd\n",
    "import numpy as np\n",
    "from sklearn.preprocessing import LabelEncoder\n",
    "from sklearn.model_selection import train_test_split\n",
    "from sklearn.ensemble import RandomForestRegressor\n",
    "from sklearn.multioutput import MultiOutputRegressor\n",
    "from sklearn.metrics import mean_absolute_error, mean_squared_error, r2_score\n",
    "\n",
    "merged_df = pd.read_csv(\"../Data/merged_df.csv\")\n",
    "\n",
    "# Convert Latitude and Longitude from string to float\n",
    "def convert_lat_lon(value):\n",
    "    try:\n",
    "        if isinstance(value, str):\n",
    "            if value.endswith(\"N\") or value.endswith(\"E\"):\n",
    "                return float(value[:-1])\n",
    "            elif value.endswith(\"S\") or value.endswith(\"W\"):\n",
    "                return -float(value[:-1])\n",
    "        return float(value)\n",
    "    except:\n",
    "        return None"
   ]
  },
  {
   "cell_type": "code",
   "execution_count": 169,
   "metadata": {},
   "outputs": [],
   "source": [
    "merged_df[\"Latitude\"] = merged_df[\"Latitude\"].apply(convert_lat_lon)\n",
    "merged_df[\"Longitude\"] = merged_df[\"Longitude\"].apply(convert_lat_lon)\n",
    "merged_df.dropna(subset=[\"Latitude\", \"Longitude\"], inplace=True)"
   ]
  },
  {
   "cell_type": "code",
   "execution_count": 170,
   "metadata": {},
   "outputs": [
    {
     "data": {
      "text/html": [
       "<div>\n",
       "<style scoped>\n",
       "    .dataframe tbody tr th:only-of-type {\n",
       "        vertical-align: middle;\n",
       "    }\n",
       "\n",
       "    .dataframe tbody tr th {\n",
       "        vertical-align: top;\n",
       "    }\n",
       "\n",
       "    .dataframe thead th {\n",
       "        text-align: right;\n",
       "    }\n",
       "</style>\n",
       "<table border=\"1\" class=\"dataframe\">\n",
       "  <thead>\n",
       "    <tr style=\"text-align: right;\">\n",
       "      <th></th>\n",
       "      <th>Country</th>\n",
       "      <th>Year</th>\n",
       "      <th>Annual CO₂ emissions (per capita)</th>\n",
       "      <th>Annual precipitation</th>\n",
       "      <th>Latitude</th>\n",
       "      <th>Longitude</th>\n",
       "      <th>AvgTemp_Year</th>\n",
       "      <th>Disaster Type</th>\n",
       "      <th>Total Events</th>\n",
       "      <th>Total Affected</th>\n",
       "      <th>Total Deaths</th>\n",
       "      <th>Total Damage (USD, adjusted)</th>\n",
       "      <th>CPI</th>\n",
       "    </tr>\n",
       "  </thead>\n",
       "  <tbody>\n",
       "    <tr>\n",
       "      <th>0</th>\n",
       "      <td>Afghanistan</td>\n",
       "      <td>1956.0</td>\n",
       "      <td>0.021669</td>\n",
       "      <td>397.5075</td>\n",
       "      <td>34.56</td>\n",
       "      <td>70.05</td>\n",
       "      <td>14.579417</td>\n",
       "      <td>Flood</td>\n",
       "      <td>1.0</td>\n",
       "      <td>7500.0</td>\n",
       "      <td>51.0</td>\n",
       "      <td>8342696.0</td>\n",
       "      <td>9.288532</td>\n",
       "    </tr>\n",
       "    <tr>\n",
       "      <th>1</th>\n",
       "      <td>Afghanistan</td>\n",
       "      <td>1956.0</td>\n",
       "      <td>0.021669</td>\n",
       "      <td>397.5075</td>\n",
       "      <td>34.56</td>\n",
       "      <td>70.05</td>\n",
       "      <td>14.579417</td>\n",
       "      <td>Flood</td>\n",
       "      <td>1.0</td>\n",
       "      <td>7500.0</td>\n",
       "      <td>51.0</td>\n",
       "      <td>8342696.0</td>\n",
       "      <td>9.288532</td>\n",
       "    </tr>\n",
       "    <tr>\n",
       "      <th>2</th>\n",
       "      <td>Afghanistan</td>\n",
       "      <td>1956.0</td>\n",
       "      <td>0.021669</td>\n",
       "      <td>397.5075</td>\n",
       "      <td>34.56</td>\n",
       "      <td>70.05</td>\n",
       "      <td>14.579417</td>\n",
       "      <td>Flood</td>\n",
       "      <td>1.0</td>\n",
       "      <td>7500.0</td>\n",
       "      <td>51.0</td>\n",
       "      <td>8342696.0</td>\n",
       "      <td>9.288532</td>\n",
       "    </tr>\n",
       "    <tr>\n",
       "      <th>3</th>\n",
       "      <td>Afghanistan</td>\n",
       "      <td>1956.0</td>\n",
       "      <td>0.021669</td>\n",
       "      <td>397.5075</td>\n",
       "      <td>34.56</td>\n",
       "      <td>70.05</td>\n",
       "      <td>14.579417</td>\n",
       "      <td>Flood</td>\n",
       "      <td>1.0</td>\n",
       "      <td>7500.0</td>\n",
       "      <td>51.0</td>\n",
       "      <td>8342696.0</td>\n",
       "      <td>9.288532</td>\n",
       "    </tr>\n",
       "    <tr>\n",
       "      <th>4</th>\n",
       "      <td>Afghanistan</td>\n",
       "      <td>1956.0</td>\n",
       "      <td>0.021669</td>\n",
       "      <td>397.5075</td>\n",
       "      <td>34.56</td>\n",
       "      <td>70.05</td>\n",
       "      <td>14.579417</td>\n",
       "      <td>Flood</td>\n",
       "      <td>1.0</td>\n",
       "      <td>7500.0</td>\n",
       "      <td>51.0</td>\n",
       "      <td>8342696.0</td>\n",
       "      <td>9.288532</td>\n",
       "    </tr>\n",
       "  </tbody>\n",
       "</table>\n",
       "</div>"
      ],
      "text/plain": [
       "       Country    Year  Annual CO₂ emissions (per capita)  \\\n",
       "0  Afghanistan  1956.0                           0.021669   \n",
       "1  Afghanistan  1956.0                           0.021669   \n",
       "2  Afghanistan  1956.0                           0.021669   \n",
       "3  Afghanistan  1956.0                           0.021669   \n",
       "4  Afghanistan  1956.0                           0.021669   \n",
       "\n",
       "   Annual precipitation  Latitude  Longitude  AvgTemp_Year Disaster Type  \\\n",
       "0              397.5075     34.56      70.05     14.579417         Flood   \n",
       "1              397.5075     34.56      70.05     14.579417         Flood   \n",
       "2              397.5075     34.56      70.05     14.579417         Flood   \n",
       "3              397.5075     34.56      70.05     14.579417         Flood   \n",
       "4              397.5075     34.56      70.05     14.579417         Flood   \n",
       "\n",
       "   Total Events  Total Affected  Total Deaths  Total Damage (USD, adjusted)  \\\n",
       "0           1.0          7500.0          51.0                     8342696.0   \n",
       "1           1.0          7500.0          51.0                     8342696.0   \n",
       "2           1.0          7500.0          51.0                     8342696.0   \n",
       "3           1.0          7500.0          51.0                     8342696.0   \n",
       "4           1.0          7500.0          51.0                     8342696.0   \n",
       "\n",
       "        CPI  \n",
       "0  9.288532  \n",
       "1  9.288532  \n",
       "2  9.288532  \n",
       "3  9.288532  \n",
       "4  9.288532  "
      ]
     },
     "execution_count": 170,
     "metadata": {},
     "output_type": "execute_result"
    }
   ],
   "source": [
    "merged_df.head()"
   ]
  },
  {
   "cell_type": "code",
   "execution_count": 171,
   "metadata": {},
   "outputs": [],
   "source": [
    "le = LabelEncoder()\n",
    "merged_df[\"Country_encoded\"] = le.fit_transform(merged_df[\"Country\"])"
   ]
  },
  {
   "cell_type": "code",
   "execution_count": 172,
   "metadata": {},
   "outputs": [
    {
     "name": "stderr",
     "output_type": "stream",
     "text": [
      "<ipython-input-172-d4e29a2a7325>:1: FutureWarning: The default value of numeric_only in DataFrame.corr is deprecated. In a future version, it will default to False. Select only valid columns or specify the value of numeric_only to silence this warning.\n",
      "  corr_matrix = merged_df.corr()\n"
     ]
    },
    {
     "data": {
      "text/html": [
       "<div>\n",
       "<style scoped>\n",
       "    .dataframe tbody tr th:only-of-type {\n",
       "        vertical-align: middle;\n",
       "    }\n",
       "\n",
       "    .dataframe tbody tr th {\n",
       "        vertical-align: top;\n",
       "    }\n",
       "\n",
       "    .dataframe thead th {\n",
       "        text-align: right;\n",
       "    }\n",
       "</style>\n",
       "<table border=\"1\" class=\"dataframe\">\n",
       "  <thead>\n",
       "    <tr style=\"text-align: right;\">\n",
       "      <th></th>\n",
       "      <th>Year</th>\n",
       "      <th>Annual CO₂ emissions (per capita)</th>\n",
       "      <th>Annual precipitation</th>\n",
       "      <th>Latitude</th>\n",
       "      <th>Longitude</th>\n",
       "      <th>AvgTemp_Year</th>\n",
       "      <th>Total Events</th>\n",
       "      <th>Total Affected</th>\n",
       "      <th>Total Deaths</th>\n",
       "      <th>Total Damage (USD, adjusted)</th>\n",
       "      <th>CPI</th>\n",
       "      <th>Country_encoded</th>\n",
       "    </tr>\n",
       "  </thead>\n",
       "  <tbody>\n",
       "    <tr>\n",
       "      <th>Year</th>\n",
       "      <td>1.000000</td>\n",
       "      <td>0.056804</td>\n",
       "      <td>-0.040830</td>\n",
       "      <td>0.007715</td>\n",
       "      <td>0.063792</td>\n",
       "      <td>0.102635</td>\n",
       "      <td>NaN</td>\n",
       "      <td>-0.010706</td>\n",
       "      <td>-0.120496</td>\n",
       "      <td>-0.025210</td>\n",
       "      <td>0.988995</td>\n",
       "      <td>0.051008</td>\n",
       "    </tr>\n",
       "    <tr>\n",
       "      <th>Annual CO₂ emissions (per capita)</th>\n",
       "      <td>0.056804</td>\n",
       "      <td>1.000000</td>\n",
       "      <td>-0.337366</td>\n",
       "      <td>-0.047840</td>\n",
       "      <td>0.071835</td>\n",
       "      <td>-0.627408</td>\n",
       "      <td>NaN</td>\n",
       "      <td>-0.213474</td>\n",
       "      <td>-0.382452</td>\n",
       "      <td>0.350015</td>\n",
       "      <td>0.052888</td>\n",
       "      <td>-0.219141</td>\n",
       "    </tr>\n",
       "    <tr>\n",
       "      <th>Annual precipitation</th>\n",
       "      <td>-0.040830</td>\n",
       "      <td>-0.337366</td>\n",
       "      <td>1.000000</td>\n",
       "      <td>-0.299471</td>\n",
       "      <td>-0.193557</td>\n",
       "      <td>0.344918</td>\n",
       "      <td>NaN</td>\n",
       "      <td>0.102719</td>\n",
       "      <td>0.208873</td>\n",
       "      <td>-0.159365</td>\n",
       "      <td>-0.047471</td>\n",
       "      <td>-0.202590</td>\n",
       "    </tr>\n",
       "    <tr>\n",
       "      <th>Latitude</th>\n",
       "      <td>0.007715</td>\n",
       "      <td>-0.047840</td>\n",
       "      <td>-0.299471</td>\n",
       "      <td>1.000000</td>\n",
       "      <td>0.038478</td>\n",
       "      <td>-0.243858</td>\n",
       "      <td>NaN</td>\n",
       "      <td>-0.016140</td>\n",
       "      <td>0.054933</td>\n",
       "      <td>-0.195290</td>\n",
       "      <td>0.015316</td>\n",
       "      <td>0.139511</td>\n",
       "    </tr>\n",
       "    <tr>\n",
       "      <th>Longitude</th>\n",
       "      <td>0.063792</td>\n",
       "      <td>0.071835</td>\n",
       "      <td>-0.193557</td>\n",
       "      <td>0.038478</td>\n",
       "      <td>1.000000</td>\n",
       "      <td>0.204820</td>\n",
       "      <td>NaN</td>\n",
       "      <td>-0.028000</td>\n",
       "      <td>0.076512</td>\n",
       "      <td>-0.175414</td>\n",
       "      <td>0.060493</td>\n",
       "      <td>0.054029</td>\n",
       "    </tr>\n",
       "    <tr>\n",
       "      <th>AvgTemp_Year</th>\n",
       "      <td>0.102635</td>\n",
       "      <td>-0.627408</td>\n",
       "      <td>0.344918</td>\n",
       "      <td>-0.243858</td>\n",
       "      <td>0.204820</td>\n",
       "      <td>1.000000</td>\n",
       "      <td>NaN</td>\n",
       "      <td>0.103633</td>\n",
       "      <td>0.236900</td>\n",
       "      <td>-0.119631</td>\n",
       "      <td>0.100134</td>\n",
       "      <td>0.220052</td>\n",
       "    </tr>\n",
       "    <tr>\n",
       "      <th>Total Events</th>\n",
       "      <td>NaN</td>\n",
       "      <td>NaN</td>\n",
       "      <td>NaN</td>\n",
       "      <td>NaN</td>\n",
       "      <td>NaN</td>\n",
       "      <td>NaN</td>\n",
       "      <td>NaN</td>\n",
       "      <td>NaN</td>\n",
       "      <td>NaN</td>\n",
       "      <td>NaN</td>\n",
       "      <td>NaN</td>\n",
       "      <td>NaN</td>\n",
       "    </tr>\n",
       "    <tr>\n",
       "      <th>Total Affected</th>\n",
       "      <td>-0.010706</td>\n",
       "      <td>-0.213474</td>\n",
       "      <td>0.102719</td>\n",
       "      <td>-0.016140</td>\n",
       "      <td>-0.028000</td>\n",
       "      <td>0.103633</td>\n",
       "      <td>NaN</td>\n",
       "      <td>1.000000</td>\n",
       "      <td>0.200572</td>\n",
       "      <td>-0.042149</td>\n",
       "      <td>-0.018269</td>\n",
       "      <td>-0.016264</td>\n",
       "    </tr>\n",
       "    <tr>\n",
       "      <th>Total Deaths</th>\n",
       "      <td>-0.120496</td>\n",
       "      <td>-0.382452</td>\n",
       "      <td>0.208873</td>\n",
       "      <td>0.054933</td>\n",
       "      <td>0.076512</td>\n",
       "      <td>0.236900</td>\n",
       "      <td>NaN</td>\n",
       "      <td>0.200572</td>\n",
       "      <td>1.000000</td>\n",
       "      <td>-0.185363</td>\n",
       "      <td>-0.114816</td>\n",
       "      <td>0.063202</td>\n",
       "    </tr>\n",
       "    <tr>\n",
       "      <th>Total Damage (USD, adjusted)</th>\n",
       "      <td>-0.025210</td>\n",
       "      <td>0.350015</td>\n",
       "      <td>-0.159365</td>\n",
       "      <td>-0.195290</td>\n",
       "      <td>-0.175414</td>\n",
       "      <td>-0.119631</td>\n",
       "      <td>NaN</td>\n",
       "      <td>-0.042149</td>\n",
       "      <td>-0.185363</td>\n",
       "      <td>1.000000</td>\n",
       "      <td>-0.025063</td>\n",
       "      <td>-0.255444</td>\n",
       "    </tr>\n",
       "    <tr>\n",
       "      <th>CPI</th>\n",
       "      <td>0.988995</td>\n",
       "      <td>0.052888</td>\n",
       "      <td>-0.047471</td>\n",
       "      <td>0.015316</td>\n",
       "      <td>0.060493</td>\n",
       "      <td>0.100134</td>\n",
       "      <td>NaN</td>\n",
       "      <td>-0.018269</td>\n",
       "      <td>-0.114816</td>\n",
       "      <td>-0.025063</td>\n",
       "      <td>1.000000</td>\n",
       "      <td>0.056983</td>\n",
       "    </tr>\n",
       "    <tr>\n",
       "      <th>Country_encoded</th>\n",
       "      <td>0.051008</td>\n",
       "      <td>-0.219141</td>\n",
       "      <td>-0.202590</td>\n",
       "      <td>0.139511</td>\n",
       "      <td>0.054029</td>\n",
       "      <td>0.220052</td>\n",
       "      <td>NaN</td>\n",
       "      <td>-0.016264</td>\n",
       "      <td>0.063202</td>\n",
       "      <td>-0.255444</td>\n",
       "      <td>0.056983</td>\n",
       "      <td>1.000000</td>\n",
       "    </tr>\n",
       "  </tbody>\n",
       "</table>\n",
       "</div>"
      ],
      "text/plain": [
       "                                       Year  \\\n",
       "Year                               1.000000   \n",
       "Annual CO₂ emissions (per capita)  0.056804   \n",
       "Annual precipitation              -0.040830   \n",
       "Latitude                           0.007715   \n",
       "Longitude                          0.063792   \n",
       "AvgTemp_Year                       0.102635   \n",
       "Total Events                            NaN   \n",
       "Total Affected                    -0.010706   \n",
       "Total Deaths                      -0.120496   \n",
       "Total Damage (USD, adjusted)      -0.025210   \n",
       "CPI                                0.988995   \n",
       "Country_encoded                    0.051008   \n",
       "\n",
       "                                   Annual CO₂ emissions (per capita)  \\\n",
       "Year                                                        0.056804   \n",
       "Annual CO₂ emissions (per capita)                           1.000000   \n",
       "Annual precipitation                                       -0.337366   \n",
       "Latitude                                                   -0.047840   \n",
       "Longitude                                                   0.071835   \n",
       "AvgTemp_Year                                               -0.627408   \n",
       "Total Events                                                     NaN   \n",
       "Total Affected                                             -0.213474   \n",
       "Total Deaths                                               -0.382452   \n",
       "Total Damage (USD, adjusted)                                0.350015   \n",
       "CPI                                                         0.052888   \n",
       "Country_encoded                                            -0.219141   \n",
       "\n",
       "                                   Annual precipitation  Latitude  Longitude  \\\n",
       "Year                                          -0.040830  0.007715   0.063792   \n",
       "Annual CO₂ emissions (per capita)             -0.337366 -0.047840   0.071835   \n",
       "Annual precipitation                           1.000000 -0.299471  -0.193557   \n",
       "Latitude                                      -0.299471  1.000000   0.038478   \n",
       "Longitude                                     -0.193557  0.038478   1.000000   \n",
       "AvgTemp_Year                                   0.344918 -0.243858   0.204820   \n",
       "Total Events                                        NaN       NaN        NaN   \n",
       "Total Affected                                 0.102719 -0.016140  -0.028000   \n",
       "Total Deaths                                   0.208873  0.054933   0.076512   \n",
       "Total Damage (USD, adjusted)                  -0.159365 -0.195290  -0.175414   \n",
       "CPI                                           -0.047471  0.015316   0.060493   \n",
       "Country_encoded                               -0.202590  0.139511   0.054029   \n",
       "\n",
       "                                   AvgTemp_Year  Total Events  Total Affected  \\\n",
       "Year                                   0.102635           NaN       -0.010706   \n",
       "Annual CO₂ emissions (per capita)     -0.627408           NaN       -0.213474   \n",
       "Annual precipitation                   0.344918           NaN        0.102719   \n",
       "Latitude                              -0.243858           NaN       -0.016140   \n",
       "Longitude                              0.204820           NaN       -0.028000   \n",
       "AvgTemp_Year                           1.000000           NaN        0.103633   \n",
       "Total Events                                NaN           NaN             NaN   \n",
       "Total Affected                         0.103633           NaN        1.000000   \n",
       "Total Deaths                           0.236900           NaN        0.200572   \n",
       "Total Damage (USD, adjusted)          -0.119631           NaN       -0.042149   \n",
       "CPI                                    0.100134           NaN       -0.018269   \n",
       "Country_encoded                        0.220052           NaN       -0.016264   \n",
       "\n",
       "                                   Total Deaths  Total Damage (USD, adjusted)  \\\n",
       "Year                                  -0.120496                     -0.025210   \n",
       "Annual CO₂ emissions (per capita)     -0.382452                      0.350015   \n",
       "Annual precipitation                   0.208873                     -0.159365   \n",
       "Latitude                               0.054933                     -0.195290   \n",
       "Longitude                              0.076512                     -0.175414   \n",
       "AvgTemp_Year                           0.236900                     -0.119631   \n",
       "Total Events                                NaN                           NaN   \n",
       "Total Affected                         0.200572                     -0.042149   \n",
       "Total Deaths                           1.000000                     -0.185363   \n",
       "Total Damage (USD, adjusted)          -0.185363                      1.000000   \n",
       "CPI                                   -0.114816                     -0.025063   \n",
       "Country_encoded                        0.063202                     -0.255444   \n",
       "\n",
       "                                        CPI  Country_encoded  \n",
       "Year                               0.988995         0.051008  \n",
       "Annual CO₂ emissions (per capita)  0.052888        -0.219141  \n",
       "Annual precipitation              -0.047471        -0.202590  \n",
       "Latitude                           0.015316         0.139511  \n",
       "Longitude                          0.060493         0.054029  \n",
       "AvgTemp_Year                       0.100134         0.220052  \n",
       "Total Events                            NaN              NaN  \n",
       "Total Affected                    -0.018269        -0.016264  \n",
       "Total Deaths                      -0.114816         0.063202  \n",
       "Total Damage (USD, adjusted)      -0.025063        -0.255444  \n",
       "CPI                                1.000000         0.056983  \n",
       "Country_encoded                    0.056983         1.000000  "
      ]
     },
     "execution_count": 172,
     "metadata": {},
     "output_type": "execute_result"
    }
   ],
   "source": [
    "corr_matrix = merged_df.corr()\n",
    "corr_matrix"
   ]
  },
  {
   "cell_type": "code",
   "execution_count": 173,
   "metadata": {},
   "outputs": [
    {
     "data": {
      "image/png": "[encoded data removed]",
      "text/plain": [
       "<Figure size 720x576 with 2 Axes>"
      ]
     },
     "metadata": {
      "needs_background": "light"
     },
     "output_type": "display_data"
    }
   ],
   "source": [
    "import seaborn as sns\n",
    "import matplotlib.pyplot as plt\n",
    "\n",
    "plt.figure(figsize=(10,8))\n",
    "sns.heatmap(corr_matrix, annot=True, cmap='coolwarm')\n",
    "plt.show()\n"
   ]
  },
  {
   "cell_type": "code",
   "execution_count": 174,
   "metadata": {},
   "outputs": [
    {
     "name": "stderr",
     "output_type": "stream",
     "text": [
      "c:\\Users\\Nikitha\\anaconda3\\lib\\site-packages\\seaborn\\distributions.py:305: UserWarning: Dataset has 0 variance; skipping density estimate.\n",
      "  warnings.warn(msg, UserWarning)\n"
     ]
    },
    {
     "data": {
      "image/png": "[encoded data removed]",
      "text/plain": [
       "<Figure size 1152x864 with 8 Axes>"
      ]
     },
     "metadata": {
      "needs_background": "light"
     },
     "output_type": "display_data"
    }
   ],
   "source": [
    "# List of numerical features to visualize\n",
    "features = [\"AvgTemp_Year\", \"Annual CO₂ emissions (per capita)\", \"Annual precipitation\",\n",
    "            \"Total Events\", \"Total Affected\", \"Total Deaths\", \"Total Damage (USD, adjusted)\", \"CPI\"]\n",
    "\n",
    "# Plot distributions\n",
    "plt.figure(figsize=(16, 12))\n",
    "for i, col in enumerate(features):\n",
    "    plt.subplot(3, 3, i+1)\n",
    "    sns.histplot(merged_df[col].dropna(), kde=True, bins=30)\n",
    "    plt.title(f\"Distribution of {col}\")\n",
    "plt.tight_layout()\n",
    "plt.show()"
   ]
  },
  {
   "cell_type": "code",
   "execution_count": 175,
   "metadata": {},
   "outputs": [
    {
     "data": {
      "image/png": "[encoded data removed]",
      "text/plain": [
       "<Figure size 864x432 with 1 Axes>"
      ]
     },
     "metadata": {
      "needs_background": "light"
     },
     "output_type": "display_data"
    }
   ],
   "source": [
    "plt.figure(figsize=(12, 6))\n",
    "sns.boxplot(data=merged_df, x=\"Disaster Type\", y=\"Total Affected\")\n",
    "plt.xticks(rotation=45)\n",
    "plt.title(\"Disaster Type vs Total Affected (log scale)\")\n",
    "plt.yscale(\"log\")\n",
    "plt.tight_layout()\n",
    "plt.show()"
   ]
  },
  {
   "cell_type": "code",
   "execution_count": 176,
   "metadata": {},
   "outputs": [
    {
     "data": {
      "image/png": "[encoded data removed]",
      "text/plain": [
       "<Figure size 576x432 with 1 Axes>"
      ]
     },
     "metadata": {
      "needs_background": "light"
     },
     "output_type": "display_data"
    }
   ],
   "source": [
    "plt.figure(figsize=(8, 6))\n",
    "sns.scatterplot(data=merged_df, x=\"Annual CO₂ emissions (per capita)\", y=\"AvgTemp_Year\", hue=\"Country\", alpha=0.7, legend=False)\n",
    "plt.title(\"CO₂ Emissions vs Avg Temperature\")\n",
    "plt.xlabel(\"CO₂ Emissions (per capita)\")\n",
    "plt.ylabel(\"Avg Temperature (°C)\")\n",
    "plt.grid(True)\n",
    "plt.tight_layout()\n",
    "plt.show()\n"
   ]
  },
  {
   "cell_type": "code",
   "execution_count": 177,
   "metadata": {},
   "outputs": [
    {
     "data": {
      "image/png": "[encoded data removed]",
      "text/plain": [
       "<Figure size 1008x576 with 2 Axes>"
      ]
     },
     "metadata": {
      "needs_background": "light"
     },
     "output_type": "display_data"
    }
   ],
   "source": [
    "pivot = merged_df.pivot_table(index=\"Country\", columns=\"Disaster Type\", values=\"Total Events\", aggfunc=\"sum\", fill_value=0)\n",
    "plt.figure(figsize=(14, 8))\n",
    "sns.heatmap(pivot, cmap=\"YlGnBu\", linewidths=0.5)\n",
    "plt.title(\"Disaster Event Count per Country\")\n",
    "plt.tight_layout()\n",
    "plt.show()\n"
   ]
  },
  {
   "cell_type": "code",
   "execution_count": 178,
   "metadata": {},
   "outputs": [],
   "source": [
    "def categorize_impact(x):\n",
    "    if x < 1000:\n",
    "        return \"Low\"\n",
    "    elif x <= 50000:\n",
    "        return \"Medium\"\n",
    "    else:\n",
    "        return \"High\"\n",
    "\n",
    "merged_df[\"Impact_Level\"] = merged_df[\"Total Affected\"].apply(categorize_impact)"
   ]
  },
  {
   "cell_type": "code",
   "execution_count": 179,
   "metadata": {},
   "outputs": [],
   "source": [
    "features = [\"Country_encoded\", \"Year\", \"AvgTemp_Year\", \"Annual CO₂ emissions (per capita)\",\n",
    "            \"Annual precipitation\", \"CPI\", \"Disaster Type\"]\n",
    "target = \"Impact_Level\""
   ]
  },
  {
   "cell_type": "code",
   "execution_count": 180,
   "metadata": {},
   "outputs": [],
   "source": [
    "le = LabelEncoder()\n",
    "merged_df[\"Country_encoded\"] = le.fit_transform(merged_df[\"Country\"])"
   ]
  },
  {
   "cell_type": "code",
   "execution_count": 181,
   "metadata": {},
   "outputs": [],
   "source": [
    "label_encoders = {}\n",
    "for col in [\"Disaster Type\"]:\n",
    "    le = LabelEncoder()\n",
    "    merged_df[col] = le.fit_transform(merged_df[col])\n",
    "    label_encoders[col] = le"
   ]
  },
  {
   "cell_type": "code",
   "execution_count": 182,
   "metadata": {},
   "outputs": [],
   "source": [
    "from sklearn.preprocessing import LabelEncoder, StandardScaler\n",
    "scaler = StandardScaler()\n",
    "X = scaler.fit_transform(merged_df[features])\n",
    "y = merged_df[target]"
   ]
  },
  {
   "cell_type": "code",
   "execution_count": 183,
   "metadata": {},
   "outputs": [
    {
     "name": "stderr",
     "output_type": "stream",
     "text": [
      "<ipython-input-183-127036ed1a1c>:19: UserWarning: Glyph 128269 (\\N{LEFT-POINTING MAGNIFYING GLASS}) missing from current font.\n",
      "  plt.tight_layout()\n",
      "c:\\Users\\Nikitha\\anaconda3\\lib\\site-packages\\IPython\\core\\pylabtools.py:132: UserWarning: Glyph 128269 (\\N{LEFT-POINTING MAGNIFYING GLASS}) missing from current font.\n",
      "  fig.canvas.print_figure(bytes_io, **kw)\n"
     ]
    },
    {
     "data": {
      "image/png": "[encoded data removed]",
      "text/plain": [
       "<Figure size 576x360 with 1 Axes>"
      ]
     },
     "metadata": {
      "needs_background": "light"
     },
     "output_type": "display_data"
    }
   ],
   "source": [
    "from sklearn.ensemble import RandomForestClassifier\n",
    "X_train, X_test, y_train, y_test = train_test_split(X, y, test_size=0.2, random_state=42)\n",
    "\n",
    "# Step 5: Train classifier\n",
    "clf = RandomForestClassifier(random_state=42)\n",
    "clf.fit(X_train, y_train)\n",
    "\n",
    "# Step 11: Feature Importance\n",
    "importances = clf.feature_importances_\n",
    "feature_names = features\n",
    "feat_imp_df = pd.DataFrame({\"Feature\": feature_names, \"Importance\": importances})\n",
    "feat_imp_df = feat_imp_df.sort_values(by=\"Importance\", ascending=False)\n",
    "\n",
    "plt.figure(figsize=(8, 5))\n",
    "sns.barplot(data=feat_imp_df, x=\"Importance\", y=\"Feature\", palette=\"viridis\")\n",
    "plt.title(\"🔍 Feature Importance - Random Forest\")\n",
    "plt.xlabel(\"Importance\")\n",
    "plt.ylabel(\"Feature\")\n",
    "plt.tight_layout()\n",
    "plt.show()"
   ]
  },
  {
   "cell_type": "code",
   "execution_count": 184,
   "metadata": {},
   "outputs": [],
   "source": [
    "from sklearn.decomposition import PCA\n",
    "pca = PCA(n_components=0.95)\n",
    "X_reduced = pca.fit_transform(X)"
   ]
  },
  {
   "cell_type": "code",
   "execution_count": 185,
   "metadata": {},
   "outputs": [
    {
     "data": {
      "image/png": "[encoded data removed]",
      "text/plain": [
       "<Figure size 432x288 with 1 Axes>"
      ]
     },
     "metadata": {
      "needs_background": "light"
     },
     "output_type": "display_data"
    }
   ],
   "source": [
    "pca = PCA()\n",
    "pca.fit(X)\n",
    "\n",
    "plt.plot(np.cumsum(pca.explained_variance_ratio_))\n",
    "plt.xlabel(\"Number of Components\")\n",
    "plt.ylabel(\"Cumulative Explained Variance\")\n",
    "plt.title(\"Explained Variance by PCA Components\")\n",
    "plt.grid(True)\n",
    "plt.show()"
   ]
  },
  {
   "cell_type": "markdown",
   "metadata": {},
   "source": [
    "## Classification"
   ]
  },
  {
   "cell_type": "markdown",
   "metadata": {},
   "source": [
    "### 1. Random Forest"
   ]
  },
  {
   "cell_type": "code",
   "execution_count": 186,
   "metadata": {},
   "outputs": [],
   "source": [
    "# Step 7: Train/Test split\n",
    "from sklearn.ensemble import RandomForestClassifier\n",
    "from sklearn.metrics import classification_report, confusion_matrix\n",
    "X_train, X_test, y_train, y_test = train_test_split(X_reduced, y, test_size=0.2, stratify=y, random_state=42)"
   ]
  },
  {
   "cell_type": "code",
   "execution_count": 187,
   "metadata": {},
   "outputs": [
    {
     "name": "stdout",
     "output_type": "stream",
     "text": [
      "📊 Classification Report:\n",
      "\n",
      "              precision    recall  f1-score   support\n",
      "\n",
      "        High       0.90      0.98      0.94       326\n",
      "         Low       0.96      0.93      0.94      1145\n",
      "      Medium       0.97      0.98      0.97      3115\n",
      "\n",
      "    accuracy                           0.96      4586\n",
      "   macro avg       0.95      0.96      0.95      4586\n",
      "weighted avg       0.96      0.96      0.96      4586\n",
      "\n"
     ]
    }
   ],
   "source": [
    "# Step 8: Train Random Forest Classifier\n",
    "clf = RandomForestClassifier(n_estimators=100, random_state=42)\n",
    "clf.fit(X_train, y_train)\n",
    "\n",
    "# Step 9: Evaluate model\n",
    "y_pred_log = clf.predict(X_test)\n",
    "print(\"📊 Classification Report:\\n\")\n",
    "print(classification_report(y_test, y_pred_log))"
   ]
  },
  {
   "cell_type": "code",
   "execution_count": 188,
   "metadata": {},
   "outputs": [
    {
     "data": {
      "text/plain": [
       "['../Scripts/models/classification_rf.pkl']"
      ]
     },
     "execution_count": 188,
     "metadata": {},
     "output_type": "execute_result"
    }
   ],
   "source": [
    "import joblib\n",
    "joblib.dump(clf,\"../Scripts/models/classification_rf.pkl\")"
   ]
  },
  {
   "cell_type": "code",
   "execution_count": 53,
   "metadata": {},
   "outputs": [],
   "source": [
    "classification_results = []\n",
    "import pandas as pd\n",
    "from sklearn.metrics import accuracy_score, precision_score, recall_score, f1_score\n",
    "\n",
    "# Example: Logistic Regression\n",
    "classification_results.append({\n",
    "    \"Model\": \"Logistic Regression\",\n",
    "    \"Accuracy\": accuracy_score(y_test, y_pred_log),\n",
    "    \"Precision\": precision_score(y_test, y_pred_log, average='macro'),\n",
    "    \"Recall\": recall_score(y_test, y_pred_log, average='macro'),\n",
    "    \"F1 Score\": f1_score(y_test, y_pred_log, average='macro')\n",
    "})"
   ]
  },
  {
   "cell_type": "code",
   "execution_count": 54,
   "metadata": {},
   "outputs": [
    {
     "data": {
      "image/png": "[encoded data removed]",
      "text/plain": [
       "<Figure size 432x288 with 2 Axes>"
      ]
     },
     "metadata": {
      "needs_background": "light"
     },
     "output_type": "display_data"
    }
   ],
   "source": [
    "# Step 10: Confusion Matrix\n",
    "cm = confusion_matrix(y_test, y_pred_log, labels=[\"High\", \"Low\", \"Medium\"])\n",
    "plt.figure(figsize=(6, 4))\n",
    "sns.heatmap(cm, annot=True, fmt=\"d\", cmap=\"Blues\", xticklabels=[\"High\", \"Low\", \"Medium\"], yticklabels=[\"High\", \"Low\", \"Medium\"])\n",
    "plt.xlabel(\"Predicted\")\n",
    "plt.ylabel(\"Actual\")\n",
    "plt.title(\"Confusion Matrix - Impact Classification\")\n",
    "plt.show()\n"
   ]
  },
  {
   "cell_type": "markdown",
   "metadata": {},
   "source": [
    "### 2. MLP - Neural Network"
   ]
  },
  {
   "cell_type": "code",
   "execution_count": 55,
   "metadata": {},
   "outputs": [
    {
     "name": "stdout",
     "output_type": "stream",
     "text": [
      "📊 MLP Classifier:\n",
      "              precision    recall  f1-score   support\n",
      "\n",
      "        High       0.81      0.63      0.71       326\n",
      "         Low       0.85      0.67      0.75      1145\n",
      "      Medium       0.86      0.95      0.91      3115\n",
      "\n",
      "    accuracy                           0.86      4586\n",
      "   macro avg       0.84      0.75      0.79      4586\n",
      "weighted avg       0.86      0.86      0.85      4586\n",
      "\n"
     ]
    },
    {
     "name": "stderr",
     "output_type": "stream",
     "text": [
      "C:\\Users\\Nikitha\\AppData\\Roaming\\Python\\Python38\\site-packages\\sklearn\\neural_network\\_multilayer_perceptron.py:702: ConvergenceWarning: Stochastic Optimizer: Maximum iterations (300) reached and the optimization hasn't converged yet.\n",
      "  warnings.warn(\n"
     ]
    }
   ],
   "source": [
    "from sklearn.neural_network import MLPClassifier\n",
    "\n",
    "mlp = MLPClassifier(hidden_layer_sizes=(100,), max_iter=300, random_state=42)\n",
    "mlp.fit(X_train, y_train)\n",
    "y_pred_mlp = mlp.predict(X_test)\n",
    "\n",
    "print(\"📊 MLP Classifier:\")\n",
    "print(classification_report(y_test, y_pred_mlp))"
   ]
  },
  {
   "cell_type": "code",
   "execution_count": 56,
   "metadata": {},
   "outputs": [],
   "source": [
    "# MLP\n",
    "classification_results.append({\n",
    "    \"Model\": \"MLP\",\n",
    "    \"Accuracy\": accuracy_score(y_test, y_pred_mlp),\n",
    "    \"Precision\": precision_score(y_test, y_pred_mlp, average='macro'),\n",
    "    \"Recall\": recall_score(y_test, y_pred_mlp, average='macro'),\n",
    "    \"F1 Score\": f1_score(y_test, y_pred_mlp, average='macro')\n",
    "})"
   ]
  },
  {
   "cell_type": "code",
   "execution_count": 57,
   "metadata": {},
   "outputs": [
    {
     "data": {
      "image/png": "[encoded data removed]",
      "text/plain": [
       "<Figure size 432x288 with 2 Axes>"
      ]
     },
     "metadata": {
      "needs_background": "light"
     },
     "output_type": "display_data"
    }
   ],
   "source": [
    "# Step 10: Confusion Matrix\n",
    "cm = confusion_matrix(y_test, y_pred_mlp, labels=[\"High\", \"Low\", \"Medium\"])\n",
    "plt.figure(figsize=(6, 4))\n",
    "sns.heatmap(cm, annot=True, fmt=\"d\", cmap=\"Blues\", xticklabels=[\"High\", \"Low\", \"Medium\"], yticklabels=[\"High\", \"Low\", \"Medium\"])\n",
    "plt.xlabel(\"Predicted\")\n",
    "plt.ylabel(\"Actual\")\n",
    "plt.title(\"Confusion Matrix - Impact Classification\")\n",
    "plt.show()"
   ]
  },
  {
   "cell_type": "markdown",
   "metadata": {},
   "source": [
    "### 3. XGBoost"
   ]
  },
  {
   "cell_type": "code",
   "execution_count": 58,
   "metadata": {},
   "outputs": [
    {
     "name": "stderr",
     "output_type": "stream",
     "text": [
      "c:\\Users\\Nikitha\\anaconda3\\lib\\site-packages\\xgboost\\core.py:158: UserWarning: [17:28:06] WARNING: C:\\buildkite-agent\\builds\\buildkite-windows-cpu-autoscaling-group-i-08cbc0333d8d4aae1-1\\xgboost\\xgboost-ci-windows\\src\\learner.cc:740: \n",
      "Parameters: { \"use_label_encoder\" } are not used.\n",
      "\n",
      "  warnings.warn(smsg, UserWarning)\n"
     ]
    },
    {
     "name": "stdout",
     "output_type": "stream",
     "text": [
      "              precision    recall  f1-score   support\n",
      "\n",
      "        High       0.98      0.90      0.94       324\n",
      "         Low       0.97      0.94      0.95      1150\n",
      "      Medium       0.97      0.99      0.98      3112\n",
      "\n",
      "    accuracy                           0.97      4586\n",
      "   macro avg       0.97      0.94      0.96      4586\n",
      "weighted avg       0.97      0.97      0.97      4586\n",
      "\n"
     ]
    }
   ],
   "source": [
    "from xgboost import XGBClassifier\n",
    "\n",
    "from sklearn.preprocessing import LabelEncoder\n",
    "\n",
    "# Encode target labels as integers\n",
    "le = LabelEncoder()\n",
    "merged_df[\"Impact_Level_encoded\"] = le.fit_transform(merged_df[\"Impact_Level\"])  # Now classes will be 0, 1, 2\n",
    "\n",
    "X = merged_df[features]\n",
    "y = merged_df[\"Impact_Level_encoded\"]\n",
    "\n",
    "X_train, X_test, y_train, y_test = train_test_split(X, y, test_size=0.2, random_state=42)\n",
    "\n",
    "xgb = XGBClassifier(use_label_encoder=False, eval_metric='mlogloss', random_state=42)\n",
    "xgb.fit(X_train, y_train)\n",
    "y_pred_xgb = xgb.predict(X_test)\n",
    "\n",
    "# Decode predictions for human-readable output (optional)\n",
    "y_pred_labels = le.inverse_transform(y_pred_xgb)\n",
    "y_test_labels = le.inverse_transform(y_test)\n",
    "\n",
    "print(classification_report(y_test_labels, y_pred_labels))\n"
   ]
  },
  {
   "cell_type": "code",
   "execution_count": 59,
   "metadata": {},
   "outputs": [],
   "source": [
    "# XGBoost\n",
    "classification_results.append({\n",
    "    \"Model\": \"XGBoost\",\n",
    "    \"Accuracy\": accuracy_score(y_test, y_pred_xgb),\n",
    "    \"Precision\": precision_score(y_test, y_pred_xgb, average='macro'),\n",
    "    \"Recall\": recall_score(y_test, y_pred_xgb, average='macro'),\n",
    "    \"F1 Score\": f1_score(y_test, y_pred_xgb, average='macro')\n",
    "})\n"
   ]
  },
  {
   "cell_type": "code",
   "execution_count": 60,
   "metadata": {},
   "outputs": [
    {
     "data": {
      "image/png": "[encoded data removed]",
      "text/plain": [
       "<Figure size 432x288 with 2 Axes>"
      ]
     },
     "metadata": {
      "needs_background": "light"
     },
     "output_type": "display_data"
    }
   ],
   "source": [
    "# Step 10: Confusion Matrix\n",
    "cm = confusion_matrix(y_test_labels, y_pred_labels, labels=[\"High\", \"Low\", \"Medium\"])\n",
    "plt.figure(figsize=(6, 4))\n",
    "sns.heatmap(cm, annot=True, fmt=\"d\", cmap=\"Blues\", xticklabels=[\"High\", \"Low\", \"Medium\"], yticklabels=[\"High\", \"Low\", \"Medium\"])\n",
    "plt.xlabel(\"Predicted\")\n",
    "plt.ylabel(\"Actual\")\n",
    "plt.title(\"Confusion Matrix - Impact Classification\")\n",
    "plt.show()"
   ]
  },
  {
   "cell_type": "code",
   "execution_count": 108,
   "metadata": {},
   "outputs": [],
   "source": [
    "cls_results=pd.DataFrame(classification_results)\n",
    "cls_results.to_csv('../Data/results/classification_results.csv',index=False)"
   ]
  },
  {
   "cell_type": "markdown",
   "metadata": {},
   "source": [
    "## Regression"
   ]
  },
  {
   "cell_type": "code",
   "execution_count": 109,
   "metadata": {},
   "outputs": [],
   "source": [
    "le = LabelEncoder()\n",
    "merged_df[\"Country_encoded\"] = le.fit_transform(merged_df[\"Country\"])"
   ]
  },
  {
   "cell_type": "code",
   "execution_count": 110,
   "metadata": {},
   "outputs": [],
   "source": [
    "features = [\"Country_encoded\", \"Year\"]\n",
    "targets = [\"AvgTemp_Year\", \"Annual CO₂ emissions (per capita)\", \"Annual precipitation\"]"
   ]
  },
  {
   "cell_type": "code",
   "execution_count": 111,
   "metadata": {},
   "outputs": [],
   "source": [
    "from sklearn.preprocessing import LabelEncoder, StandardScaler\n",
    "scaler = StandardScaler()\n",
    "X = scaler.fit_transform(merged_df[features])\n",
    "y = merged_df[targets]"
   ]
  },
  {
   "cell_type": "markdown",
   "metadata": {},
   "source": [
    "### Random Forest Regressor"
   ]
  },
  {
   "cell_type": "code",
   "execution_count": 112,
   "metadata": {},
   "outputs": [],
   "source": [
    "# Step 4: Train-test split\n",
    "X_train, X_test, y_train, y_test = train_test_split(X, y, test_size=0.2, random_state=42)\n",
    "\n",
    "# Step 5: Train model\n",
    "model = MultiOutputRegressor(RandomForestRegressor(random_state=42))\n",
    "model.fit(X_train, y_train)\n",
    "\n",
    "# Step 6: Predict and evaluate\n",
    "y_pred = model.predict(X_test)\n",
    "\n",
    "# def evaluate_model(y_true, y_pred, target_names):\n",
    "#     for i, target in enumerate(target_names):\n",
    "#         print(f\"\\nEvaluation for {target}\")\n",
    "#         print(f\"MAE  : {mean_absolute_error(y_true[:, i], y_pred[:, i]):.4f}\")\n",
    "#         print(f\"RMSE : {np.sqrt(mean_squared_error(y_true[:, i], y_pred[:, i])):.4f}\")\n",
    "#         print(f\"R²   : {r2_score(y_true[:, i], y_pred[:, i]):.4f}\")\n",
    "\n",
    "# evaluate_model(y_test.values, y_pred, targets)"
   ]
  },
  {
   "cell_type": "code",
   "execution_count": 114,
   "metadata": {},
   "outputs": [],
   "source": [
    "def evaluate_model_and_save(y_true, y_pred, target_names, model_name, results_list):\n",
    "    for i, target in enumerate(target_names):\n",
    "        mae = mean_absolute_error(y_true[:, i], y_pred[:, i])\n",
    "        rmse = np.sqrt(mean_squared_error(y_true[:, i], y_pred[:, i]))\n",
    "        r2 = r2_score(y_true[:, i], y_pred[:, i])\n",
    "        \n",
    "        print(f\"\\n{model_name} - Evaluation for {target}\")\n",
    "        print(f\"MAE  : {mae:.4f}\")\n",
    "        print(f\"RMSE : {rmse:.4f}\")\n",
    "        print(f\"R²   : {r2:.4f}\")\n",
    "\n",
    "        results_list.append({\n",
    "            \"Model\": model_name,\n",
    "            \"Target\": target,\n",
    "            \"MAE\": mae,\n",
    "            \"RMSE\": rmse,\n",
    "            \"R2 Score\": r2\n",
    "        })\n"
   ]
  },
  {
   "cell_type": "code",
   "execution_count": 115,
   "metadata": {},
   "outputs": [
    {
     "name": "stdout",
     "output_type": "stream",
     "text": [
      "\n",
      "Random Forest - Evaluation for AvgTemp_Year\n",
      "MAE  : 0.0000\n",
      "RMSE : 0.0002\n",
      "R²   : 1.0000\n",
      "\n",
      "Random Forest - Evaluation for Annual CO₂ emissions (per capita)\n",
      "MAE  : 0.0000\n",
      "RMSE : 0.0001\n",
      "R²   : 1.0000\n",
      "\n",
      "Random Forest - Evaluation for Annual precipitation\n",
      "MAE  : 0.0067\n",
      "RMSE : 0.1055\n",
      "R²   : 1.0000\n"
     ]
    }
   ],
   "source": [
    "results=[]\n",
    "y_pred_rf = model.predict(X_test)\n",
    "evaluate_model_and_save(y_test.values, y_pred_rf, targets, \"Random Forest\", results)"
   ]
  },
  {
   "cell_type": "code",
   "execution_count": 116,
   "metadata": {},
   "outputs": [
    {
     "data": {
      "text/html": [
       "<div>\n",
       "<style scoped>\n",
       "    .dataframe tbody tr th:only-of-type {\n",
       "        vertical-align: middle;\n",
       "    }\n",
       "\n",
       "    .dataframe tbody tr th {\n",
       "        vertical-align: top;\n",
       "    }\n",
       "\n",
       "    .dataframe thead th {\n",
       "        text-align: right;\n",
       "    }\n",
       "</style>\n",
       "<table border=\"1\" class=\"dataframe\">\n",
       "  <thead>\n",
       "    <tr style=\"text-align: right;\">\n",
       "      <th></th>\n",
       "      <th>Country</th>\n",
       "      <th>Year</th>\n",
       "      <th>Annual CO₂ emissions (per capita)</th>\n",
       "      <th>Annual precipitation</th>\n",
       "      <th>Latitude</th>\n",
       "      <th>Longitude</th>\n",
       "      <th>AvgTemp_Year</th>\n",
       "      <th>Disaster Type</th>\n",
       "      <th>Total Events</th>\n",
       "      <th>Total Affected</th>\n",
       "      <th>Total Deaths</th>\n",
       "      <th>Total Damage (USD, adjusted)</th>\n",
       "      <th>CPI</th>\n",
       "      <th>Country_encoded</th>\n",
       "      <th>Impact_Level</th>\n",
       "      <th>Impact_Level_encoded</th>\n",
       "    </tr>\n",
       "  </thead>\n",
       "  <tbody>\n",
       "    <tr>\n",
       "      <th>0</th>\n",
       "      <td>Afghanistan</td>\n",
       "      <td>1956.0</td>\n",
       "      <td>0.021669</td>\n",
       "      <td>397.5075</td>\n",
       "      <td>34.56</td>\n",
       "      <td>70.05</td>\n",
       "      <td>14.579417</td>\n",
       "      <td>3</td>\n",
       "      <td>1.0</td>\n",
       "      <td>7500.0</td>\n",
       "      <td>51.0</td>\n",
       "      <td>8342696.0</td>\n",
       "      <td>9.288532</td>\n",
       "      <td>0</td>\n",
       "      <td>Medium</td>\n",
       "      <td>2</td>\n",
       "    </tr>\n",
       "    <tr>\n",
       "      <th>1</th>\n",
       "      <td>Afghanistan</td>\n",
       "      <td>1956.0</td>\n",
       "      <td>0.021669</td>\n",
       "      <td>397.5075</td>\n",
       "      <td>34.56</td>\n",
       "      <td>70.05</td>\n",
       "      <td>14.579417</td>\n",
       "      <td>3</td>\n",
       "      <td>1.0</td>\n",
       "      <td>7500.0</td>\n",
       "      <td>51.0</td>\n",
       "      <td>8342696.0</td>\n",
       "      <td>9.288532</td>\n",
       "      <td>0</td>\n",
       "      <td>Medium</td>\n",
       "      <td>2</td>\n",
       "    </tr>\n",
       "    <tr>\n",
       "      <th>2</th>\n",
       "      <td>Afghanistan</td>\n",
       "      <td>1956.0</td>\n",
       "      <td>0.021669</td>\n",
       "      <td>397.5075</td>\n",
       "      <td>34.56</td>\n",
       "      <td>70.05</td>\n",
       "      <td>14.579417</td>\n",
       "      <td>3</td>\n",
       "      <td>1.0</td>\n",
       "      <td>7500.0</td>\n",
       "      <td>51.0</td>\n",
       "      <td>8342696.0</td>\n",
       "      <td>9.288532</td>\n",
       "      <td>0</td>\n",
       "      <td>Medium</td>\n",
       "      <td>2</td>\n",
       "    </tr>\n",
       "    <tr>\n",
       "      <th>3</th>\n",
       "      <td>Afghanistan</td>\n",
       "      <td>1956.0</td>\n",
       "      <td>0.021669</td>\n",
       "      <td>397.5075</td>\n",
       "      <td>34.56</td>\n",
       "      <td>70.05</td>\n",
       "      <td>14.579417</td>\n",
       "      <td>3</td>\n",
       "      <td>1.0</td>\n",
       "      <td>7500.0</td>\n",
       "      <td>51.0</td>\n",
       "      <td>8342696.0</td>\n",
       "      <td>9.288532</td>\n",
       "      <td>0</td>\n",
       "      <td>Medium</td>\n",
       "      <td>2</td>\n",
       "    </tr>\n",
       "    <tr>\n",
       "      <th>4</th>\n",
       "      <td>Afghanistan</td>\n",
       "      <td>1956.0</td>\n",
       "      <td>0.021669</td>\n",
       "      <td>397.5075</td>\n",
       "      <td>34.56</td>\n",
       "      <td>70.05</td>\n",
       "      <td>14.579417</td>\n",
       "      <td>3</td>\n",
       "      <td>1.0</td>\n",
       "      <td>7500.0</td>\n",
       "      <td>51.0</td>\n",
       "      <td>8342696.0</td>\n",
       "      <td>9.288532</td>\n",
       "      <td>0</td>\n",
       "      <td>Medium</td>\n",
       "      <td>2</td>\n",
       "    </tr>\n",
       "  </tbody>\n",
       "</table>\n",
       "</div>"
      ],
      "text/plain": [
       "       Country    Year  Annual CO₂ emissions (per capita)  \\\n",
       "0  Afghanistan  1956.0                           0.021669   \n",
       "1  Afghanistan  1956.0                           0.021669   \n",
       "2  Afghanistan  1956.0                           0.021669   \n",
       "3  Afghanistan  1956.0                           0.021669   \n",
       "4  Afghanistan  1956.0                           0.021669   \n",
       "\n",
       "   Annual precipitation  Latitude  Longitude  AvgTemp_Year  Disaster Type  \\\n",
       "0              397.5075     34.56      70.05     14.579417              3   \n",
       "1              397.5075     34.56      70.05     14.579417              3   \n",
       "2              397.5075     34.56      70.05     14.579417              3   \n",
       "3              397.5075     34.56      70.05     14.579417              3   \n",
       "4              397.5075     34.56      70.05     14.579417              3   \n",
       "\n",
       "   Total Events  Total Affected  Total Deaths  Total Damage (USD, adjusted)  \\\n",
       "0           1.0          7500.0          51.0                     8342696.0   \n",
       "1           1.0          7500.0          51.0                     8342696.0   \n",
       "2           1.0          7500.0          51.0                     8342696.0   \n",
       "3           1.0          7500.0          51.0                     8342696.0   \n",
       "4           1.0          7500.0          51.0                     8342696.0   \n",
       "\n",
       "        CPI  Country_encoded Impact_Level  Impact_Level_encoded  \n",
       "0  9.288532                0       Medium                     2  \n",
       "1  9.288532                0       Medium                     2  \n",
       "2  9.288532                0       Medium                     2  \n",
       "3  9.288532                0       Medium                     2  \n",
       "4  9.288532                0       Medium                     2  "
      ]
     },
     "execution_count": 116,
     "metadata": {},
     "output_type": "execute_result"
    }
   ],
   "source": [
    "merged_df.head()"
   ]
  },
  {
   "cell_type": "code",
   "execution_count": 117,
   "metadata": {},
   "outputs": [
    {
     "name": "stdout",
     "output_type": "stream",
     "text": [
      "\n",
      "🔮 Forecast for Afghanistan in 2025:\n",
      "{'AvgTemp_Year': 10.0625, 'Annual CO₂ emissions (per capita)': 9.76027699999998, 'Annual precipitation': 932.0201799999984}\n"
     ]
    },
    {
     "name": "stderr",
     "output_type": "stream",
     "text": [
      "C:\\Users\\Nikitha\\AppData\\Roaming\\Python\\Python38\\site-packages\\sklearn\\base.py:443: UserWarning: X has feature names, but RandomForestRegressor was fitted without feature names\n",
      "  warnings.warn(\n",
      "C:\\Users\\Nikitha\\AppData\\Roaming\\Python\\Python38\\site-packages\\sklearn\\base.py:443: UserWarning: X has feature names, but RandomForestRegressor was fitted without feature names\n",
      "  warnings.warn(\n",
      "C:\\Users\\Nikitha\\AppData\\Roaming\\Python\\Python38\\site-packages\\sklearn\\base.py:443: UserWarning: X has feature names, but RandomForestRegressor was fitted without feature names\n",
      "  warnings.warn(\n"
     ]
    }
   ],
   "source": [
    "def forecast(country_name, year):\n",
    "    encoded_country = le.transform([country_name])[0]\n",
    "    input_data = pd.DataFrame([[encoded_country, year]], columns=[\"Country_encoded\", \"Year\"])\n",
    "    prediction = model.predict(input_data)[0]\n",
    "    return {\n",
    "        \"AvgTemp_Year\": prediction[0],\n",
    "        \"Annual CO₂ emissions (per capita)\": prediction[1],\n",
    "        \"Annual precipitation\": prediction[2]\n",
    "    }\n",
    "\n",
    "# Example usage\n",
    "print(\"\\n🔮 Forecast for Afghanistan in 2025:\")\n",
    "print(forecast(\"Afghanistan\", 2025))"
   ]
  },
  {
   "cell_type": "code",
   "execution_count": 118,
   "metadata": {},
   "outputs": [],
   "source": [
    "df = merged_df[[\"Country_encoded\", \"Year\", \"AvgTemp_Year\", \n",
    "         \"Annual CO₂ emissions (per capita)\", \"Annual precipitation\"]]\n",
    "df = df.sort_values([\"Country_encoded\", \"Year\"]).reset_index(drop=True)"
   ]
  },
  {
   "cell_type": "code",
   "execution_count": 119,
   "metadata": {},
   "outputs": [
    {
     "data": {
      "text/plain": [
       "['../Scripts/models/random_forest.pkl']"
      ]
     },
     "execution_count": 119,
     "metadata": {},
     "output_type": "execute_result"
    }
   ],
   "source": [
    "import joblib \n",
    "joblib.dump(model,\"../Scripts/models/random_forest.pkl\")"
   ]
  },
  {
   "cell_type": "markdown",
   "metadata": {},
   "source": [
    "### 2. LSTM"
   ]
  },
  {
   "cell_type": "code",
   "execution_count": 120,
   "metadata": {},
   "outputs": [],
   "source": [
    "# Normalize the features\n",
    "from sklearn.preprocessing import LabelEncoder, MinMaxScaler\n",
    "scaler = MinMaxScaler()\n",
    "scaled_df = pd.DataFrame(scaler.fit_transform(df), columns=df.columns)"
   ]
  },
  {
   "cell_type": "code",
   "execution_count": 121,
   "metadata": {},
   "outputs": [],
   "source": [
    "from tensorflow.keras.models import Sequential\n",
    "from tensorflow.keras.layers import LSTM, Dense, Dropout\n",
    "# STEP 2: Create LSTM sequences\n",
    "SEQUENCE_LENGTH = 10\n",
    "X_seq, y_seq = [], []\n",
    "\n",
    "for i in range(len(scaled_df) - SEQUENCE_LENGTH):\n",
    "    if scaled_df.iloc[i:i+SEQUENCE_LENGTH][\"Country_encoded\"].nunique() == 1:\n",
    "        X_seq.append(scaled_df.iloc[i:i+SEQUENCE_LENGTH][[\"Country_encoded\", \"Year\"]].values)\n",
    "        y_seq.append(scaled_df.iloc[i+SEQUENCE_LENGTH][[\n",
    "            \"AvgTemp_Year\", \n",
    "            \"Annual CO₂ emissions (per capita)\", \n",
    "            \"Annual precipitation\"\n",
    "        ]].values)\n",
    "\n",
    "X_seq = np.array(X_seq)\n",
    "y_seq = np.array(y_seq)\n",
    "\n",
    "# STEP 3: Define LSTM model\n",
    "lstm_model = Sequential([\n",
    "    LSTM(64, activation='relu', input_shape=(X_seq.shape[1], X_seq.shape[2])),\n",
    "    Dropout(0.2),\n",
    "    Dense(32, activation='relu'),\n",
    "    Dense(3)  # Output layer for 3 targets\n",
    "])\n",
    "\n",
    "lstm_model.compile(optimizer='adam', loss='mse', metrics=['mae'])"
   ]
  },
  {
   "cell_type": "code",
   "execution_count": 122,
   "metadata": {},
   "outputs": [
    {
     "name": "stdout",
     "output_type": "stream",
     "text": [
      "Epoch 1/50\n",
      "284/284 [==============================] - 3s 7ms/step - loss: 0.0852 - mae: 0.2292 - val_loss: 0.0609 - val_mae: 0.2021\n",
      "Epoch 2/50\n",
      "284/284 [==============================] - 2s 6ms/step - loss: 0.0616 - mae: 0.2021 - val_loss: 0.0549 - val_mae: 0.1859\n",
      "Epoch 3/50\n",
      "284/284 [==============================] - 2s 6ms/step - loss: 0.0468 - mae: 0.1652 - val_loss: 0.0331 - val_mae: 0.1351\n",
      "Epoch 4/50\n",
      "284/284 [==============================] - 2s 6ms/step - loss: 0.0307 - mae: 0.1294 - val_loss: 0.0231 - val_mae: 0.1053\n",
      "Epoch 5/50\n",
      "284/284 [==============================] - 2s 6ms/step - loss: 0.0250 - mae: 0.1103 - val_loss: 0.0210 - val_mae: 0.0967\n",
      "Epoch 6/50\n",
      "284/284 [==============================] - 2s 5ms/step - loss: 0.0228 - mae: 0.1021 - val_loss: 0.0187 - val_mae: 0.0840\n",
      "Epoch 7/50\n",
      "284/284 [==============================] - 2s 6ms/step - loss: 0.0213 - mae: 0.0969 - val_loss: 0.0184 - val_mae: 0.0856\n",
      "Epoch 8/50\n",
      "284/284 [==============================] - 2s 5ms/step - loss: 0.0200 - mae: 0.0930 - val_loss: 0.0158 - val_mae: 0.0749\n",
      "Epoch 9/50\n",
      "284/284 [==============================] - 2s 6ms/step - loss: 0.0187 - mae: 0.0893 - val_loss: 0.0156 - val_mae: 0.0802\n",
      "Epoch 10/50\n",
      "284/284 [==============================] - 2s 5ms/step - loss: 0.0167 - mae: 0.0853 - val_loss: 0.0144 - val_mae: 0.0708\n",
      "Epoch 11/50\n",
      "284/284 [==============================] - 2s 6ms/step - loss: 0.0141 - mae: 0.0792 - val_loss: 0.0125 - val_mae: 0.0718\n",
      "Epoch 12/50\n",
      "284/284 [==============================] - 2s 5ms/step - loss: 0.0124 - mae: 0.0733 - val_loss: 0.0097 - val_mae: 0.0635\n",
      "Epoch 13/50\n",
      "284/284 [==============================] - 2s 5ms/step - loss: 0.0112 - mae: 0.0690 - val_loss: 0.0088 - val_mae: 0.0602\n",
      "Epoch 14/50\n",
      "284/284 [==============================] - 2s 6ms/step - loss: 0.0104 - mae: 0.0656 - val_loss: 0.0087 - val_mae: 0.0586\n",
      "Epoch 15/50\n",
      "284/284 [==============================] - 2s 5ms/step - loss: 0.0095 - mae: 0.0615 - val_loss: 0.0090 - val_mae: 0.0571\n",
      "Epoch 16/50\n",
      "284/284 [==============================] - 2s 6ms/step - loss: 0.0092 - mae: 0.0604 - val_loss: 0.0074 - val_mae: 0.0555\n",
      "Epoch 17/50\n",
      "284/284 [==============================] - 2s 6ms/step - loss: 0.0082 - mae: 0.0568 - val_loss: 0.0069 - val_mae: 0.0520\n",
      "Epoch 18/50\n",
      "284/284 [==============================] - 2s 6ms/step - loss: 0.0080 - mae: 0.0562 - val_loss: 0.0061 - val_mae: 0.0513\n",
      "Epoch 19/50\n",
      "284/284 [==============================] - 2s 6ms/step - loss: 0.0073 - mae: 0.0538 - val_loss: 0.0108 - val_mae: 0.0680\n",
      "Epoch 20/50\n",
      "284/284 [==============================] - 2s 6ms/step - loss: 0.0086 - mae: 0.0583 - val_loss: 0.0058 - val_mae: 0.0517\n",
      "Epoch 21/50\n",
      "284/284 [==============================] - 2s 6ms/step - loss: 0.0062 - mae: 0.0495 - val_loss: 0.0042 - val_mae: 0.0415\n",
      "Epoch 22/50\n",
      "284/284 [==============================] - 2s 5ms/step - loss: 0.0057 - mae: 0.0470 - val_loss: 0.0054 - val_mae: 0.0463\n",
      "Epoch 23/50\n",
      "284/284 [==============================] - 2s 6ms/step - loss: 0.0048 - mae: 0.0433 - val_loss: 0.0034 - val_mae: 0.0379\n",
      "Epoch 24/50\n",
      "284/284 [==============================] - 2s 5ms/step - loss: 0.0048 - mae: 0.0432 - val_loss: 0.0036 - val_mae: 0.0399\n",
      "Epoch 25/50\n",
      "284/284 [==============================] - 2s 6ms/step - loss: 0.0043 - mae: 0.0411 - val_loss: 0.0069 - val_mae: 0.0519\n",
      "Epoch 26/50\n",
      "284/284 [==============================] - 2s 6ms/step - loss: 0.0050 - mae: 0.0437 - val_loss: 0.0034 - val_mae: 0.0390\n",
      "Epoch 27/50\n",
      "284/284 [==============================] - 2s 6ms/step - loss: 0.0036 - mae: 0.0384 - val_loss: 0.0031 - val_mae: 0.0359\n",
      "Epoch 28/50\n",
      "284/284 [==============================] - 2s 5ms/step - loss: 0.0039 - mae: 0.0390 - val_loss: 0.0029 - val_mae: 0.0367\n",
      "Epoch 29/50\n",
      "284/284 [==============================] - 2s 5ms/step - loss: 0.0049 - mae: 0.0429 - val_loss: 0.0029 - val_mae: 0.0364\n",
      "Epoch 30/50\n",
      "284/284 [==============================] - 2s 6ms/step - loss: 0.0032 - mae: 0.0359 - val_loss: 0.0023 - val_mae: 0.0329\n",
      "Epoch 31/50\n",
      "284/284 [==============================] - 2s 5ms/step - loss: 0.0067 - mae: 0.0490 - val_loss: 0.0057 - val_mae: 0.0477\n",
      "Epoch 32/50\n",
      "284/284 [==============================] - 2s 6ms/step - loss: 0.0054 - mae: 0.0450 - val_loss: 0.0041 - val_mae: 0.0395\n",
      "Epoch 33/50\n",
      "284/284 [==============================] - 2s 5ms/step - loss: 0.0049 - mae: 0.0431 - val_loss: 0.0049 - val_mae: 0.0465\n",
      "Epoch 34/50\n",
      "284/284 [==============================] - 2s 6ms/step - loss: 0.0052 - mae: 0.0439 - val_loss: 0.0034 - val_mae: 0.0390\n",
      "Epoch 35/50\n",
      "284/284 [==============================] - 2s 5ms/step - loss: 0.0037 - mae: 0.0388 - val_loss: 0.0037 - val_mae: 0.0429\n",
      "Epoch 36/50\n",
      "284/284 [==============================] - 2s 6ms/step - loss: 0.0038 - mae: 0.0388 - val_loss: 0.0030 - val_mae: 0.0371\n",
      "Epoch 37/50\n",
      "284/284 [==============================] - 2s 5ms/step - loss: 0.0032 - mae: 0.0366 - val_loss: 0.0021 - val_mae: 0.0305\n",
      "Epoch 38/50\n",
      "284/284 [==============================] - 2s 6ms/step - loss: 0.0033 - mae: 0.0366 - val_loss: 0.0020 - val_mae: 0.0313\n",
      "Epoch 39/50\n",
      "284/284 [==============================] - 2s 6ms/step - loss: 0.0028 - mae: 0.0340 - val_loss: 0.0025 - val_mae: 0.0345\n",
      "Epoch 40/50\n",
      "284/284 [==============================] - 2s 6ms/step - loss: 0.0027 - mae: 0.0334 - val_loss: 0.0024 - val_mae: 0.0333\n",
      "Epoch 41/50\n",
      "284/284 [==============================] - 2s 6ms/step - loss: 0.0026 - mae: 0.0330 - val_loss: 0.0024 - val_mae: 0.0327\n",
      "Epoch 42/50\n",
      "284/284 [==============================] - 2s 6ms/step - loss: 0.0071 - mae: 0.0505 - val_loss: 0.0028 - val_mae: 0.0378\n",
      "Epoch 43/50\n",
      "284/284 [==============================] - 2s 6ms/step - loss: 0.0032 - mae: 0.0371 - val_loss: 0.0026 - val_mae: 0.0361\n",
      "Epoch 44/50\n",
      "284/284 [==============================] - 2s 6ms/step - loss: 0.0027 - mae: 0.0339 - val_loss: 0.0021 - val_mae: 0.0316\n",
      "Epoch 45/50\n",
      "284/284 [==============================] - 2s 6ms/step - loss: 0.0039 - mae: 0.0378 - val_loss: 0.0035 - val_mae: 0.0371\n",
      "Epoch 46/50\n",
      "284/284 [==============================] - 2s 6ms/step - loss: 0.0037 - mae: 0.0372 - val_loss: 0.0028 - val_mae: 0.0359\n",
      "Epoch 47/50\n",
      "284/284 [==============================] - 2s 6ms/step - loss: 0.0030 - mae: 0.0342 - val_loss: 0.0054 - val_mae: 0.0452\n",
      "Epoch 48/50\n",
      "284/284 [==============================] - 2s 6ms/step - loss: 0.0030 - mae: 0.0343 - val_loss: 0.0020 - val_mae: 0.0291\n",
      "Epoch 49/50\n",
      "284/284 [==============================] - 2s 6ms/step - loss: 0.0023 - mae: 0.0312 - val_loss: 0.0024 - val_mae: 0.0337\n",
      "Epoch 50/50\n",
      "284/284 [==============================] - 2s 6ms/step - loss: 0.0023 - mae: 0.0312 - val_loss: 0.0027 - val_mae: 0.0363\n"
     ]
    }
   ],
   "source": [
    "from sklearn.model_selection import train_test_split\n",
    "\n",
    "X_train, X_test, y_train, y_test = train_test_split(X_seq, y_seq, test_size=0.2, random_state=42)\n",
    "\n",
    "history = lstm_model.fit(X_train, y_train, epochs=50, batch_size=64, validation_data=(X_test, y_test))\n"
   ]
  },
  {
   "cell_type": "code",
   "execution_count": 125,
   "metadata": {},
   "outputs": [
    {
     "name": "stdout",
     "output_type": "stream",
     "text": [
      "142/142 [==============================] - 0s 2ms/step - loss: 0.0027 - mae: 0.0363\n",
      "Test MSE Loss: 0.0027331302408128977\n",
      "Test MAE: 0.03630981966853142\n"
     ]
    }
   ],
   "source": [
    "loss, mae = lstm_model.evaluate(X_test, y_test)\n",
    "print(\"Test MSE Loss:\", loss)\n",
    "print(\"Test MAE:\", mae)"
   ]
  },
  {
   "cell_type": "code",
   "execution_count": 127,
   "metadata": {},
   "outputs": [
    {
     "name": "stdout",
     "output_type": "stream",
     "text": [
      "1/1 [==============================] - 0s 162ms/step\n",
      "Predicted values (Temperature, CO₂, Rainfall): [  22.77767749    2.50776071 1329.26537549]\n"
     ]
    }
   ],
   "source": [
    "last_seq = X_seq[-1].reshape(1, 10, 2)\n",
    "prediction = lstm_model.predict(last_seq)[0]\n",
    "inv_scaled = scaler.inverse_transform([[0, 0] + list(prediction)])\n",
    "print(\"Predicted values (Temperature, CO₂, Rainfall):\", inv_scaled[0][2:])"
   ]
  },
  {
   "cell_type": "code",
   "execution_count": 128,
   "metadata": {},
   "outputs": [
    {
     "name": "stdout",
     "output_type": "stream",
     "text": [
      "142/142 [==============================] - 0s 2ms/step\n",
      "\n",
      "🔍 AvgTemp_Year Evaluation:\n",
      "  MAE : 0.0421\n",
      "  RMSE     : 0.0538\n",
      "  R² Score : 0.9612\n",
      "\n",
      "🔍 Annual CO₂ emissions (per capita) Evaluation:\n",
      "  MAE : 0.0263\n",
      "  RMSE     : 0.0416\n",
      "  R² Score : 0.9749\n",
      "\n",
      "🔍 Annual precipitation Evaluation:\n",
      "  MAE : 0.0405\n",
      "  RMSE     : 0.0598\n",
      "  R² Score : 0.9444\n"
     ]
    }
   ],
   "source": [
    "y_pred = lstm_model.predict(X_test)\n",
    "labels = [\"AvgTemp_Year\", \"Annual CO₂ emissions (per capita)\", \"Annual precipitation\"]\n",
    "# Evaluate with RMSE and R²\n",
    "for i in range(3):\n",
    "    rmse = np.sqrt(mean_squared_error(y_test[:, i], y_pred[:, i]))\n",
    "    r2 = r2_score(y_test[:, i], y_pred[:, i])\n",
    "    mae = mean_absolute_error(y_test[:, i], y_pred[:, i])\n",
    "    results.append({\n",
    "        \"Model\":\"LSTM\",\n",
    "        \"Target\": labels[i],\n",
    "        \"MAE\":mae,\n",
    "        \"RMSE\": rmse,\n",
    "        \"R2 Score\": r2\n",
    "        \n",
    "    })\n",
    "    print(f\"\\n🔍 {labels[i]} Evaluation:\")\n",
    "    print(f\"  MAE : {mae:.4f}\")\n",
    "    print(f\"  RMSE     : {rmse:.4f}\")\n",
    "    print(f\"  R² Score : {r2:.4f}\")"
   ]
  },
  {
   "cell_type": "code",
   "execution_count": 129,
   "metadata": {},
   "outputs": [
    {
     "data": {
      "image/png": "[encoded data removed]",
      "text/plain": [
       "<Figure size 432x216 with 1 Axes>"
      ]
     },
     "metadata": {
      "needs_background": "light"
     },
     "output_type": "display_data"
    },
    {
     "data": {
      "image/png": "[encoded data removed]",
      "text/plain": [
       "<Figure size 432x216 with 1 Axes>"
      ]
     },
     "metadata": {
      "needs_background": "light"
     },
     "output_type": "display_data"
    },
    {
     "data": {
      "image/png": "[encoded data removed]",
      "text/plain": [
       "<Figure size 432x216 with 1 Axes>"
      ]
     },
     "metadata": {
      "needs_background": "light"
     },
     "output_type": "display_data"
    }
   ],
   "source": [
    "import matplotlib.pyplot as plt\n",
    "for i in range(3):\n",
    "    plt.figure(figsize=(6, 3))\n",
    "    plt.plot(y_test[:50, i], label=\"Actual\")\n",
    "    plt.plot(y_pred[:50, i], label=\"Predicted\")\n",
    "    plt.title(f\"{labels[i]} Forecast (First 50 Samples)\")\n",
    "    plt.xlabel(\"Sample\")\n",
    "    plt.ylabel(labels[i])\n",
    "    plt.legend()\n",
    "    plt.tight_layout()\n",
    "    plt.show()"
   ]
  },
  {
   "cell_type": "code",
   "execution_count": 130,
   "metadata": {},
   "outputs": [],
   "source": [
    "def forecast_lstm(country_name, next_year, raw_df, scaler, model, le):\n",
    "    # Step 1: Get last 5 years of data for the country\n",
    "    country_id = le.transform([country_name])[0]\n",
    "    country_data = raw_df[raw_df[\"Country\"] == country_name].sort_values(\"Year\")\n",
    "\n",
    "    # Check if we have at least 5 years of data\n",
    "    if len(country_data) < 5:\n",
    "        raise ValueError(f\"Not enough data for {country_name} to make LSTM prediction.\")\n",
    "\n",
    "    last_5 = country_data[[\"Country_encoded\", \"Year\"]].tail(5).copy()\n",
    "\n",
    "    # Step 2: Normalize this input using same scaler\n",
    "    input_for_scaling = country_data[[\"Country_encoded\", \"Year\", \"AvgTemp_Year\",\n",
    "                                      \"Annual CO₂ emissions (per capita)\", \"Annual precipitation\"]].tail(5)\n",
    "    scaled = scaler.transform(input_for_scaling)\n",
    "    scaled_last_5 = scaled[:, :2]  # Only Country_encoded and Year as LSTM input features\n",
    "\n",
    "    # Step 3: Reshape for LSTM input\n",
    "    input_seq = scaled_last_5.reshape(1, 5, 2)\n",
    "\n",
    "    # Step 4: Predict using the LSTM model\n",
    "    pred_scaled = model.predict(input_seq)[0]\n",
    "\n",
    "    # Step 5: Inverse transform the output\n",
    "    inverse_input = np.zeros((1, 5))  # 5 columns like in scaled_df\n",
    "    inverse_input[0, 2:] = pred_scaled  # Put predicted values in correct position\n",
    "    prediction = scaler.inverse_transform(inverse_input)[0][2:]  # Extract the target columns only\n",
    "\n",
    "    return {\n",
    "        \"AvgTemp_Year\": prediction[0],\n",
    "        \"Annual CO₂ emissions (per capita)\": prediction[1],\n",
    "        \"Annual precipitation\": prediction[2]\n",
    "    }\n",
    "\n"
   ]
  },
  {
   "cell_type": "code",
   "execution_count": 134,
   "metadata": {},
   "outputs": [
    {
     "name": "stdout",
     "output_type": "stream",
     "text": [
      "1/1 [==============================] - 0s 17ms/step\n"
     ]
    },
    {
     "data": {
      "text/plain": [
       "{'AvgTemp_Year': 13.296740438779194,\n",
       " 'Annual CO₂ emissions (per capita)': 6.356959589332331,\n",
       " 'Annual precipitation': 448.71371230380504}"
      ]
     },
     "execution_count": 134,
     "metadata": {},
     "output_type": "execute_result"
    }
   ],
   "source": [
    "df_original = pd.read_csv(\"../Data/merged_df.csv\")\n",
    "\n",
    "# Reapply Country encoding so it matches the model\n",
    "df_original[\"Country_encoded\"] = le.transform(df_original[\"Country\"])\n",
    "\n",
    "# Then use:\n",
    "forecast_lstm(\"India\", 2045, raw_df=df_original, scaler=scaler, model=lstm_model, le=le)\n"
   ]
  },
  {
   "cell_type": "code",
   "execution_count": 135,
   "metadata": {},
   "outputs": [
    {
     "name": "stdout",
     "output_type": "stream",
     "text": [
      "INFO:tensorflow:Assets written to: ram://d7ad7b98-1fb2-42de-a48d-7e496df9e50d/assets\n"
     ]
    },
    {
     "data": {
      "text/plain": [
       "['../Scripts/models/lstm.pkl']"
      ]
     },
     "execution_count": 135,
     "metadata": {},
     "output_type": "execute_result"
    }
   ],
   "source": [
    "import joblib \n",
    "joblib.dump(lstm_model,\"../Scripts/models/lstm.pkl\")"
   ]
  },
  {
   "cell_type": "markdown",
   "metadata": {},
   "source": [
    "### 3. XGBoost"
   ]
  },
  {
   "cell_type": "code",
   "execution_count": 91,
   "metadata": {},
   "outputs": [
    {
     "name": "stdout",
     "output_type": "stream",
     "text": [
      "Requirement already satisfied: xgboost in c:\\users\\nikitha\\anaconda3\\lib\\site-packages (2.1.4)\n",
      "Requirement already satisfied: numpy in c:\\users\\nikitha\\anaconda3\\lib\\site-packages (from xgboost) (1.23.5)\n",
      "Requirement already satisfied: scipy in c:\\users\\nikitha\\anaconda3\\lib\\site-packages (from xgboost) (1.10.1)\n",
      "Note: you may need to restart the kernel to use updated packages.\n"
     ]
    },
    {
     "name": "stderr",
     "output_type": "stream",
     "text": [
      "WARNING: Ignoring invalid distribution -atplotlib (c:\\users\\nikitha\\anaconda3\\lib\\site-packages)\n",
      "WARNING: Ignoring invalid distribution -atplotlib (c:\\users\\nikitha\\anaconda3\\lib\\site-packages)\n",
      "DEPRECATION: pytorch-lightning 1.6.5 has a non-standard dependency specifier torch>=1.8.*. pip 23.3 will enforce this behaviour change. A possible replacement is to upgrade to a newer version of pytorch-lightning or contact the author to suggest that they release a version with a conforming dependency specifiers. Discussion can be found at https://github.com/pypa/pip/issues/12063\n",
      "\n",
      "[notice] A new release of pip is available: 23.2.1 -> 25.0.1\n",
      "[notice] To update, run: python.exe -m pip install --upgrade pip\n"
     ]
    }
   ],
   "source": [
    "pip install xgboost"
   ]
  },
  {
   "cell_type": "code",
   "execution_count": 102,
   "metadata": {},
   "outputs": [],
   "source": [
    "import pandas as pd\n",
    "import numpy as np\n",
    "from sklearn.model_selection import train_test_split\n",
    "from sklearn.preprocessing import LabelEncoder, StandardScaler\n",
    "from sklearn.multioutput import MultiOutputRegressor\n",
    "from sklearn.metrics import mean_squared_error, r2_score\n",
    "from xgboost import XGBRegressor"
   ]
  },
  {
   "cell_type": "code",
   "execution_count": 103,
   "metadata": {},
   "outputs": [],
   "source": [
    "df = pd.read_csv(\"../Data/merged_df.csv\")"
   ]
  },
  {
   "cell_type": "code",
   "execution_count": 104,
   "metadata": {},
   "outputs": [],
   "source": [
    "import joblib\n",
    "le = LabelEncoder()\n",
    "df[\"Country_encoded\"] = le.fit_transform(df[\"Country\"])\n",
    "\n",
    "joblib.dump(le, \"../Scripts/models/country_label_encoder.pkl\")\n",
    "# 🔹 Define features and targets\n",
    "X = df[[\"Country_encoded\", \"Year\"]]\n",
    "y = df[[\"AvgTemp_Year\", \"Annual CO₂ emissions (per capita)\", \"Annual precipitation\"]]\n",
    "\n",
    "# 🔹 Train-test split\n",
    "X_train, X_test, y_train, y_test = train_test_split(X, y, test_size=0.2, random_state=42)"
   ]
  },
  {
   "cell_type": "code",
   "execution_count": 105,
   "metadata": {},
   "outputs": [],
   "source": [
    "# 🔹 Scale inputs (optional, but improves convergence)\n",
    "scaler_X = StandardScaler()\n",
    "X_train_scaled = scaler_X.fit_transform(X_train)\n",
    "X_test_scaled = scaler_X.transform(X_test)"
   ]
  },
  {
   "cell_type": "code",
   "execution_count": 106,
   "metadata": {},
   "outputs": [],
   "source": [
    "model = MultiOutputRegressor(XGBRegressor(objective='reg:squarederror', n_estimators=100, random_state=42))\n",
    "model.fit(X_train_scaled, y_train)\n",
    "\n",
    "# 🔹 Predict\n",
    "y_pred = model.predict(X_test_scaled)\n",
    "y_true=y_test.values"
   ]
  },
  {
   "cell_type": "code",
   "execution_count": 107,
   "metadata": {},
   "outputs": [
    {
     "name": "stdout",
     "output_type": "stream",
     "text": [
      "\n",
      "🔍 Evaluation for AvgTemp_Year:\n",
      "  MAE     : 0.0318\n",
      "  RMSE     : 0.0518\n",
      "  R² Score : 0.9999\n",
      "\n",
      "🔍 Evaluation for Annual CO₂ emissions (per capita):\n",
      "  MAE     : 0.0091\n",
      "  RMSE     : 0.0155\n",
      "  R² Score : 1.0000\n",
      "\n",
      "🔍 Evaluation for Annual precipitation:\n",
      "  MAE     : 8.3728\n",
      "  RMSE     : 12.5208\n",
      "  R² Score : 0.9998\n"
     ]
    }
   ],
   "source": [
    "for i, label in enumerate(y.columns):\n",
    "    rmse = np.sqrt(mean_squared_error(y_test.iloc[:, i], y_pred[:, i]))\n",
    "    r2 = r2_score(y_test.iloc[:, i], y_pred[:, i])\n",
    "    mae = mean_absolute_error(y_test.iloc[:, i], y_pred[:, i])\n",
    "    print(f\"\\n🔍 Evaluation for {label}:\")\n",
    "    print(f\"  MAE     : {mae:.4f}\")\n",
    "    print(f\"  RMSE     : {rmse:.4f}\")\n",
    "    print(f\"  R² Score : {r2:.4f}\")\n",
    "    results.append({\n",
    "    \"Model\": \"XGBoost\",\n",
    "    \"Target\": label,\n",
    "    \"MAE\": mae,\n",
    "    \"RMSE\": rmse,\n",
    "    \"R2 Score\": r2\n",
    "})"
   ]
  },
  {
   "cell_type": "code",
   "execution_count": 98,
   "metadata": {},
   "outputs": [
    {
     "data": {
      "text/plain": [
       "['../Scripts/models/XGBoost.pkl']"
      ]
     },
     "execution_count": 98,
     "metadata": {},
     "output_type": "execute_result"
    }
   ],
   "source": [
    "import joblib\n",
    "joblib.dump(model,'../Scripts/models/XGBoost.pkl')"
   ]
  },
  {
   "cell_type": "code",
   "execution_count": 99,
   "metadata": {},
   "outputs": [
    {
     "name": "stdout",
     "output_type": "stream",
     "text": [
      "\n",
      "🔮 Forecast for India in 2025:\n",
      "AvgTemp_Year: 27.1826\n",
      "Annual CO₂ emissions (per capita): 1.5390\n",
      "Annual precipitation: 1351.8510\n"
     ]
    }
   ],
   "source": [
    "def predict_xgboost(country_name, year, model, label_encoder, scaler):\n",
    "    # Encode country\n",
    "    if country_name not in label_encoder.classes_:\n",
    "        raise ValueError(f\"Country '{country_name}' not found in training data.\")\n",
    "    \n",
    "    encoded_country = label_encoder.transform([country_name])[0]\n",
    "    \n",
    "    # Use DataFrame to keep feature names\n",
    "    input_features = pd.DataFrame([[encoded_country, year]], columns=[\"Country_encoded\", \"Year\"])\n",
    "    \n",
    "    # Scale\n",
    "    input_scaled = scaler.transform(input_features)\n",
    "    \n",
    "    # Predict\n",
    "    prediction = model.predict(input_scaled)[0]\n",
    "    \n",
    "    return {\n",
    "        \"AvgTemp_Year\": prediction[0],\n",
    "        \"Annual CO₂ emissions (per capita)\": prediction[1],\n",
    "        \"Annual precipitation\": prediction[2]\n",
    "    }\n",
    "\n",
    "# 🔮 Example usage\n",
    "forecast = predict_xgboost(\"India\", 2025, model, le, scaler_X)\n",
    "print(\"\\n🔮 Forecast for India in 2025:\")\n",
    "for key, value in forecast.items():\n",
    "    print(f\"{key}: {value:.4f}\")\n"
   ]
  },
  {
   "cell_type": "code",
   "execution_count": 88,
   "metadata": {},
   "outputs": [
    {
     "name": "stderr",
     "output_type": "stream",
     "text": [
      "<ipython-input-88-f35e41ef90b1>:16: UserWarning: Glyph 128202 (\\N{BAR CHART}) missing from current font.\n",
      "  plt.tight_layout()\n",
      "c:\\Users\\Nikitha\\anaconda3\\lib\\site-packages\\IPython\\core\\pylabtools.py:132: UserWarning: Glyph 128202 (\\N{BAR CHART}) missing from current font.\n",
      "  fig.canvas.print_figure(bytes_io, **kw)\n"
     ]
    },
    {
     "data": {
      "image/png": "[encoded data removed]",
      "text/plain": [
       "<Figure size 432x360 with 1 Axes>"
      ]
     },
     "metadata": {
      "needs_background": "light"
     },
     "output_type": "display_data"
    },
    {
     "data": {
      "image/png": "[encoded data removed]",
      "text/plain": [
       "<Figure size 432x360 with 1 Axes>"
      ]
     },
     "metadata": {
      "needs_background": "light"
     },
     "output_type": "display_data"
    },
    {
     "data": {
      "image/png": "[encoded data removed]",
      "text/plain": [
       "<Figure size 432x360 with 1 Axes>"
      ]
     },
     "metadata": {
      "needs_background": "light"
     },
     "output_type": "display_data"
    }
   ],
   "source": [
    "import matplotlib.pyplot as plt\n",
    "\n",
    "y_pred_df = pd.DataFrame(y_pred, columns=y.columns)\n",
    "\n",
    "for i, label in enumerate(y.columns):\n",
    "    plt.figure(figsize=(6, 5))\n",
    "    plt.scatter(y_test.iloc[:, i], y_pred_df.iloc[:, i], alpha=0.5)\n",
    "    plt.plot([y_test.iloc[:, i].min(), y_test.iloc[:, i].max()],\n",
    "             [y_test.iloc[:, i].min(), y_test.iloc[:, i].max()],\n",
    "             'r--', label=\"Perfect Fit\")\n",
    "    plt.xlabel(\"Actual\")\n",
    "    plt.ylabel(\"Predicted\")\n",
    "    plt.title(f\"📊 {label} — Actual vs Predicted\")\n",
    "    plt.legend()\n",
    "    plt.grid(True)\n",
    "    plt.tight_layout()\n",
    "    plt.show()\n"
   ]
  },
  {
   "cell_type": "code",
   "execution_count": 89,
   "metadata": {},
   "outputs": [],
   "source": [
    "reg_results=pd.DataFrame(results)"
   ]
  },
  {
   "cell_type": "code",
   "execution_count": 90,
   "metadata": {},
   "outputs": [],
   "source": [
    "reg_results.to_csv('../Data/results/Regression_results.csv')"
   ]
  },
  {
   "cell_type": "code",
   "execution_count": null,
   "metadata": {},
   "outputs": [],
   "source": []
  },
  {
   "cell_type": "code",
   "execution_count": 191,
   "metadata": {},
   "outputs": [
    {
     "name": "stdout",
     "output_type": "stream",
     "text": [
      "\n",
      "📊 Classification Report:\n",
      "                      precision    recall  f1-score   support\n",
      "\n",
      "             Drought       0.66      0.65      0.65       211\n",
      "          Earthquake       0.73      0.66      0.69       510\n",
      "Extreme temperature        0.71      0.50      0.59       243\n",
      "               Flood       0.75      0.75      0.75      1625\n",
      "  Insect infestation       0.74      0.64      0.69        77\n",
      "           Landslide       0.58      0.59      0.58       439\n",
      " Mass movement (dry)       1.00      0.75      0.86        60\n",
      "               Storm       0.68      0.75      0.72      1032\n",
      "   Volcanic activity       0.42      0.44      0.43       142\n",
      "            Wildfire       0.48      0.55      0.51       247\n",
      "\n",
      "            accuracy                           0.68      4586\n",
      "           macro avg       0.68      0.63      0.65      4586\n",
      "        weighted avg       0.69      0.68      0.68      4586\n",
      "\n"
     ]
    },
    {
     "data": {
      "image/png": "[encoded data removed]",
      "text/plain": [
       "<Figure size 720x432 with 2 Axes>"
      ]
     },
     "metadata": {
      "needs_background": "light"
     },
     "output_type": "display_data"
    },
    {
     "name": "stdout",
     "output_type": "stream",
     "text": [
      "✅ Model and encoders saved to 'Models/' directory.\n"
     ]
    }
   ],
   "source": [
    "import pandas as pd\n",
    "import numpy as np\n",
    "import os\n",
    "from sklearn.model_selection import train_test_split\n",
    "from sklearn.ensemble import RandomForestClassifier\n",
    "from sklearn.metrics import classification_report, confusion_matrix\n",
    "from sklearn.preprocessing import LabelEncoder, StandardScaler\n",
    "import seaborn as sns\n",
    "import matplotlib.pyplot as plt\n",
    "import joblib\n",
    "\n",
    "# Step 1: Load Data\n",
    "df = pd.read_csv(\"../Data/merged_df.csv\")\n",
    "\n",
    "# Step 2: Select relevant features and drop missing\n",
    "features = [\"Country\", \"Latitude\", \"Longitude\", \"AvgTemp_Year\",\n",
    "            \"Annual CO₂ emissions (per capita)\", \"Annual precipitation\", \"CPI\"]\n",
    "target = \"Disaster Type\"\n",
    "df = df[features + [target]].dropna()\n",
    "\n",
    "# Step 3: Convert Latitude and Longitude to numeric\n",
    "def convert_lat_lon(val):\n",
    "    if isinstance(val, str):\n",
    "        if val[-1] in ['N', 'E']:\n",
    "            return float(val[:-1])\n",
    "        elif val[-1] in ['S', 'W']:\n",
    "            return -float(val[:-1])\n",
    "    return np.nan\n",
    "\n",
    "df[\"Latitude\"] = df[\"Latitude\"].apply(convert_lat_lon)\n",
    "df[\"Longitude\"] = df[\"Longitude\"].apply(convert_lat_lon)\n",
    "df.dropna(subset=[\"Latitude\", \"Longitude\"], inplace=True)\n",
    "\n",
    "# Step 4: Encode Categorical Columns\n",
    "le_country = LabelEncoder()\n",
    "df[\"Country_encoded\"] = le_country.fit_transform(df[\"Country\"])\n",
    "\n",
    "le_target = LabelEncoder()\n",
    "df[\"Disaster_Type_Label\"] = le_target.fit_transform(df[\"Disaster Type\"])\n",
    "\n",
    "# Step 5: Prepare X and y\n",
    "X = df[[\"Country_encoded\", \"Latitude\", \"Longitude\", \"AvgTemp_Year\",\n",
    "        \"Annual CO₂ emissions (per capita)\", \"Annual precipitation\", \"CPI\"]]\n",
    "y = df[\"Disaster_Type_Label\"]\n",
    "\n",
    "# Step 6: Normalize Features\n",
    "scaler = StandardScaler()\n",
    "X_scaled = scaler.fit_transform(X)\n",
    "\n",
    "# Step 7: Train-Test Split\n",
    "X_train, X_test, y_train, y_test = train_test_split(X_scaled, y, test_size=0.2, random_state=42, stratify=y)\n",
    "\n",
    "# Step 8: Train the Model\n",
    "clf = RandomForestClassifier(random_state=42)\n",
    "clf.fit(X_train, y_train)\n",
    "\n",
    "# Step 9: Predictions and Evaluation\n",
    "y_pred = clf.predict(X_test)\n",
    "\n",
    "print(\"\\n📊 Classification Report:\")\n",
    "print(classification_report(y_test, y_pred, target_names=le_target.classes_))\n",
    "\n",
    "# Step 10: Confusion Matrix\n",
    "cm = confusion_matrix(y_test, y_pred)\n",
    "plt.figure(figsize=(10, 6))\n",
    "sns.heatmap(cm, annot=True, fmt='d', cmap='YlGnBu',\n",
    "            xticklabels=le_target.classes_, yticklabels=le_target.classes_)\n",
    "plt.title(\"Confusion Matrix - Disaster Type Classification\")\n",
    "plt.xlabel(\"Predicted\")\n",
    "plt.ylabel(\"Actual\")\n",
    "plt.tight_layout()\n",
    "plt.show()\n",
    "\n",
    "# Step 11: Save Model and Encoders\n",
    "os.makedirs(\"Models\", exist_ok=True)\n",
    "joblib.dump(clf, \"Models/disaster_rf_model.pkl\")\n",
    "joblib.dump(le_country, \"Models/country_encoder.pkl\")\n",
    "joblib.dump(le_target, \"Models/disaster_label_encoder.pkl\")\n",
    "joblib.dump(scaler, \"Models/feature_scaler.pkl\")\n",
    "\n",
    "print(\"✅ Model and encoders saved to 'Models/' directory.\")\n"
   ]
  },
  {
   "cell_type": "code",
   "execution_count": null,
   "metadata": {},
   "outputs": [
    {
     "name": "stdout",
     "output_type": "stream",
     "text": [
      "Updated and saved country_encoder.pkl with full country list.\n",
      "\n",
      "🌍 Country: India\n",
      "📅 Year: 2003\n",
      "🚨 Predicted Disaster Type: Earthquake\n"
     ]
    },
    {
     "name": "stderr",
     "output_type": "stream",
     "text": [
      "C:\\Users\\Nikitha\\AppData\\Roaming\\Python\\Python38\\site-packages\\sklearn\\base.py:450: UserWarning: X does not have valid feature names, but StandardScaler was fitted with feature names\n",
      "  warnings.warn(\n"
     ]
    }
   ],
   "source": [
    "import joblib\n",
    "import numpy as np\n",
    "\n",
    "unique_countries = df[\"Country\"].dropna().unique()\n",
    "\n",
    "# Fit LabelEncoder\n",
    "le_country = LabelEncoder()\n",
    "le_country.fit(unique_countries)\n",
    "\n",
    "# Save the encoder\n",
    "joblib.dump(le_country, \"../Scripts/models/country_encoder.pkl\")\n",
    "print(\"Updated and saved country_encoder.pkl with full country list.\")\n",
    "\n",
    "# Load models and encoders\n",
    "model = joblib.load(\"../Scripts/models/disaster_rf_model.pkl\")\n",
    "le_target = joblib.load(\"../Scripts/models/disaster_label_encoder.pkl\")\n",
    "scaler = joblib.load(\"../Scripts/models/feature_scaler.pkl\")\n",
    "\n",
    "# Country → Latitude/Longitude mapping\n",
    "country_coords = {\n",
    "    \"India\": (20.5937, 78.9629),\n",
    "    \"United States\": (37.0902, -95.7129),\n",
    "    \"Brazil\": (-14.2350, -51.9253),\n",
    "    \"Japan\": (36.2048, 138.2529),\n",
    "    \"Australia\": (-25.2744, 133.7751),\n",
    "    \"Germany\": (51.1657, 10.4515),\n",
    "    \"France\": (46.6034, 1.8883),\n",
    "    \"China\": (35.8617, 104.1954),\n",
    "    \"Canada\": (56.1304, -106.3468),\n",
    "    \"South Africa\": (-30.5595, 22.9375)\n",
    "}\n",
    "\n",
    "# Step 1: Get user input\n",
    "country = input(\"Enter Country Name (e.g., India): \").strip()\n",
    "year = int(input(\"Enter Year: \"))\n",
    "\n",
    "# Dummy/average climate inputs (replace with your predictors or model outputs)\n",
    "avg_temp = 24.0\n",
    "co2 = 1.8\n",
    "precip = 900\n",
    "cpi = 3.5\n",
    "\n",
    "# Step 2: Get Lat/Lon from dictionary\n",
    "if country not in country_coords:\n",
    "    raise ValueError(f\"❌ Country '{country}' not available in current list.\")\n",
    "lat, lon = country_coords[country]\n",
    "\n",
    "# Step 3: Prepare input vector\n",
    "country_encoded = le_country.transform([country])[0]\n",
    "features = np.array([[country_encoded, lat, lon, avg_temp, co2, precip, cpi]])\n",
    "features_scaled = scaler.transform(features)\n",
    "\n",
    "# Step 4: Predict\n",
    "pred_label = model.predict(features_scaled)[0]\n",
    "predicted_disaster = le_target.inverse_transform([pred_label])[0]\n",
    "\n",
    "print(f\"\\n🌍 Country: {country}\")\n",
    "print(f\"📅 Year: {year}\")\n",
    "print(f\"🚨 Predicted Disaster Type: {predicted_disaster}\")\n"
   ]
  }
 ],
 "metadata": {
  "kernelspec": {
   "display_name": "base",
   "language": "python",
   "name": "python3"
  },
  "language_info": {
   "codemirror_mode": {
    "name": "ipython",
    "version": 3
   },
   "file_extension": ".py",
   "mimetype": "text/x-python",
   "name": "python",
   "nbconvert_exporter": "python",
   "pygments_lexer": "ipython3",
   "version": "3.8.5"
  }
 },
 "nbformat": 4,
 "nbformat_minor": 4
}
